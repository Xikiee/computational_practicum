{
 "cells": [
  {
   "attachments": {},
   "cell_type": "markdown",
   "id": "5b607a17",
   "metadata": {
    "cell_marker": "\"\"\"",
    "deletable": false,
    "editable": false,
    "nbgrader": {
     "grade": false,
     "locked": true,
     "solution": false
    }
   },
   "source": [
    "# CP 2024-25: Assignment Lecture 4 - Numerical integration and numerical differentiation"
   ]
  },
  {
   "cell_type": "markdown",
   "id": "d8e14841",
   "metadata": {},
   "source": [
    "### General Guidelines\n",
    "\n",
    "> ⚠️⚠️⚠️ READ CAREFULLY ⚠️⚠️⚠️\n",
    "\n",
    "- Do not add, delete or create cells, write the answer only in the space marked with the three dots (`...`). Where function skeletons are provided, it is assumed that that function can be called again with different inputs somewhere else. So be careful to write code outside of functions.\n",
    "  - Function should be ['pure'](https://en.wikipedia.org/wiki/Pure_function), thus no side effects, unless otherwise specified.\n",
    "- Run the the first cell to import all libraries when opening the notebook before running your own code.\n",
    "- Read carefully what is required to be printed/returned/plotted in the answer. Please do not output what is not asked for. \n",
    "  - If you used the print function for debugging, comment it out ( Ctlr + / ) before submitting\n",
    "- All plots should have title, xlabel, ylabel, and legend (if there are more than one curve on the plot)\n",
    "- Use the `help()` function, consult python documentation when using new functions, or do a web search and consult [stackoverflow](https://stackoverflow.com/questions/tagged/python)\n",
    "- Please read the error messages if you get any, and try to understand what they mean. Debugging code is an essential skill to develop.\n",
    "- You can use `%debug` to start an IPython console in a cell (or a scratchpad cell!) after an exception has occurred to try to debug.\n",
    "- You can use `%pdb` to toggle the Python DeBugger (pdb) auto start after an unhandled exception.\n",
    "- In the assignments you will find some tests put in place, to help you verify your solution. If these fail you are certain you did something wrong, thus look at the hints they provide. But passing these tests does __not__ mean your solution is actually correct.\n",
    "\n",
    "Make sure you use `python3.12` and the package versions as stated in the provided `requirements.txt`. This file should also be on the course page."
   ]
  },
  {
   "cell_type": "code",
   "execution_count": null,
   "id": "8f844cb7",
   "metadata": {
    "nbgrader": {
     "grade": false,
     "locked": true,
     "solution": false
    }
   },
   "outputs": [],
   "source": [
    "# Importing relevant libraries in the assignment\n",
    "\n",
    "# This will create static plots (no zooming etc.)\n",
    "# otherwise try just plain `%matplotlib`, or install a backend such as ipympl or PyQt5 and\n",
    "# do or `%matplotlib ipympl` `%matplotlib qt`\n",
    "%matplotlib inline\n",
    "\n",
    "REPEAT_IMPORTS = True\n",
    "\n",
    "if REPEAT_IMPORTS or (\"IMPORTED_ALL\" not in globals()):  # To save you a bit of time\n",
    "\n",
    "    def print_import_info(package):\n",
    "        print(\n",
    "            \"Successfully imported %-15s \\tVersion: %10s\"\n",
    "            % (package.__name__, package.__version__)\n",
    "        )\n",
    "\n",
    "    ### Standard library imports\n",
    "\n",
    "    import sys\n",
    "\n",
    "    print(\"Python version {}\".format(sys.version))\n",
    "    if sys.version_info < (3, 12):\n",
    "        print(\n",
    "            \"\\u001b[31m\"  # red\n",
    "            \"\\u001b[1m\"  # bold\n",
    "            \"WARNING: Use Python 3.12 or newer to not encounter any errors or \"\n",
    "            \"problems later on.\\n\"\n",
    "            \"\\u001b[0m\"  # reset\n",
    "        )\n",
    "    del sys  # Do not need it anymore\n",
    "\n",
    "    from typing import Callable\n",
    "\n",
    "    ### Import third party libraries\n",
    "    # Initialize self assessment helper\n",
    "    import otter\n",
    "\n",
    "    grader = otter.Notebook(\"Assignment_Q1_L4.ipynb\")\n",
    "\n",
    "    import numpy as np\n",
    "    import pandas as pd\n",
    "\n",
    "    print_import_info(np)\n",
    "    import scipy\n",
    "\n",
    "    print_import_info(scipy)\n",
    "    import matplotlib\n",
    "    import matplotlib.pyplot as plt\n",
    "\n",
    "    print_import_info(matplotlib)\n",
    "\n",
    "    IMPORTED_ALL = True\n",
    "    print(\"Finished importing packages\")\n",
    "else:\n",
    "    print(\"Already imported all packages\")\n",
    "\n",
    "PltAxes = matplotlib.axes.Axes | matplotlib.axes._axes.Axes\n",
    "PlotType = tuple[\n",
    "    matplotlib.figure.Figure,\n",
    "    list[PltAxes],\n",
    "]"
   ]
  },
  {
   "cell_type": "markdown",
   "id": "2253fdac",
   "metadata": {},
   "source": [
    "## Part 1: Rigorous enthalpy computation (numerical integration)"
   ]
  },
  {
   "cell_type": "markdown",
   "id": "62a74fff",
   "metadata": {},
   "source": [
    "The value of the entalphy of a given species $j$ at an arbitrary temperaure $T_{eval}$ can be computed according to the formula:\n",
    "$$\n",
    "\\tilde{H}_j(T) = \\tilde{H}_j^0 + \\int_{T^0}^{T_{eval}} \\tilde{c}_{p_j} dT\n",
    "$$\n",
    "\n",
    "Where:\n",
    "\n",
    "- $\\tilde{H}_j^0$ $[J/(kmol)]$ is the standard formation enthalpy of species $j$\n",
    "- $\\tilde{c}_{p_j}$ $[J/(kmol \\cdot K)]$ is the specific molar heat capacity at constant pressure of species $j$ \n",
    "- ${T^0}$ is the Standard temperature ($298.15 K$)\n",
    "\n",
    "$\\tilde{c}_{p_j}$ is a quantity dependent on the temperature, thus we need to account for a function describing this relation. \n",
    "\n",
    "An example of it is the **Hyperbolic Function** for inorganic and organic compounds (Perry's Chemical Engineering Handbook - *Alias:* 'The Chemical Engineering Bible'):\n",
    "$$\n",
    "\\tilde{c}_{p_j} = C1 + C2 \\left[ \\frac{C3/T}{sinh(C3/T)} \\right]^2 + C4 \\left[ \\frac{C5/T}{cosh(C5/T)} \\right]^2\n",
    "$$\n",
    "\n",
    "Here, the coefficients $C1$, $C2$, $C3$, $C4$, and $C5$ are dependent on the species $j$ and are regressed experimentally (we will talk about *Regression* in Q2 - Lecture 6).\n",
    "\n",
    "In this example, we want to evaluate the specific enthalpy of carbon dioxide ($\\text{CO}_2$) at $T_{eval} = 500K$. According to Perry's Chemical Engineering Handbook, the coefficients for carbon dioxide are the following:\n",
    "\n",
    "- $C1 = 0.2937 \\cdot 10^{5}$\n",
    "- $C2 = 0.3454 \\cdot 10^{5}$\n",
    "- $C3 = 1.428 \\cdot 10^{3}$\n",
    "- $C4 = 0.264 \\cdot 10^{5}$\n",
    "- $C5 = 588$\n",
    "\n",
    "Given the standard formation enthalpy of $\\text{CO}_2$ equal to $-393.52 \\: kJ/mol$, we can compute the difference given by the increment in temperature.\n",
    "\n",
    "To achieve that we need to solve the following integral (*try to do it analytically!* ;)):\n",
    "$$\n",
    "\\Delta H_j(T) = \\tilde{H}_j(T) - \\tilde{H}_j^0 =  \\int_{T^0}^{T_{eval}} C1 + C2 \\left[ \\frac{C3/T}{sinh(C3/T)} \\right]^2 + C4 \\left[ \\frac{C5/T}{cosh(C5/T)} \\right]^2 dT\n",
    "$$\n",
    "\n",
    "\n",
    "In this exercise we will compute the enthalpy at a given temperature by using different numerical techniques and by performing the following steps: \n",
    "\n",
    "1. **Define the Hyperbolic Function for $c_p$ variation in Python**\n",
    "\n",
    "2. **Implement the rectangle left method**\n",
    "\n",
    "3. **Implement the rectangle right method**\n",
    "\n",
    "4. **Implement the trapezoid method**\n",
    "\n",
    "***Warning!:*** *throughout the whole assignment, please consider a fixed step size for domain discretization.*\n",
    "\n",
    "***Warning! (pt.2):*** *throughout the whole assignment, when we ask to discretize a domain with extremes $[a,b]$ in $N$ points, the extremes $a$ and $b$ are **included** in the $N$ points.*"
   ]
  },
  {
   "cell_type": "markdown",
   "id": "71b5a86f",
   "metadata": {},
   "source": [
    "### Implementation details (1)\n",
    "**Hyperbolic function for heat capacity**\n",
    "   - Implement the function `cp_hyperbolic_function(temperature)`.\n",
    "   - The function should take as input:\n",
    "     - `temperature`: temperature of the system at which we evaluate the cp of carbon dioxide\n",
    "   - The function should return the value of cp of CO2 `cp_CO2` at the given `temperature` according to the hyperbolic function.\n",
    "   - Please use `numpy` to implement hyperbolic sine and hyperbolic cosine functions. Consult the numpy documentation to find the syntax."
   ]
  },
  {
   "cell_type": "code",
   "execution_count": null,
   "id": "2a3db6a4",
   "metadata": {
    "tags": [
     "otter_answer_cell"
    ]
   },
   "outputs": [],
   "source": [
    "def cp_hyperbolic_function(temperature: float) -> float:\n",
    "    \"\"\"Function returning the value of the cp of carbon dioxide at a given temperature\n",
    "\n",
    "    Args:\n",
    "        temperature (float): temperature of the system at which we evaluate the cp of carbon dioxide\n",
    "\n",
    "    Returns:\n",
    "        float: cp_CO2. The heat capacity at specified temperature\n",
    "    \"\"\"\n",
    "    \n",
    "    c1 = 0.2937e5\n",
    "    c2 = 0.3454e5\n",
    "    c3 = 1.428e3\n",
    "    c4 = 0.264e5\n",
    "    c5 = 588\n",
    "\n",
    "    cp_CO2 = c1 + c2 * ((c3/temperature)/(np.sinh(c3/temperature)))**2 + c4*((c5/temperature)/(np.cosh(c5/temperature)))**2\n",
    "    return cp_CO2"
   ]
  },
  {
   "cell_type": "code",
   "execution_count": null,
   "id": "a245cc77",
   "metadata": {
    "deletable": false,
    "editable": false
   },
   "outputs": [],
   "source": [
    "grader.check(\"q1.1\")"
   ]
  },
  {
   "cell_type": "code",
   "execution_count": null,
   "id": "ea132e7f",
   "metadata": {},
   "outputs": [],
   "source": [
    "# Let's have a look at the function to be integrated\n",
    "x_grid = np.linspace(298.15, 500)\n",
    "fig, ax = plt.subplots()\n",
    "ax.plot(x_grid, cp_hyperbolic_function(x_grid))\n",
    "ax.set_xlabel(\"T [K]\")\n",
    "ax.set_ylabel(\"$c_p$ [J/K/kmol]\")\n",
    "ax.grid()"
   ]
  },
  {
   "cell_type": "code",
   "execution_count": null,
   "id": "92654a9d",
   "metadata": {},
   "outputs": [],
   "source": [
    "# Define discretization specs for numerical integration\n",
    "a = 298.15  # left boundary\n",
    "b = 500.0  # right boundary\n",
    "n_points = 10  # number of grid points"
   ]
  },
  {
   "cell_type": "markdown",
   "id": "c43f78ab",
   "metadata": {},
   "source": [
    "### Implementation details (2)\n",
    "**Rectangle method (left corner)**\n",
    "   - Implement the function `rectangles_left(func, a, b, N)`.\n",
    "   - The function should take as input:\n",
    "     - `func`: the function to integrate\n",
    "     - `a`: the start of the interval\n",
    "     - `b`: the end of the interval\n",
    "     - `N`: the number of points for the domain discretization\n",
    "   - The function should return the integral of `func` over `[a, b]` by applying the left rectangle method for numerical integration, where the value of the function at the left end of each subinterval is used to approximate the area of the rectangle."
   ]
  },
  {
   "cell_type": "code",
   "execution_count": null,
   "id": "8e362406",
   "metadata": {
    "tags": [
     "otter_answer_cell"
    ]
   },
   "outputs": [],
   "source": [
    "# Rectangles method for numerical integration (left corner)\n",
    "def rectangles_left(func: Callable, a: float, b: float, N: int) -> float:\n",
    "    \"\"\"Function implementing a rectangle method for numerical integration\n",
    "\n",
    "    Args:\n",
    "        func (Callable): A function to be integrated\n",
    "        a (float): Left domain boundary\n",
    "        b (float): Right domain boundary\n",
    "        N (int): Number of points for the domain discretization\n",
    "\n",
    "    Returns:\n",
    "        float: The value of the integral defined in the domain [a,b]\n",
    "    \"\"\"\n",
    "\n",
    "    h = (a+ b)/(N-1)\n",
    "    integral = 0\n",
    "    x = np.linspace(a,b,N)\n",
    "    for i in range(N-1):\n",
    "        integral += func(x[i])*h\n",
    "\n",
    "    return integral"
   ]
  },
  {
   "cell_type": "code",
   "execution_count": null,
   "id": "7bf5e932",
   "metadata": {
    "deletable": false,
    "editable": false
   },
   "outputs": [],
   "source": [
    "grader.check(\"q1.2\")"
   ]
  },
  {
   "cell_type": "code",
   "execution_count": null,
   "id": "1dcffffe",
   "metadata": {},
   "outputs": [],
   "source": [
    "# Compute the integral value using rectangles method (right corner)\n",
    "integral_rl = rectangles_left(func=cp_hyperbolic_function, a=a, b=b, N=n_points)\n",
    "\n",
    "print(f\"The result of the integral defined in [{a},{b}] is {integral_rl/1000} $J/mol$\")"
   ]
  },
  {
   "cell_type": "markdown",
   "id": "01482428",
   "metadata": {},
   "source": [
    "### Implementation details (3)\n",
    "**Rectangle method (right corner)**\n",
    "   - Implement the function `rectangles_right(func, a, b, N)`.\n",
    "   - The function should take as input:\n",
    "     - `func`: the function to integrate\n",
    "     - `a`: the start of the interval\n",
    "     - `b`: the end of the interval\n",
    "     - `N`: the number of points for the domain discretization\n",
    "   - The function should return the integral of `func` over `[a, b]` by applying the right rectangle method for numerical integration, where the value of the function at the right end of each subinterval is used to approximate the area of the rectangle."
   ]
  },
  {
   "cell_type": "code",
   "execution_count": null,
   "id": "908c6ce5",
   "metadata": {
    "tags": [
     "otter_answer_cell"
    ]
   },
   "outputs": [],
   "source": [
    "# Rectangles method for numerical integration (right corner)\n",
    "def rectangles_right(func: Callable, a: float, b:float, N:int)->float:\n",
    "    \"\"\"\"\n",
    "    func: input the function which you want to call\n",
    "    a   : initial point \n",
    "    b   : end point\n",
    "    N   : number of points\n",
    "\n",
    "    About function: \n",
    "    This functions calculates the integral of a function using the rectangle right method\n",
    "    \"\"\"\n",
    "    \n",
    "    h = (b-a)/(N-1)\n",
    "    # x = a+h\n",
    "    # for i in range(0,N-1):\n",
    "    #     integration +=func(x)*h\n",
    "    #     x += h\n",
    "    # return integration\n",
    "\n",
    "\n",
    "    x = np.linspace(a+h,b,N-1)\n",
    "\n",
    "\n",
    "    integration = 0\n",
    "    for i in range(0,N-1):\n",
    "        integration += func(x[i])*h\n",
    "    return integration\n",
    "\n",
    "\n"
   ]
  },
  {
   "cell_type": "code",
   "execution_count": null,
   "id": "37865b13",
   "metadata": {
    "tags": [
     "otter_answer_cell"
    ]
   },
   "outputs": [],
   "source": [
    "# Compute the integral value using rectangles method (right corner)\n",
    "integral_rr = rectangles_right(cp_hyperbolic_function,a,b,n_points)\n",
    "print(f\"The result of the integral defined in [{a},{b}] is {integral_rr/1000} $J/mol$\")"
   ]
  },
  {
   "cell_type": "code",
   "execution_count": null,
   "id": "dc416350",
   "metadata": {
    "deletable": false,
    "editable": false
   },
   "outputs": [],
   "source": [
    "grader.check(\"q1.3\")"
   ]
  },
  {
   "cell_type": "markdown",
   "id": "2ef918ad",
   "metadata": {},
   "source": [
    "### Implementation details (4)\n",
    "   - Implement the function `composite_trapezoid(func, a, b, N)`.\n",
    "   - The function should take as input:\n",
    "     - `func`: the function to integrate\n",
    "     - `a`: the start of the interval\n",
    "     - `b`: the end of the interval\n",
    "     - `N`: the number of points for the domain discretization\n",
    "   - The function should return the integral of `func` over `[a, b]` by applying the trapezoid method for numerical integration, where each pair of adjacent points forms a trapezoid whose area is calculated and summed to find the total integral."
   ]
  },
  {
   "cell_type": "code",
   "execution_count": null,
   "id": "b30a548d",
   "metadata": {
    "tags": [
     "otter_answer_cell"
    ]
   },
   "outputs": [],
   "source": [
    "def composite_trapezoid(func:Callable, a:float, b:float, N:int)->float:\n",
    "    \"\"\"\"\n",
    "    func: input the function which you want to call\n",
    "    a   : initial point \n",
    "    b   : end point\n",
    "    N   : number of points\n",
    "\n",
    "    About function: \n",
    "    This functions calculates the integral of a function using the trapezoid method\n",
    "    \"\"\"\n",
    "\n",
    "    h = (b-a)/(N-1)\n",
    "    x = np.linspace(a,b,N)\n",
    "\n",
    "    integration = 0\n",
    "    for i in range(0,N-1):\n",
    "\n",
    "        integration += h/2*(func(x[i]) + func(x[i+1]))\n",
    "\n",
    "    return integration"
   ]
  },
  {
   "cell_type": "code",
   "execution_count": null,
   "id": "401884c3",
   "metadata": {
    "tags": [
     "otter_answer_cell"
    ]
   },
   "outputs": [],
   "source": [
    "# Compute the integral value using composite trapezoid\n",
    "\n",
    "integral_tr = composite_trapezoid(cp_hyperbolic_function,a,b,n_points)\n",
    "\n",
    "print(f\"The result of the integral defined in [{a},{b}] is {integral_tr/1000} $J/mol$\")"
   ]
  },
  {
   "cell_type": "code",
   "execution_count": null,
   "id": "e3825651",
   "metadata": {
    "deletable": false,
    "editable": false
   },
   "outputs": [],
   "source": [
    "grader.check(\"q1.4\")"
   ]
  },
  {
   "cell_type": "markdown",
   "id": "9de4ce42",
   "metadata": {},
   "source": [
    "### Reflect on the results\n",
    "You got three different values for the enthalpy computed using three different numerical integration methods. \n",
    "\n",
    "In terms of magnitude, the computed enthalpy are:\\\n",
    "\\\n",
    "$ \\text{enthalpy}_\\text{RT} > \\text{enthalpy}_\\text{CT} > \\text{enthalpy}_\\text{LT} $\n",
    "\n",
    "With:\n",
    "\n",
    "- RT (Right Rectangle)\n",
    "- CT (Composite Trapezoid)  \n",
    "- LT (Left Rectangle)\n",
    "\n",
    "Can you explain why you obtain this order? Which result would you choose in this case? (_Hint: Look at the integrand function_)\n"
   ]
  },
  {
   "cell_type": "markdown",
   "id": "70a57904",
   "metadata": {},
   "source": [
    "The right triangle will always take more then the actaul value, while the left triangle will always take less then. Mean while the composite Trapezoid will take the mean averaging these values and take the best of both worlds. "
   ]
  },
  {
   "cell_type": "markdown",
   "id": "af137f26",
   "metadata": {},
   "source": [
    "## Part 2: Plug Flow Reactor performance (numerical integration)\n",
    "In this exercise, you will apply numerical integration techniques to solve the design equation for a Plug Flow Reactor (PFR). The design equation describes the relationship between the concentration of reactants and the reactor volume, and solving this equation is crucial for designing efficient chemical reactors.\n",
    "\n",
    "**You will try to solve the following design problem:**"
   ]
  },
  {
   "cell_type": "markdown",
   "id": "9980bd5c",
   "metadata": {},
   "source": [
    "The rate of a homogeneous gas reaction $ A \\rightarrow 3B$ was measured at $520K$ as:\n",
    "$$\n",
    "-r_A = kC_A^{1/2}   \\quad    [\\text{mol/liter} \\cdot \\text{s}]\n",
    "$$\n",
    "Here, the rate constant $k$ is 0.03 [-].\n",
    "\n",
    "Find the space-time ($ \\tau $) needed for **70% conversion** ($\\Chi_{Af}$) of a feed constituted by 50% A and 50% inert reacting in a PFR operating at 520K and 5 atm ($ C_{A0} = 0.0625 \\: \\text{mol/liter}$).\n",
    "\n",
    "*Recall: In a plug flow reactor (PFR), space-time is the time required for a volume of fluid to pass through the reactor, essentially representing the residence time for the reactants. It is calculated as the ratio of reactor volume $V$ to volumetric flowrate $F$. For a tubular PFR, the length can then be simply computed as $L = \\tau F/A$.*\n",
    "\n",
    "For this stoichiometry and with 50% inerts, two volumes of feed gas would give four volumes of completely converted product gas; thus, the expansion factor $\\epsilon_A$ can be computed as:\n",
    "$$\n",
    "\\epsilon_A = \\frac{4-2}{2} = 1\n",
    "$$\n",
    "\n",
    "The space-time can be evaluated through the design equation for PFR:\n",
    "$$\n",
    "\\tau = C_{A0} \\int_0^{X_{f}} \\frac{d \\Chi_{A}}{-r_A}\n",
    "$$\n",
    "\n",
    "Specifically, for the described problem, the design equation becomes as follows:\n",
    "$$\n",
    "\\tau = C_{A0} \\int_0^{X_{Af}} \\frac{d \\Chi_{A}}{kC_{A0}^{1/2} \\left( \\frac{1-\\Chi_{A}}{1+\\epsilon_A\\Chi_{A}} \\right)^{1/2}} = \\frac{C_{A0}^{1/2}}{k} \\int_0^{0.7} \\left( \\frac{1+\\Chi_{A}}{1-\\Chi_{A}} \\right)^{1/2} d \\Chi_{A}\n",
    "$$"
   ]
  },
  {
   "cell_type": "markdown",
   "id": "ecbd3c87",
   "metadata": {},
   "source": [
    "### Numerical implementation: High level task description\n",
    "In chemical engineering, many problems involve solving complex integrals, such as the design equation for a Plug Flow Reactor (PFR). These integrals often do not have analytical solutions, especially when dealing with real-world data and complex reaction kinetics.\n",
    "\n",
    "Quadrature methods, such as Simpson's 1/3 rule, provide a way to approximate these integrals numerically. By discretizing the domain and using polynomial approximations, we can achieve accurate results that are essential for designing efficient chemical reactors. Numerical integration helps us solve the complex definite integrals, making it possible to find practical and usable solutions in engineering.\n",
    "\n",
    "In this exercise we want to implement the Simpson's 1/3 Rule to solve the above-described problem. We will perform the \n",
    "\n",
    "1. **Implement Simpson's 1/3 Rule for a Single Interval**\n",
    "   - Create a function `simpson` that computes the integral of a given function over a single interval [a, b] using Simpson's 1/3 rule.\n",
    "   - Specific instructions, function prompt and docstring are given below\n",
    "\n",
    "2. **Implement Composite Simpson's 1/3 Rule method**\n",
    "   - Create a function `compositeSimpson` that applies the `simpson` function across a discretized grid to compute the integral over the entire domain.\n",
    "   - Specific instructions, function prompt and docstring are given below\n",
    "\n",
    "3. **Solve the PFR design equation**\n",
    "   - Solve the given problem by making use of the Composite Simpson's 1/3 method you implemented. Discover what the necessary space-time $\\tau$ is in order to achieve the desired conversion! :)\n",
    "\n",
    "4. **Check your solution against an advanced built-in Python method for numerical integration**\n",
    "   - You will use `scipy.integrate.quad` to solve the same integral using adaptive quadrature (i.e., adaptive varying step size)."
   ]
  },
  {
   "cell_type": "markdown",
   "id": "62878e15",
   "metadata": {},
   "source": [
    "### Implementation details (1)\n",
    "**Simpson's 1/3 Rule for a Single Interval**\n",
    "   - Implement the function `simpson(anyFunction, a, b)`.\n",
    "   - The function should take as input:\n",
    "     - `anyFunction`: the function to integrate\n",
    "     - `a`: the start of the interval\n",
    "     - `b`: the end of the interval\n",
    "   - The function should return the integral `res` of `f` over [a, b] using Simpson's 1/3 rule."
   ]
  },
  {
   "cell_type": "code",
   "execution_count": null,
   "id": "c86a01c7",
   "metadata": {
    "tags": [
     "otter_answer_cell"
    ]
   },
   "outputs": [],
   "source": [
    "def simpson(anyFunction: Callable, a: float, b: float) -> float:\n",
    "    \"\"\"Method that calculates the integral of a given function using the Simpson's 1/3 method\n",
    "\n",
    "    Args:\n",
    "        anyFunction (Callable): function of which integral is to be calculated\n",
    "        a (float): the left integration boundary\n",
    "        b (float): the right integration boundary\n",
    "\n",
    "    Returns:\n",
    "        float: integral of given function\n",
    "    \"\"\"\n",
    "\n",
    "    h = (b-a)/2\n",
    "    res = h/3*(anyFunction(a) + 4*anyFunction((a+b)/2) + anyFunction(b))\n",
    "    return res"
   ]
  },
  {
   "cell_type": "code",
   "execution_count": null,
   "id": "64a2929e",
   "metadata": {
    "deletable": false,
    "editable": false
   },
   "outputs": [],
   "source": [
    "grader.check(\"q2.1\")"
   ]
  },
  {
   "cell_type": "markdown",
   "id": "81c336cb",
   "metadata": {},
   "source": [
    "### Implementation details (2)\n",
    "**Composite Simpson's 1/3 method**\n",
    "   - Implement the function `compositeSimpson(anyFunction, a, b, N)`.\n",
    "   - The function should take as input:\n",
    "     - `anyFunction`: the function to integrate\n",
    "     - `a`: the start of the interval\n",
    "     - `b`: the end of the interval\n",
    "     - `N`: the number of points for the domain discretization (must be odd, greater or equal to 3)\n",
    "   - The function should return the integral (as a float) of `anyFunction` over [a, b] by applying Simpson's 1/3 rule to each subinterval and summing them up --> Composite Simpson's 1/3 method.\n",
    "   - The function should return none if the conditions on the number of discretization points is not met."
   ]
  },
  {
   "cell_type": "code",
   "execution_count": null,
   "id": "c8567f7a",
   "metadata": {
    "tags": [
     "otter_answer_cell"
    ]
   },
   "outputs": [],
   "source": [
    "def compositeSimpson(anyFunction: Callable, a: float, b: float,N:int) -> float:\n",
    "    \"\"\"Method that calculates the integral of a given function using the Simpson's 1/3 method\n",
    "\n",
    "    Args:\n",
    "        anyFunction (Callable): function of which integral is to be calculated\n",
    "        a (float): the left integration boundary\n",
    "        b (float): the right integration boundary\n",
    "        N (int)  : the number of points \n",
    "\n",
    "\n",
    "    Returns:\n",
    "        float: integral of given function\n",
    "    \"\"\"\n",
    "\n",
    "    if N < 3 or N % 2 == 0:\n",
    "        return None\n",
    "    \n",
    "    h = (b-a)/(N-1)\n",
    "    x = np.linspace(a,b,N)\n",
    "    integration = 0\n",
    "    for i in range(0,N-2,2):\n",
    "        integration +=  (h/3)*(anyFunction(x[i]) + 4* anyFunction(x[i+1]) + anyFunction(x[i+2]))\n",
    "\n",
    "\n",
    "    return integration \n"
   ]
  },
  {
   "cell_type": "code",
   "execution_count": null,
   "id": "265b3a29",
   "metadata": {
    "deletable": false,
    "editable": false
   },
   "outputs": [],
   "source": [
    "grader.check(\"q2.2\")"
   ]
  },
  {
   "cell_type": "markdown",
   "id": "677ffe24",
   "metadata": {
    "deletable": false,
    "editable": false
   },
   "source": [
    "### Implementation details (3)\n",
    "**Integrand function**\n",
    "   - Implement the function `integrand_function(x)`, returning the value of the function to be integrated at a certain $\\chi$:\n",
    "  $$\n",
    "  f(\\chi) = \\left(\\frac{1+\\chi}{1-\\chi}\\right)^{1/2}\n",
    "  $$\n",
    "   - The function should take as input:\n",
    "     - `x`: the independent variable (i.e., the conversion)\n",
    "   - The function should return the value of the integrand function evaluated at the given point `x`, as a float."
   ]
  },
  {
   "cell_type": "code",
   "execution_count": null,
   "id": "00b486ea",
   "metadata": {
    "tags": [
     "otter_answer_cell"
    ]
   },
   "outputs": [],
   "source": [
    "def integrand_function(x:float)->float:\n",
    "    \"\"\"\n",
    "    x (float) : the independent variable \n",
    "\n",
    "    The function returns the value of f(x) when x is pluged in \n",
    "    \"\"\"\n",
    "    f_x = ((1+x)/(1-x))**0.5\n",
    "    return f_x "
   ]
  },
  {
   "cell_type": "code",
   "execution_count": null,
   "id": "dff2a6c7",
   "metadata": {
    "deletable": false,
    "editable": false
   },
   "outputs": [],
   "source": [
    "grader.check(\"q2.3\")"
   ]
  },
  {
   "cell_type": "code",
   "execution_count": null,
   "id": "fe5b0d57",
   "metadata": {
    "tags": [
     "otter_answer_cell"
    ]
   },
   "outputs": [],
   "source": [
    "# Compute tau to achieve the desired conversion\n",
    "\n",
    "final_conversion = 0.7\n",
    "Ca0 = 0.0625\n",
    "k = 0.03\n",
    "\n",
    "integral = compositeSimpson(integrand_function, 0.0,final_conversion,11)\n",
    "first_term = (Ca0**0.5)/k\n",
    "tau = float(first_term * integral)\n",
    "\n",
    "print(f\"Space time for {final_conversion*100}% conversion is: {tau:.2f} seconds\")"
   ]
  },
  {
   "cell_type": "code",
   "execution_count": null,
   "id": "a1c8fbc2",
   "metadata": {
    "deletable": false,
    "editable": false
   },
   "outputs": [],
   "source": [
    "grader.check(\"q2.4\")"
   ]
  },
  {
   "cell_type": "markdown",
   "id": "2325a89f",
   "metadata": {},
   "source": [
    "### Implementation details (4)\n",
    "**Use Python built-in functions**\n",
    "Solve the integral above and calculate the residence time $\\tau$ by using the built-in function `scipy.integrate.quad`. Check the documentation [here](https://docs.scipy.org/doc/scipy/reference/generated/scipy.integrate.quad.html)!\n",
    "\n",
    "Then, compare the solution with the one computed using your `compositeSimpson` function.\n"
   ]
  },
  {
   "cell_type": "code",
   "execution_count": null,
   "id": "32e96e20",
   "metadata": {
    "tags": [
     "otter_answer_cell"
    ]
   },
   "outputs": [],
   "source": [
    "import scipy.integrate\n",
    "\n",
    "\n",
    "integral_composite_simpson = float(integral)\n",
    "integral_built_in = scipy.integrate.quad(integrand_function,0.0,0.7)[0]"
   ]
  },
  {
   "cell_type": "code",
   "execution_count": null,
   "id": "3a6f064b",
   "metadata": {
    "deletable": false,
    "editable": false
   },
   "outputs": [],
   "source": [
    "grader.check(\"q2.5\")"
   ]
  },
  {
   "cell_type": "code",
   "execution_count": null,
   "id": "3bbff8a0",
   "metadata": {
    "tags": [
     "otter_answer_cell"
    ]
   },
   "outputs": [],
   "source": [
    "tau_composite_simpson = float(first_term * integral)\n",
    "tau_built_in = (first_term*scipy.integrate.quad(integrand_function,0.0,0.7)[0])\n",
    "absolute_difference = np.abs(tau_composite_simpson-tau_built_in)\n",
    "\n",
    "print(\n",
    "    f\"The absolute difference between the results from your method and the built-in method is:\\n{absolute_difference}\"\n",
    ")"
   ]
  },
  {
   "cell_type": "code",
   "execution_count": null,
   "id": "f42ac7ee",
   "metadata": {
    "deletable": false,
    "editable": false
   },
   "outputs": [],
   "source": [
    "grader.check(\"q2.6\")"
   ]
  },
  {
   "cell_type": "markdown",
   "id": "b1a0b11c",
   "metadata": {
    "vscode": {
     "languageId": "raw"
    }
   },
   "source": [
    "## Part 3: Numerical differentiation - methods and errors\n",
    "In this exercise, we explore the numerical approximation of the first-order derivative of a given function using three distinct finite difference methods: the **forward difference**, **backward difference**, and **central difference** schemes. The goal of the exercise is to compare the accuracy of these methods and understand how their errors depend on the step size used in the approximation.\n",
    "\n",
    "To achieve this, we will:\n",
    "- Implement the forward, backward, and central difference schemes as general functions.\n",
    "- Apply these functions to a specific mathematical function $ f(x) = x^2 e^{x^2} \\cos(x) \\ln(x) $ over a specified domain.\n",
    "- Compare the numerical derivatives obtained from each scheme with the analytical solution and analyze the error behavior as a function of the step size.\n",
    "- Generate a plot showing the relationship between the step size and the average error, illustrating which method is more accurate.\n"
   ]
  },
  {
   "cell_type": "code",
   "execution_count": null,
   "id": "6d38b0c7",
   "metadata": {},
   "outputs": [],
   "source": [
    "def original_function(x):\n",
    "    f = x**2 * np.exp(x**2) * np.cos(x) * np.log(x)\n",
    "    return f"
   ]
  },
  {
   "cell_type": "markdown",
   "id": "cbbba1e7",
   "metadata": {},
   "source": [
    "#### Implementation details 1: Forward Difference Scheme\n",
    "The forward difference formula approximates the derivative of a function $ f(x) $ at a point $ x $ by calculating the difference between the function value at $ x + h $ and $ x $, divided by $ h $:\n",
    "$$\n",
    "f'(x) \\approx \\frac{f(x + h) - f(x)}{h}\n",
    "$$"
   ]
  },
  {
   "cell_type": "code",
   "execution_count": null,
   "id": "317821f9",
   "metadata": {
    "tags": [
     "otter_answer_cell"
    ]
   },
   "outputs": [],
   "source": [
    "def forward_difference(f: Callable, x: float, h: float) -> float:\n",
    "    \"\"\"Function to compute the numerical derivative of a function using the forward difference method\n",
    "\n",
    "    Args:\n",
    "        f (Callable): function of which the derivative is to be calculated\n",
    "        x (float): point at which the derivative is to be calculated\n",
    "        h (float): step size\n",
    "\n",
    "    Returns:\n",
    "        float: numerical derivative of f at point x\n",
    "    \"\"\"\n",
    "    return (f(x+h) - f(x))/h"
   ]
  },
  {
   "cell_type": "code",
   "execution_count": null,
   "id": "18abd4c1",
   "metadata": {
    "deletable": false,
    "editable": false
   },
   "outputs": [],
   "source": [
    "grader.check(\"q3.1\")"
   ]
  },
  {
   "cell_type": "markdown",
   "id": "4ef9ab68",
   "metadata": {},
   "source": [
    "#### Implementation details 2: Backward Difference Scheme\n",
    "The forward difference formula approximates the derivative of a function $ f(x) $ at a point $ x $ by calculating the difference between the function value at $ x $ and $ x - h $, divided by $ h $:\n",
    "$$\n",
    "f'(x) \\approx \\frac{f(x) - f(x - h)}{h}\n",
    "$$"
   ]
  },
  {
   "cell_type": "code",
   "execution_count": null,
   "id": "d1221bec",
   "metadata": {
    "tags": [
     "otter_answer_cell"
    ]
   },
   "outputs": [],
   "source": [
    "def backward_difference(f: Callable, x: float, h: float) -> float:\n",
    "    \"\"\"Function to compute the numerical derivative of a function using the backward difference method\n",
    "\n",
    "    Args:\n",
    "        f (Callable): function of which the derivative is to be calculated\n",
    "        x (float): point at which the derivative is to be calculated\n",
    "        h (float): step size\n",
    "\n",
    "    Returns:\n",
    "        float: numerical derivative of f at point x\n",
    "    \"\"\"\n",
    "    return (f(x) - f(x-h))/h"
   ]
  },
  {
   "cell_type": "code",
   "execution_count": null,
   "id": "412e2423",
   "metadata": {
    "deletable": false,
    "editable": false
   },
   "outputs": [],
   "source": [
    "grader.check(\"q3.2\")"
   ]
  },
  {
   "cell_type": "markdown",
   "id": "a773db8a",
   "metadata": {},
   "source": [
    "#### Implementation details 3: Central Difference Scheme\n",
    "The central difference formula provides a more accurate approximation by considering the average rate of change between $ f(x + h) $ and $ f(x - h) $:\n",
    "\n",
    "$$\n",
    "f'(x) \\approx \\frac{f(x + h) - f(x - h)}{2h}\n",
    "$$"
   ]
  },
  {
   "cell_type": "code",
   "execution_count": null,
   "id": "74480b5b",
   "metadata": {
    "tags": [
     "otter_answer_cell"
    ]
   },
   "outputs": [],
   "source": [
    "def central_difference(f: Callable, x: float, h: float) -> float:\n",
    "    \"\"\"Function to compute the numerical derivative of a function using the central difference method\n",
    "\n",
    "    Args:\n",
    "        f (Callable): function of which the derivative is to be calculated\n",
    "        x (float): point at which the derivative is to be calculated\n",
    "        h (float): step size\n",
    "\n",
    "    Returns:\n",
    "        float: numerical derivative of f at point x\n",
    "    \"\"\"\n",
    "    return (f(x+h) - f(x-h))/(2*h)"
   ]
  },
  {
   "cell_type": "code",
   "execution_count": null,
   "id": "17e1af79",
   "metadata": {
    "deletable": false,
    "editable": false
   },
   "outputs": [],
   "source": [
    "grader.check(\"q3.3\")"
   ]
  },
  {
   "cell_type": "markdown",
   "id": "d43395c0",
   "metadata": {},
   "source": [
    "### Comparison and error evaluation\n",
    "\n",
    "In the last part of the exercise, we calculate and plot the error of each numerical differentiation method (forward, backward, and central) over a domain $ x \\in [1, 3] $. We compare the outcomes of numerical methods versus the (known) analytical solution. For a set of different grid step size $ h $, we:\n",
    "- Compute the numerical derivative using the forward, backward, and central difference schemes at several points across the domain.\n",
    "- Determine the absolute error at each point and compute the average error across the entire domain for each method and grid size.\n",
    "- Plot the average error as a function of the grid step size $ h $.\n",
    "\n",
    "**What the Code Shows:**\n",
    "- **Central Difference is More Accurate**: The central difference method typically produces smaller errors compared to both forward and backward difference methods because it uses information from both sides of the point to estimate the derivative (the order of the error is $o(h^2)$, compared to $o(h)$ for forward and backward).\n",
    "- **Error Decreases with Step Size**: As the grid step size $ h $ becomes smaller, the error decreases for all methods. This behavior is expected because a smaller step size provides a better approximation of the derivative.\n",
    "\n",
    "**This part is already implemented for you. You can run the cell to see the results. However, please, try to read the code and the comments: it can be a useful refresh and you can learn something new!**"
   ]
  },
  {
   "cell_type": "markdown",
   "id": "eb8bc215",
   "metadata": {},
   "source": [
    "The analytical derivative is:\n",
    "\n",
    "$$\n",
    "f'(x) = x \\left( 2x^2 \\ln(x) \\cos(x) - x \\ln(x) \\sin(x) + 2 \\ln(x) \\cos(x) + \\cos(x) \\right) e^{x^2}\n",
    "$$"
   ]
  },
  {
   "cell_type": "code",
   "execution_count": null,
   "id": "a47933d8",
   "metadata": {},
   "outputs": [],
   "source": [
    "def analytical_derivative(x) -> float:\n",
    "    \"\"\"Function to compute the analytical derivative of a function\n",
    "\n",
    "    Args:\n",
    "        x (float): point at which the derivative is to be calculated\n",
    "\n",
    "    Returns:\n",
    "        float: analytical derivative of the function at point x\n",
    "    \"\"\"\n",
    "    return (\n",
    "        x\n",
    "        * (\n",
    "            2 * x**2 * np.log(x) * np.cos(x)\n",
    "            - x * np.log(x) * np.sin(x)\n",
    "            + 2 * np.log(x) * np.cos(x)\n",
    "            + np.cos(x)\n",
    "        )\n",
    "        * np.exp(x**2)\n",
    "    )"
   ]
  },
  {
   "cell_type": "code",
   "execution_count": null,
   "id": "99de3b03",
   "metadata": {},
   "outputs": [],
   "source": [
    "# Define the domain and grid sizes\n",
    "x_values = np.linspace(\n",
    "    1.0, 3.0, 100\n",
    ")  # domain from 0.1 to 3, avoiding x=0 for log issues\n",
    "h_values = np.logspace(-5, -1, 20)  # different grid sizes (in log scale!)\n",
    "\n",
    "# Initialize arrays for storing average errors\n",
    "forward_errors_avg = []\n",
    "backward_errors_avg = []\n",
    "central_errors_avg = []\n",
    "\n",
    "# Loop through different grid sizes and calculate errors over the domain\n",
    "for h in h_values:\n",
    "    forward_errors = []\n",
    "    backward_errors = []\n",
    "    central_errors = []\n",
    "\n",
    "    # Loop over the domain and calculate errors at each point\n",
    "    for x in x_values:\n",
    "        # Numerical derivatives\n",
    "        fwd_diff = forward_difference(original_function, x, h)\n",
    "        bwd_diff = backward_difference(original_function, x, h)\n",
    "        ctr_diff = central_difference(original_function, x, h)\n",
    "\n",
    "        # Analytical derivative\n",
    "        exact_deriv = analytical_derivative(x)\n",
    "\n",
    "        # Errors at this point\n",
    "        forward_errors.append(np.abs(fwd_diff - exact_deriv))\n",
    "        backward_errors.append(np.abs(bwd_diff - exact_deriv))\n",
    "        central_errors.append(np.abs(ctr_diff - exact_deriv))\n",
    "\n",
    "    # Compute the average error for the current grid size\n",
    "    forward_errors_avg.append(np.mean(forward_errors))\n",
    "    backward_errors_avg.append(np.mean(backward_errors))\n",
    "    central_errors_avg.append(np.mean(central_errors))\n",
    "\n",
    "# Plot the average errors as a function of the grid size (you can learn how to plot in log-scale!)\n",
    "plt.figure(figsize=(10, 6))\n",
    "plt.loglog(h_values, forward_errors_avg, label=\"Forward Difference Error\", marker=\"o\")\n",
    "plt.loglog(h_values, backward_errors_avg, label=\"Backward Difference Error\", marker=\"s\")\n",
    "plt.loglog(h_values, central_errors_avg, label=\"Central Difference Error\", marker=\"x\")\n",
    "plt.xlabel(\"Grid step size (h)\")\n",
    "plt.ylabel(\"Average Error\")\n",
    "plt.title(\n",
    "    \"Average Error in Numerical Differentiation over [0.1, 3] as a Function of Step Size\"\n",
    ")\n",
    "plt.legend()\n",
    "plt.grid(True)\n",
    "plt.show()"
   ]
  },
  {
   "cell_type": "markdown",
   "id": "9fda0e9d",
   "metadata": {},
   "source": [
    "## Part 4: Determining thermal conductivity from experimental data (numerical differentiation)\n",
    "In this exercise, you will apply numerical differentiation techniques to determine the thermal conductivity ($k$) of a material. This exercise simulates a real-world scenario where experimental temperature data is used to derive material properties.\n",
    "\n",
    "The goal is to calculate the thermal conductivity of a rod subjected to a steady-state heat flux, using temperature measurements taken at various positions along its length.\n",
    "\n",
    "Heat conduction in a steady state can be described by Fourier's law. For a one-dimensional rod, the temperature distribution $T(x)$ can be used to determine the temperature gradient, which in turn allows for the calculation of thermal conductivity. The governing equation is:\n",
    "$$\n",
    "q = -k \\frac{dT}{dx}\n",
    "$$\n",
    "where:\n",
    "- $q$ is the known heat flux entering the rod $[\\text{W}/\\text{cm}^2]$\n",
    "- $k$ is the thermal conductivity $[\\text{W}/(\\text{cm} \\cdot \\text{\\degree C})]$\n",
    "- $\\frac{dT}{dx}$ is the temperature gradient $[\\text{\\degree C}/\\text{cm}]$\n",
    "\n",
    "A rod of length $L = 10 \\: \\text{cm}$ is heated at one end to maintain a steady-state temperature distribution. The temperature $T(x)$ is measured at various positions $x$ along the rod, and the heat flux $q = 100 \\: \\text{W}/\\text{cm}^2$ at the heated end is known and constant.\n",
    "\n",
    "In practical experiments, measurement noise is inevitable and temperature readings can be affected by various factors. By measuring the temperature at multiple points along the rod, you can apply numerical differentiation at each point to estimate the temperature gradient. Calculating the thermal conductivity at these multiple points and then averaging the results helps mitigate the effect of noise and provides a more accurate and reliable estimate of the material's thermal conductivity."
   ]
  },
  {
   "cell_type": "markdown",
   "id": "82c81a7c",
   "metadata": {},
   "source": [
    "### Numerical implementation\n",
    "The experimental measurements are provided in a csv file called `temperature_data.csv`. You can open the file and explore the structure. Check online how you can load csv files using [Pandas](https://pandas.pydata.org/).\n",
    "1. **Data loading**\n",
    "   - Load the experimental measurements stored in `temperature_data.csv`.\n",
    "   - Define a numpy array for position `x` and another for `temperature`, by extracting the data from the csv file. *hint*: you can open the file and see how it is structured, or you can load in Python and print it. \n",
    "\n",
    "2. **Numerical Differentiation**\n",
    "   - Estimate the temperature gradient $\\frac{dT}{dx}$ at each measurement point using finite difference methods.\n",
    "\n",
    "3. **Thermal Conductivity Calculation**\n",
    "   - Compute the thermal conductivity $k$ from the estimated temperature gradients and the known heat flux, for each point along the rod.\n",
    "   - Average the results to obtain the final estimation of the average thermal conductivity (*hint: you can use* `np.mean()`)\n",
    "   \n",
    "   *Clarification:* you will compute a local thermal conductivity value for each point of the discretized domain (longitudinal axis of the grid). Then you just compute the mean of these values to obtain an average (estimation) of the thermal conductivity of the material."
   ]
  },
  {
   "cell_type": "code",
   "execution_count": null,
   "id": "22b574fa",
   "metadata": {
    "tags": [
     "otter_answer_cell"
    ]
   },
   "outputs": [],
   "source": [
    "# Data loading\n",
    "data = pd.read_csv(temperature_data.csv)\n",
    "x = ...\n",
    "temperature = ...\n",
    "\n",
    "# Given data\n",
    "q = 100  # Heat flux in W/cm^2"
   ]
  },
  {
   "cell_type": "code",
   "execution_count": null,
   "id": "bc15e82b",
   "metadata": {
    "deletable": false,
    "editable": false
   },
   "outputs": [],
   "source": [
    "grader.check(\"q4.1\")"
   ]
  },
  {
   "cell_type": "markdown",
   "id": "41808e38",
   "metadata": {},
   "source": [
    "### Implementation details (for part 2)\n",
    "- Use central differences for interior points:\n",
    "$$\n",
    "\\left.\\frac{dT}{dx}\\right|_{x_i} \\approx \\frac{T_{i+1} - T_{i-1}}{x_{i+1} - x_{i-1}}\n",
    "$$\n",
    "\n",
    "- Use forward difference for the first point:\n",
    "$$\n",
    "\\left.\\frac{dT}{dx}\\right|_{x_1} \\approx \\frac{T_2 - T_1}{x_2 - x_1}\n",
    "$$\n",
    "\n",
    "- Use backward difference for the last point:\n",
    "$$\n",
    "\\left.\\frac{dT}{dx}\\right|_{x_n} \\approx \\frac{T_n - T_{n-1}}{x_n - x_{n-1}}\n",
    "$$"
   ]
  },
  {
   "cell_type": "code",
   "execution_count": null,
   "id": "64829189",
   "metadata": {
    "tags": [
     "otter_answer_cell"
    ]
   },
   "outputs": [],
   "source": [
    "# Calculate temperature gradients using central differences\n",
    "...\n",
    "\n",
    "dT_dx = ..."
   ]
  },
  {
   "cell_type": "code",
   "execution_count": null,
   "id": "c5ca71bb",
   "metadata": {
    "deletable": false,
    "editable": false
   },
   "outputs": [],
   "source": [
    "grader.check(\"q4.2\")"
   ]
  },
  {
   "cell_type": "code",
   "execution_count": null,
   "id": "ac3735d4",
   "metadata": {
    "tags": [
     "otter_answer_cell"
    ]
   },
   "outputs": [],
   "source": [
    "# Regress thermal conductivity\n",
    "k = ...\n",
    "\n",
    "# Average thermal conductivity\n",
    "k_avg = ...\n",
    "\n",
    "# Output the results\n",
    "print(\"Temperature Gradients:\", dT_dx)\n",
    "print(\"Thermal Conductivity at each point:\", k)\n",
    "print(\"Average Thermal Conductivity:\", k_avg)"
   ]
  },
  {
   "cell_type": "code",
   "execution_count": null,
   "id": "a5a8dc83",
   "metadata": {
    "deletable": false,
    "editable": false
   },
   "outputs": [],
   "source": [
    "grader.check(\"q4.3\")"
   ]
  }
 ],
 "metadata": {
  "jupytext": {
   "cell_markers": "\"\"\"",
   "formats": "ipynb,py:percent"
  },
  "kernelspec": {
   "display_name": ".venv",
   "language": "python",
   "name": "python3"
  },
  "language_info": {
   "codemirror_mode": {
    "name": "ipython",
    "version": 3
   },
   "file_extension": ".py",
   "mimetype": "text/x-python",
   "name": "python",
   "nbconvert_exporter": "python",
   "pygments_lexer": "ipython3",
   "version": "3.12.10"
  },
  "otter": {
   "OK_FORMAT": true,
   "assignment_name": "CP_Assignment_Q1_L4",
   "tests": {
    "q1.1": {
     "name": "q1.1",
     "points": 0,
     "suites": [
      {
       "cases": [
        {
         "code": ">>> assert isinstance(cp_hyperbolic_function, Callable), \"DON'T TOUCH THE PROVIDED CODE!\"\n",
         "hidden": false,
         "locked": false,
         "points": 0
        },
        {
         "code": ">>> assert isinstance(cp_hyperbolic_function(400), float), 'Your output type is not of the correct type.'\n",
         "hidden": false,
         "locked": false,
         "points": 0
        },
        {
         "code": ">>> correct_answer = 39697.110097276665\n>>> student_answer = cp_hyperbolic_function(350)\n>>> assert np.isclose(student_answer, correct_answer, atol=10), 'The output of the function cp_hyperbolic_function differs too much from the correct answer. Check the implementation.'\n",
         "hidden": false,
         "locked": false,
         "points": 0
        }
       ],
       "scored": true,
       "setup": "",
       "teardown": "",
       "type": "doctest"
      }
     ]
    },
    "q1.2": {
     "name": "q1.2",
     "points": 0,
     "suites": [
      {
       "cases": [
        {
         "code": ">>> assert isinstance(rectangles_left, Callable), 'Did you define the function rectangles_left?'\n",
         "hidden": false,
         "locked": false,
         "points": 0
        },
        {
         "code": ">>> def funcy(x):\n...     return 8 * x + 5 + x ** 3\n>>> assert isinstance(rectangles_left(funcy, 0, 5, 10), float), 'Your output type is not of the correct type.'\n",
         "hidden": false,
         "locked": false,
         "points": 0
        },
        {
         "code": ">>> def funcy(x):\n...     return 8 * x + 5 + x ** 3\n>>> rectanglesright_answer = 329.0123456790124\n>>> student_answer = rectangles_left(funcy, 0, 5, 10)\n>>> assert not np.isclose(student_answer, rectanglesright_answer, atol=1), 'Are you sure you are actually implementing the rectangles method with LEFT corners?'\n",
         "hidden": false,
         "locked": false,
         "points": 0
        },
        {
         "code": ">>> def funcy(x):\n...     return 8 * x + 5 + x ** 3\n>>> correct_answer = 237.34567901234573\n>>> student_answer = rectangles_left(funcy, 0, 5, 10)\n>>> assert np.isclose(student_answer, correct_answer, atol=1), 'The output of the rectangles_left function differs too much from the correct answer'\n",
         "hidden": false,
         "locked": false,
         "points": 0
        }
       ],
       "scored": true,
       "setup": "",
       "teardown": "",
       "type": "doctest"
      }
     ]
    },
    "q1.3": {
     "name": "q1.3",
     "points": 0,
     "suites": [
      {
       "cases": [
        {
         "code": ">>> assert isinstance(rectangles_right, Callable), 'Did you define the function rectangles_right?'\n",
         "hidden": false,
         "locked": false,
         "points": 0
        },
        {
         "code": ">>> def funcy(x):\n...     return 8 * x + 5 + x ** 3\n>>> assert isinstance(rectangles_right(funcy, 0, 5, 10), float), 'Your output type is not of the correct type.'\n",
         "hidden": false,
         "locked": false,
         "points": 0
        },
        {
         "code": ">>> def funcy(x):\n...     return 8 * x + 5 + x ** 3\n>>> rectanglesleft_answer = 237.34567901234573\n>>> student_answer = rectangles_right(funcy, 0, 5, 10)\n>>> assert not np.isclose(student_answer, rectanglesleft_answer, atol=1), 'Are you sure you are actually implementing the rectangles method with RIGHT corners?'\n",
         "hidden": false,
         "locked": false,
         "points": 0
        },
        {
         "code": ">>> def funcy(x):\n...     return 8 * x + 5 + x ** 3\n>>> correct_answer = 329.0123456790124\n>>> student_answer = rectangles_right(funcy, 0, 5, 10)\n>>> assert np.isclose(student_answer, correct_answer, atol=1), 'The output of the rectangles_right function differs too much from the correct answer'\n",
         "hidden": false,
         "locked": false,
         "points": 0
        }
       ],
       "scored": true,
       "setup": "",
       "teardown": "",
       "type": "doctest"
      }
     ]
    },
    "q1.4": {
     "name": "q1.4",
     "points": 0,
     "suites": [
      {
       "cases": [
        {
         "code": ">>> assert isinstance(composite_trapezoid, Callable), 'Did you define the function composite_trapezoid?'\n",
         "hidden": false,
         "locked": false,
         "points": 0
        },
        {
         "code": ">>> def funcy(x):\n...     return 8 * x + 5 + x ** 3\n>>> assert isinstance(composite_trapezoid(funcy, 0, 5, 10), float), 'Your output type is not of the correct type.'\n",
         "hidden": false,
         "locked": false,
         "points": 0
        },
        {
         "code": ">>> def funcy(x):\n...     return 8 * x + 5 + x ** 3\n>>> rectanglesleft_answer = 237.34567901234573\n>>> student_answer = composite_trapezoid(funcy, 0, 5, 10)\n>>> assert not np.isclose(student_answer, rectanglesleft_answer, atol=1), 'Are you sure you implemented the correct method?'\n",
         "hidden": false,
         "locked": false,
         "points": 0
        },
        {
         "code": ">>> def funcy(x):\n...     return 8 * x + 5 + x ** 3\n>>> rectanglesright_answer = 329.0123456790124\n>>> student_answer = composite_trapezoid(funcy, 0, 5, 10)\n>>> assert not np.isclose(student_answer, rectanglesright_answer, atol=1), 'Are you sure you implemented the correct method?'\n",
         "hidden": false,
         "locked": false,
         "points": 0
        },
        {
         "code": ">>> def funcy(x):\n...     return 8 * x + 5 + x ** 3\n>>> correct_answer = 283.17901234567904\n>>> student_answer = composite_trapezoid(funcy, 0, 5, 10)\n>>> assert np.isclose(student_answer, correct_answer, atol=1), 'The output of the composite_trapezoid function differs too much from the correct answer'\n",
         "hidden": false,
         "locked": false,
         "points": 0
        }
       ],
       "scored": true,
       "setup": "",
       "teardown": "",
       "type": "doctest"
      }
     ]
    },
    "q2.1": {
     "name": "q2.1",
     "points": 0,
     "suites": [
      {
       "cases": [
        {
         "code": ">>> assert isinstance(simpson, Callable), \"DON'T TOUCH THE PROVIDED CODE!\"\n",
         "hidden": false,
         "locked": false,
         "points": 0
        },
        {
         "code": ">>> def funcx(x):\n...     return 8 * x + 5\n>>> assert isinstance(simpson(funcx, 2, 30), float), 'Your output type is not of the correct type.'\n",
         "hidden": false,
         "locked": false,
         "points": 0
        },
        {
         "code": ">>> def funcy(x):\n...     return 8 * x + 5 + x ** 3\n>>> correct_answer = 281.25\n>>> student_answer = simpson(funcy, 0, 5)\n>>> assert np.isclose(student_answer, correct_answer, rtol=0.01), 'The output of the simpson function differs too much from the correct answer'\n",
         "hidden": false,
         "locked": false,
         "points": 0
        }
       ],
       "scored": true,
       "setup": "",
       "teardown": "",
       "type": "doctest"
      }
     ]
    },
    "q2.2": {
     "name": "q2.2",
     "points": 0,
     "suites": [
      {
       "cases": [
        {
         "code": ">>> assert isinstance(compositeSimpson, Callable), 'Did you define the function compositeSimpson?'\n",
         "hidden": false,
         "locked": false,
         "points": 0
        },
        {
         "code": ">>> def funcx(x):\n...     return 8 * x + 5\n>>> student_answer = compositeSimpson(funcx, 2, 30, 8)\n>>> assert student_answer is None, 'Are you sure you are checking that N is an odd number?'\n",
         "hidden": false,
         "locked": false,
         "points": 0
        },
        {
         "code": ">>> def funcx(x):\n...     return 8 * x + 5\n>>> student_answer = compositeSimpson(funcx, 2, 30, 1)\n>>> assert student_answer is None, 'Are you checking that N is greater than or equal to 3?'\n",
         "hidden": false,
         "locked": false,
         "points": 0
        },
        {
         "code": ">>> def funcx(x):\n...     return 8 * x + 5\n>>> assert isinstance(compositeSimpson(funcx, 2, 30, 9), float), 'Your output type is not of the correct type.'\n",
         "hidden": false,
         "locked": false,
         "points": 0
        },
        {
         "code": ">>> def funcx(x):\n...     return 8 * x + 5\n>>> correct_answer = 3724.0\n>>> student_answer = compositeSimpson(funcx, 2, 30, 9)\n>>> assert np.isclose(student_answer, correct_answer, rtol=0.01), 'compositeSimpson does not return the correct value'\n",
         "hidden": false,
         "locked": false,
         "points": 0
        }
       ],
       "scored": true,
       "setup": "",
       "teardown": "",
       "type": "doctest"
      }
     ]
    },
    "q2.3": {
     "name": "q2.3",
     "points": 0,
     "suites": [
      {
       "cases": [
        {
         "code": ">>> assert isinstance(integrand_function, Callable), 'Did you define the function integrand_function?'\n",
         "hidden": false,
         "locked": false,
         "points": 0
        },
        {
         "code": ">>> result = integrand_function(0)\n>>> expected = 1.0\n>>> assert np.isclose(result, expected), 'The integrand function computed in x=0 is not correct.'\n",
         "hidden": false,
         "locked": false,
         "points": 0
        },
        {
         "code": ">>> result = integrand_function(0.5)\n>>> expected = (1.5 / 0.5) ** 0.5\n>>> assert np.isclose(result, expected), 'The integrand function computed in x=0.5 is not correct.'\n",
         "hidden": false,
         "locked": false,
         "points": 0
        }
       ],
       "scored": true,
       "setup": "",
       "teardown": "",
       "type": "doctest"
      }
     ]
    },
    "q2.4": {
     "name": "q2.4",
     "points": 0,
     "suites": [
      {
       "cases": [
        {
         "code": ">>> assert np.isclose(tau, 8.84, rtol=0.01), 'The value of tau is wrong. Please, check you computation. It should be 8.84.'\n",
         "hidden": false,
         "locked": false,
         "points": 0
        },
        {
         "code": ">>> tau\n",
         "hidden": false,
         "locked": false
        }
       ],
       "scored": true,
       "setup": "",
       "teardown": "",
       "type": "doctest"
      }
     ]
    },
    "q2.5": {
     "name": "q2.5",
     "points": 0,
     "suites": [
      {
       "cases": [
        {
         "code": ">>> assert isinstance(integral_built_in, float), 'The solution from the built-in method must be a float.'\n",
         "hidden": false,
         "locked": false,
         "points": 0
        },
        {
         "code": ">>> assert not isinstance(integral_built_in, tuple), 'Please check the documentation to extract the solution from the output of the function.'\n",
         "hidden": false,
         "locked": false,
         "points": 0
        },
        {
         "code": ">>> assert np.isclose(integral_composite_simpson, 1.0612546537564682, rtol=0.01), f'The value of the integral computed with the composite Simpson method is wrong. It should be ~ 1.06.'\n",
         "hidden": false,
         "locked": false,
         "points": 0
        },
        {
         "code": ">>> assert np.isclose(integral_built_in, 1.0612546537564682, rtol=0.01), 'The value of the integral computed with the built-in method is wrong. It should be ~ 1.06.'\n",
         "hidden": false,
         "locked": false,
         "points": 0
        }
       ],
       "scored": true,
       "setup": "",
       "teardown": "",
       "type": "doctest"
      }
     ]
    },
    "q2.6": {
     "name": "q2.6",
     "points": 0,
     "suites": [
      {
       "cases": [
        {
         "code": ">>> assert isinstance(tau_composite_simpson, float), 'tau_composite_simpson must be a float.'\n",
         "hidden": false,
         "locked": false,
         "points": 0
        },
        {
         "code": ">>> assert isinstance(tau_built_in, float), 'tau_built_in method must be a float.'\n",
         "hidden": false,
         "locked": false,
         "points": 0
        },
        {
         "code": ">>> assert isinstance(absolute_difference, float), 'absolute_difference must be a float.'\n",
         "hidden": false,
         "locked": false,
         "points": 0
        },
        {
         "code": ">>> assert np.isclose(tau_composite_simpson, 8.843791209799157, rtol=0.001), 'tau_composite_simpson is wrong.'\n",
         "hidden": false,
         "locked": false,
         "points": 0
        },
        {
         "code": ">>> assert np.isclose(tau_built_in, 8.843788781303902, rtol=0.001), 'tau_built_in is wrong.'\n",
         "hidden": false,
         "locked": false,
         "points": 0
        },
        {
         "code": ">>> assert np.isclose(absolute_difference, 2.42849525555755e-06, rtol=1), f'The difference between the results of the two methods is wrong.'\n",
         "hidden": false,
         "locked": false,
         "points": 0
        }
       ],
       "scored": true,
       "setup": "",
       "teardown": "",
       "type": "doctest"
      }
     ]
    },
    "q3.1": {
     "name": "q3.1",
     "points": 0,
     "suites": [
      {
       "cases": [
        {
         "code": ">>> assert isinstance(forward_difference, Callable), \"DON'T TOUCH THE PROVIDED CODE!\"\n",
         "hidden": false,
         "locked": false,
         "points": 0
        },
        {
         "code": ">>> def fx(x):\n...     return x ** 5\n>>> assert np.isclose(forward_difference(fx, 2, 0.1), 88.41), 'Check your implementation of forward_difference function. Something is wrong...'\n",
         "hidden": false,
         "locked": false,
         "points": 0
        }
       ],
       "scored": true,
       "setup": "",
       "teardown": "",
       "type": "doctest"
      }
     ]
    },
    "q3.2": {
     "name": "q3.2",
     "points": 0,
     "suites": [
      {
       "cases": [
        {
         "code": ">>> assert isinstance(backward_difference, Callable), \"DON'T TOUCH THE PROVIDED CODE!\"\n",
         "hidden": false,
         "locked": false,
         "points": 0
        },
        {
         "code": ">>> def fx(x):\n...     return x ** 5\n>>> assert np.isclose(backward_difference(fx, 2, 0.1), 72.39), 'Check your implementation of backward_difference function. Something is wrong...'\n",
         "hidden": false,
         "locked": false,
         "points": 0
        }
       ],
       "scored": true,
       "setup": "",
       "teardown": "",
       "type": "doctest"
      }
     ]
    },
    "q3.3": {
     "name": "q3.3",
     "points": 0,
     "suites": [
      {
       "cases": [
        {
         "code": ">>> assert isinstance(central_difference, Callable), \"DON'T TOUCH THE PROVIDED CODE!\"\n",
         "hidden": false,
         "locked": false,
         "points": 0
        },
        {
         "code": ">>> def fx(x):\n...     return x ** 5\n>>> assert np.isclose(central_difference(fx, 2, 0.1), 80.4), 'Check your implementation of central_difference function. Something is wrong...'\n",
         "hidden": false,
         "locked": false,
         "points": 0
        }
       ],
       "scored": true,
       "setup": "",
       "teardown": "",
       "type": "doctest"
      }
     ]
    },
    "q4.1": {
     "name": "q4.1",
     "points": 0,
     "suites": [
      {
       "cases": [
        {
         "code": ">>> assert not data.empty, 'Error: The data variable is empty. Please ensure the CSV file has data.'\n",
         "hidden": false,
         "locked": false,
         "points": 0
        },
        {
         "code": ">>> assert all((column in data.columns for column in ['Position (cm)', 'Temperature (°C)'])), \"Error: Missing expected columns. Ensure the CSV file has 'Position (cm)' and 'Temperature (°C)' columns.\"\n",
         "hidden": false,
         "locked": false,
         "points": 0
        },
        {
         "code": ">>> assert isinstance(x, np.ndarray), \"Error: 'x' is not a numpy array. Ensure it is converted correctly.\"\n",
         "hidden": false,
         "locked": false,
         "points": 0
        },
        {
         "code": ">>> assert len(x) > 0, \"Error: 'x' array is empty. Ensure the 'Position (cm)' column in the CSV has data.\"\n",
         "hidden": false,
         "locked": false,
         "points": 0
        },
        {
         "code": ">>> assert isinstance(temperature, np.ndarray), \"Error: 'temperature' is not a numpy array. Ensure it is converted correctly.\"\n",
         "hidden": false,
         "locked": false,
         "points": 0
        },
        {
         "code": ">>> assert len(temperature) > 0, \"Error: 'temperature' array is empty. Ensure the 'Temperature (°C)' column in the CSV has data.\"\n",
         "hidden": false,
         "locked": false,
         "points": 0
        }
       ],
       "scored": true,
       "setup": "",
       "teardown": "",
       "type": "doctest"
      }
     ]
    },
    "q4.2": {
     "name": "q4.2",
     "points": 0,
     "suites": [
      {
       "cases": [
        {
         "code": ">>> assert isinstance(dT_dx, np.ndarray), \"Error: 'dT_dx' is not a numpy array. Ensure it is initialized correctly.\"\n",
         "hidden": false,
         "locked": false,
         "points": 0
        },
        {
         "code": ">>> assert len(dT_dx) == len(temperature), \"Error: 'dT_dx' and 'temperature' arrays are not the same length. Check the computation logic.\"\n",
         "hidden": false,
         "locked": false,
         "points": 0
        },
        {
         "code": ">>> assert not np.isnan(dT_dx).any(), \"Error: 'dT_dx' contains NaN values. Check the input data and computation logic.\"\n",
         "hidden": false,
         "locked": false,
         "points": 0
        },
        {
         "code": ">>> assert not np.isinf(dT_dx).any(), \"Error: 'dT_dx' contains infinite values. Check the input data and computation logic.\"\n",
         "hidden": false,
         "locked": false,
         "points": 0
        },
        {
         "code": ">>> expected_data = pd.read_csv('temperature_data.csv')\n>>> expected_temperature = expected_data['Temperature (°C)'].to_numpy()\n>>> expected_gradients = {0: (expected_temperature[1] - expected_temperature[0]) / (x[1] - x[0]), 2: (expected_temperature[3] - expected_temperature[1]) / (x[3] - x[1]), 4: (expected_temperature[5] - expected_temperature[3]) / (x[5] - x[3]), 5: (expected_temperature[-1] - expected_temperature[-2]) / (x[-1] - x[-2])}\n>>> for index, expected_value in expected_gradients.items():\n...     assert np.isclose(dT_dx[index], expected_value, atol=0.01), f'Error: Gradient at index {index} is incorrect. Expected {expected_value}, got {dT_dx[index]}.'\n",
         "hidden": false,
         "locked": false,
         "points": 0
        }
       ],
       "scored": true,
       "setup": "",
       "teardown": "",
       "type": "doctest"
      }
     ]
    },
    "q4.3": {
     "name": "q4.3",
     "points": 0,
     "suites": [
      {
       "cases": [
        {
         "code": ">>> assert isinstance(k, np.ndarray), \"Error: 'k' is not a numpy array. Ensure it is calculated correctly.\"\n",
         "hidden": false,
         "locked": false,
         "points": 0
        },
        {
         "code": ">>> assert len(k) == len(dT_dx), \"Error: 'k' and 'dT_dx' arrays are not the same length. Check the computation logic.\"\n",
         "hidden": false,
         "locked": false,
         "points": 0
        },
        {
         "code": ">>> assert not np.isnan(k).any(), \"Error: 'k' contains NaN values. Check the input data and computation logic.\"\n",
         "hidden": false,
         "locked": false,
         "points": 0
        },
        {
         "code": ">>> assert not np.isinf(k).any(), \"Error: 'k' contains infinite values. Check the input data and computation logic.\"\n",
         "hidden": false,
         "locked": false,
         "points": 0
        },
        {
         "code": ">>> assert k_avg > 0, \"Error: 'k_avg' should be positive. Check the computation logic.\"\n",
         "hidden": false,
         "locked": false,
         "points": 0
        },
        {
         "code": ">>> expected_k_values = np.array([24.31591263, 19.78183831, 27.06245672, 22.98675439, 19.7355637, 35.38710177])\n>>> assert np.allclose(k, expected_k_values, atol=0.01), f\"Error: The thermal conductivity 'k' values are incorrect. Expected {expected_k_values}, got {k}.\"\n",
         "hidden": false,
         "locked": false,
         "points": 0
        },
        {
         "code": ">>> expected_th_cond = 24.87\n>>> assert np.isclose(k_avg, expected_th_cond, atol=0.01), f\"Error: The average thermal conductivity 'k_avg' is incorrect. Expected {expected_th_cond}, got {k_avg}.\"\n",
         "hidden": false,
         "locked": false,
         "points": 0
        }
       ],
       "scored": true,
       "setup": "",
       "teardown": "",
       "type": "doctest"
      }
     ]
    }
   }
  },
  "vscode": {
   "interpreter": {
    "hash": "a554ffc75d44ef3efff5b00d93b4dacdc0fc3fa5c42ef6e05a5d98de555809eb"
   }
  }
 },
 "nbformat": 4,
 "nbformat_minor": 5
}
