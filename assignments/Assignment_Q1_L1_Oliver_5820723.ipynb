{
 "cells": [
  {
   "attachments": {},
   "cell_type": "markdown",
   "id": "5b607a17",
   "metadata": {
    "cell_marker": "\"\"\"",
    "deletable": false,
    "editable": false,
    "nbgrader": {
     "grade": false,
     "locked": true,
     "solution": false
    }
   },
   "source": [
    "# CP 2024-25: Q1 Lecture 1 - Basic python coding"
   ]
  },
  {
   "attachments": {},
   "cell_type": "markdown",
   "id": "a1ad8b39",
   "metadata": {
    "cell_marker": "\"\"\"",
    "deletable": false,
    "nbgrader": {
     "grade": false,
     "locked": true,
     "solution": false
    }
   },
   "source": [
    "### General Guidelines\n",
    "\n",
    "> ⚠️⚠️⚠️ READ CAREFULLY ⚠️⚠️⚠️\n",
    "\n",
    "- Do not add, delete or create cells, write the answer only in the space marked with the three dots (`...`). Where function skeletons are provided, it is assumed that that function can be called again with different inputs somewhere else. So be careful to write code outside of functions.\n",
    "  - Function should be ['pure'](https://en.wikipedia.org/wiki/Pure_function), thus no side effects, unless otherwise specified.\n",
    "- Run the the first cell to import all libraries when opening the notebook before running your own code.\n",
    "- Read carefully what is required to be printed/returned/plotted in the answer. Please do not output what is not asked for. \n",
    "  - If you used the print function for debugging, comment it out ( Ctlr + / ) before submitting\n",
    "- All plots should have title, xlabel, ylabel, and legend (if there are more than one curve on the plot)\n",
    "- Use the `help()` function, consult python documentation when using new functions, or do a web search and consult [stackoverflow](https://stackoverflow.com/questions/tagged/python)\n",
    "- Please read the error messages if you get any, and try to understand what they mean. Debugging code is an essential skill to develop.\n",
    "- You can use `%debug` to start an IPython console in a cell (or a scratchpad cell!) after an exception has occurred to try to debug.\n",
    "- You can use `%pdb` to toggle the Python DeBugger (pdb) auto start after an unhandled exception.\n",
    "- In the assignments you will find some tests put in place, to help you verify your solution. If these fail you are certain you did something wrong, thus look at the hints they provide. But passing these tests does __not__ mean your solution is actually correct.\n",
    "\n",
    "Make sure you use `python3.12` and the package versions as stated in the provided `requirements.txt`. This file should also be on the course page."
   ]
  },
  {
   "cell_type": "code",
   "execution_count": 15,
   "id": "8f844cb7",
   "metadata": {
    "nbgrader": {
     "grade": false,
     "locked": true,
     "solution": false
    }
   },
   "outputs": [
    {
     "name": "stdout",
     "output_type": "stream",
     "text": [
      "Python version 3.12.10 (v3.12.10:0cc81280367, Apr  8 2025, 08:46:59) [Clang 13.0.0 (clang-1300.0.29.30)]\n",
      "Successfully imported numpy           \tVersion:      2.3.2\n",
      "Successfully imported scipy           \tVersion:     1.16.1\n",
      "Successfully imported matplotlib      \tVersion:     3.10.5\n",
      "Finished importing packages\n"
     ]
    }
   ],
   "source": [
    "# Importing relevant libraries in the assignment\n",
    "\n",
    "# This will create static plots (no zooming etc.)\n",
    "# otherwise try just plain `%matplotlib`, or install a backend such as ipympl or PyQt5 and\n",
    "# do or `%matplotlib ipympl` `%matplotlib qt`\n",
    "%matplotlib inline\n",
    "\n",
    "REPEAT_IMPORTS = True\n",
    "\n",
    "if REPEAT_IMPORTS or (\"IMPORTED_ALL\" not in globals()):  # To save you a bit of time\n",
    "\n",
    "    def print_import_info(package):\n",
    "        print(\n",
    "            \"Successfully imported %-15s \\tVersion: %10s\"\n",
    "            % (package.__name__, package.__version__)\n",
    "        )\n",
    "\n",
    "    ### Standard library imports\n",
    "\n",
    "    import sys\n",
    "\n",
    "    print(\"Python version {}\".format(sys.version))\n",
    "    if sys.version_info < (3, 11):\n",
    "        print(\n",
    "            \"\\u001b[31m\"  # red\n",
    "            \"\\u001b[1m\"  # bold\n",
    "            \"WARNING: Use Python 3.11 or newer to not encounter any errors or \"\n",
    "            \"problems later on.\\n\"\n",
    "            \"\\u001b[0m\"  # reset\n",
    "        )\n",
    "    del sys  # Do not need it anymore\n",
    "\n",
    "    import typing\n",
    "    from typing import Callable, List, Tuple, Union\n",
    "\n",
    "    ### Import third party libraries\n",
    "    # Initialize self assessment helper\n",
    "    import otter\n",
    "\n",
    "    grader = otter.Notebook(\"Assignment_Q1_L1.ipynb\")\n",
    "\n",
    "    import numpy as np\n",
    "    import numpy.typing as npt\n",
    "\n",
    "    print_import_info(np)\n",
    "\n",
    "    import scipy\n",
    "\n",
    "    print_import_info(scipy)\n",
    "\n",
    "    import matplotlib\n",
    "    import matplotlib.pyplot as plt\n",
    "\n",
    "    print_import_info(matplotlib)\n",
    "\n",
    "    IMPORTED_ALL = True\n",
    "    print(\"Finished importing packages\")\n",
    "else:\n",
    "    print(\"Already imported all packages\")"
   ]
  },
  {
   "cell_type": "markdown",
   "id": "b40a7d41",
   "metadata": {
    "deletable": false,
    "editable": false
   },
   "source": [
    "## Question 1: Playing around with Python\n",
    "### 1.1 Basic variable assignments\n",
    "To get started with Python, start by getting familiar with the basics. Start by defining some variables:\n",
    "- An integer variable called `my_integer` with the value 5.\n",
    "- A float variable called `my_float`  with the value 5.\n",
    "- A string variable named `my_string` with the value 5.\n",
    "- A list named `my_list` with four integer members `1`, `2`, `9`, and `1`.\n",
    "- A dictionary `my_dictionary` with strings of the element symbols for carbon (`\"C\"`), oxygen (`\"O\"`), and hydrogen (`\"H\"`) as keys, and floats of the atomic masses in $u$ of the elements as values (carbon: $12.01$, oxygen: $16$, hydrogen: $1$)"
   ]
  },
  {
   "cell_type": "code",
   "execution_count": 16,
   "id": "4325fac9",
   "metadata": {
    "tags": [
     "otter_answer_cell"
    ]
   },
   "outputs": [
    {
     "name": "stdout",
     "output_type": "stream",
     "text": [
      "5\n",
      "5.0\n",
      "5\n",
      "[1, 2, 9, 1]\n",
      "{'C': 12.01, 'O': 16.0, 'H': 1.0}\n"
     ]
    }
   ],
   "source": [
    "my_integer = 5\n",
    "my_float = 5.0 \n",
    "my_string = '5'\n",
    "my_list = [1,2,9,1]\n",
    "my_dictionary = {\"C\": 12.01, \"O\": 16.00, \"H\":1.00}\n",
    "print(my_integer)\n",
    "print(my_float)\n",
    "print(my_string)\n",
    "print(my_list)\n",
    "print(my_dictionary)"
   ]
  },
  {
   "cell_type": "code",
   "execution_count": 17,
   "id": "a31fc4dd",
   "metadata": {
    "deletable": false,
    "editable": false
   },
   "outputs": [
    {
     "data": {
      "text/html": [
       "<p><strong><pre style='display: inline;'>q1.1</pre></strong> passed! 🍀</p>"
      ],
      "text/plain": [
       "q1.1 results: All test cases passed!"
      ]
     },
     "execution_count": 17,
     "metadata": {},
     "output_type": "execute_result"
    }
   ],
   "source": [
    "grader.check(\"q1.1\")"
   ]
  },
  {
   "cell_type": "markdown",
   "id": "f1338f54",
   "metadata": {
    "deletable": false,
    "editable": false
   },
   "source": [
    "### 1.2 Basic operations, comparisons, and print statements\n",
    "Perform some basic operations on variables and print your results.\n",
    "- Add $7$ to the previously defined `my_integer` and save it in a new variable `my_new_integer`.\n",
    "- Subtract $1.7$ from the previously defined `my_float`, then multiply it by 23.05 and save it in a new variable `my_new_float`.\n"
   ]
  },
  {
   "cell_type": "code",
   "execution_count": 25,
   "id": "dc1f9843",
   "metadata": {
    "tags": [
     "otter_answer_cell"
    ]
   },
   "outputs": [],
   "source": [
    "my_new_integer = my_integer + 7\n",
    "my_new_float = (my_float - 1.7)*23.05 "
   ]
  },
  {
   "cell_type": "code",
   "execution_count": 26,
   "id": "bd7a991e",
   "metadata": {
    "deletable": false,
    "editable": false
   },
   "outputs": [
    {
     "data": {
      "text/html": [
       "<p><strong><pre style='display: inline;'>q1.2</pre></strong> passed! 🎉</p>"
      ],
      "text/plain": [
       "q1.2 results: All test cases passed!"
      ]
     },
     "execution_count": 26,
     "metadata": {},
     "output_type": "execute_result"
    }
   ],
   "source": [
    "grader.check(\"q1.2\")"
   ]
  },
  {
   "cell_type": "markdown",
   "id": "7a6f17e2",
   "metadata": {
    "deletable": false,
    "editable": false
   },
   "source": [
    "### 1.3 Basic boolean operations and if statements\n",
    "Do some variable comparisons and use boolean operations.\n",
    "- Is the calculation correct? Then `my_new_integer` should be equal to $12$. Use an if statement to print `my_new_integer is correct` if it is equal to $12$.\n",
    "- Is `my_new_float` greater, or less or equal to $63.1$? Use an if statement to check for this and print the string \"greater\" if it is greater or \"lower or equal\" if it is lower or equal to $63.1$."
   ]
  },
  {
   "cell_type": "code",
   "execution_count": 27,
   "id": "91e422e7",
   "metadata": {
    "tags": [
     "otter_answer_cell"
    ]
   },
   "outputs": [
    {
     "name": "stdout",
     "output_type": "stream",
     "text": [
      "Correct\n",
      "greater\n"
     ]
    }
   ],
   "source": [
    "if my_new_integer == 12:\n",
    "    print(\"Correct\")\n",
    "\n",
    "if my_new_float > 63.1:\n",
    "    print(\"greater\")\n",
    "elif my_new_float == 63.1:\n",
    "    print(\"equal\")\n",
    "elif my_new_float < 63.1:\n",
    "    print(\"lower\")\n"
   ]
  },
  {
   "cell_type": "code",
   "execution_count": 28,
   "id": "8293353b",
   "metadata": {
    "deletable": false,
    "editable": false
   },
   "outputs": [
    {
     "data": {
      "text/html": [
       "<p><strong><pre style='display: inline;'>q1.3</pre></strong> passed! 🌈</p>"
      ],
      "text/plain": [
       "q1.3 results: All test cases passed!"
      ]
     },
     "execution_count": 28,
     "metadata": {},
     "output_type": "execute_result"
    }
   ],
   "source": [
    "grader.check(\"q1.3\")"
   ]
  },
  {
   "cell_type": "markdown",
   "id": "507d3290",
   "metadata": {
    "deletable": false,
    "editable": false
   },
   "source": [
    "### 1.4 Basic string operations\n",
    "Practice how to handle strings:\n",
    "- Create a string variable called `string1` and assign it the string `\"Hello\"`.\n",
    "- Create a string variable called `string2` and assign it the string `\"World\"`.\n",
    "- Join the strings into a new string variable called `joined_string`. Make sure there is a space in between.\n",
    "- Make a new string variable called `lower_joined_string`, which is the same as `joined_string` but with all letters in lower case.\n",
    "- Make a new string variable called `lpwer_jpined_string`,  which is the same as `lower_joined_string` but in which all occurrences of `o` are replaced with a `p`."
   ]
  },
  {
   "cell_type": "code",
   "execution_count": 32,
   "id": "cb94a5cc",
   "metadata": {
    "tags": [
     "otter_answer_cell"
    ]
   },
   "outputs": [
    {
     "name": "stdout",
     "output_type": "stream",
     "text": [
      "Hello World\n",
      "hello world\n",
      "hellp wprld\n"
     ]
    }
   ],
   "source": [
    "string1 = \"Hello\"\n",
    "string2 = \"World\"\n",
    "joined_string = string1 +\" \"+ string2\n",
    "lower_joined_string = joined_string.lower()\n",
    "lpwer_jpined_string = lower_joined_string.replace(\"o\", \"p\")\n",
    "print(joined_string)\n",
    "print(lower_joined_string)\n",
    "print(lpwer_jpined_string)"
   ]
  },
  {
   "cell_type": "code",
   "execution_count": 33,
   "id": "729f81a2",
   "metadata": {
    "deletable": false,
    "editable": false
   },
   "outputs": [
    {
     "data": {
      "text/html": [
       "<p><strong><pre style='display: inline;'>q1.4</pre></strong> passed! 🚀</p>"
      ],
      "text/plain": [
       "q1.4 results: All test cases passed!"
      ]
     },
     "execution_count": 33,
     "metadata": {},
     "output_type": "execute_result"
    }
   ],
   "source": [
    "grader.check(\"q1.4\")"
   ]
  },
  {
   "cell_type": "markdown",
   "id": "3864166a",
   "metadata": {
    "deletable": false,
    "editable": false
   },
   "source": [
    "### 1.5 Using loops and if statements\n",
    "The factorial operation on a positive integer $n$ is defined as the product of all positive integers from $1$ to $n$. It is expressed with an exclamation mark $n!$:\n",
    "$$\n",
    "n! = \\prod_{k=1}^{n} k = n \\cdot (n-1) \\cdot (n-2) \\cdot ... \\cdot 2 \\cdot 1\n",
    "$$\n",
    "\n",
    "Let us explore loops and if statements by looking at different ways to calculate the factorial. Implement the following:\n",
    "- Calculate the factorial of 5 by using a for loop with the range statement and store it in a variable `five_factorial_for_loop`.\n",
    "- Now, calculate the factorial of 5 by using a while-loop and store it in a variable `five_factorial_while_loop`."
   ]
  },
  {
   "cell_type": "code",
   "execution_count": 50,
   "id": "9908223a",
   "metadata": {
    "tags": [
     "otter_answer_cell"
    ]
   },
   "outputs": [
    {
     "name": "stdout",
     "output_type": "stream",
     "text": [
      "120\n",
      "120\n"
     ]
    }
   ],
   "source": [
    "def factorial_for(n):\n",
    "    \"\"\"This is a definition function which finds the factorial the number n\"\"\"\n",
    "    value = n\n",
    "    for i in range(1,n):\n",
    "        value *= i\n",
    "    return value\n",
    "five_factorial_for_loop = factorial_for(5)\n",
    "\n",
    "def factorial_while(n):\n",
    "    \"\"\"This is a definition function which finds the factorial of a number n using a while loop\"\"\"\n",
    "\n",
    "    value = n\n",
    "    i = 1\n",
    "    while i < n:\n",
    "        value *= i\n",
    "        i += 1\n",
    "        \n",
    "    return value\n",
    "\n",
    "five_factorial_while_loop = factorial_while(5)\n",
    "\n",
    "print(five_factorial_for_loop)\n",
    "print(five_factorial_while_loop)"
   ]
  },
  {
   "cell_type": "code",
   "execution_count": 51,
   "id": "839610c3",
   "metadata": {
    "deletable": false,
    "editable": false
   },
   "outputs": [
    {
     "data": {
      "text/html": [
       "<p><strong><pre style='display: inline;'>q1.5</pre></strong> passed! 🚀</p>"
      ],
      "text/plain": [
       "q1.5 results: All test cases passed!"
      ]
     },
     "execution_count": 51,
     "metadata": {},
     "output_type": "execute_result"
    }
   ],
   "source": [
    "grader.check(\"q1.5\")"
   ]
  },
  {
   "cell_type": "markdown",
   "id": "6f24077a",
   "metadata": {
    "deletable": false,
    "editable": false
   },
   "source": [
    "### 1.6 Basic plotting\n",
    "Below, two numpy arrays `x` and `y` are defined. They represent data $1000$ points for the linear function $y = 2x - 1$ on an interval of `x` between $0$ and $100$. Plot `x` against `y` with matplotlib! Make sure to add a title, a legend, and axis labels to your plot."
   ]
  },
  {
   "cell_type": "code",
   "execution_count": 57,
   "id": "9b59eba3",
   "metadata": {
    "tags": [
     "otter_answer_cell"
    ]
   },
   "outputs": [
    {
     "data": {
      "image/png": "[encoded data removed]",
      "text/plain": [
       "<Figure size 640x480 with 1 Axes>"
      ]
     },
     "metadata": {},
     "output_type": "display_data"
    }
   ],
   "source": [
    "x = np.linspace(0, 100, 1000)\n",
    "y = 2 * x - 1\n",
    "fig, ax = plt.subplots()\n",
    "ax.plot(x,y, label = \"distance\")\n",
    "ax.set_title(\"Distance Plot\")\n",
    "ax.set_xlabel('time')\n",
    "ax.set_ylabel('distance')\n",
    "ax.legend()\n",
    "distance_plot = fig, [ax]"
   ]
  },
  {
   "cell_type": "code",
   "execution_count": 58,
   "id": "5b3b427a",
   "metadata": {
    "deletable": false,
    "editable": false
   },
   "outputs": [
    {
     "data": {
      "text/html": [
       "<p><strong><pre style='display: inline;'>q1.6</pre></strong> passed! 🎉</p>"
      ],
      "text/plain": [
       "q1.6 results: All test cases passed!"
      ]
     },
     "execution_count": 58,
     "metadata": {},
     "output_type": "execute_result"
    }
   ],
   "source": [
    "grader.check(\"q1.6\")"
   ]
  },
  {
   "cell_type": "markdown",
   "id": "2ecd7d6f",
   "metadata": {
    "deletable": false,
    "editable": false
   },
   "source": [
    "## Question 2: Calculating Antoine's equation\n",
    "### 2.1 Defining the variables and performing calculations\n",
    "\n",
    "The Antoine equation is a mathematical expression used to describe the relationship between the vapor pressure of a pure substance and its temperature. It is commonly used in thermodynamics and chemical engineering to estimate the vapor pressure of liquids. Vapor pressures are crucial to calculate vapor-liquid equilibria, and therefore lie at the heart of many chemical engineering and process design problems.\n",
    "\n",
    "The Antoine equation is given by:\n",
    "\n",
    "$ \\log_{10} P_{vap}(T) = A - \\frac{B}{C + T} $\n",
    "\n",
    "where:\n",
    "- $ P_{vap} $ is the vapor pressure of the substance in mmHg.\n",
    "- $ T $ is the temperature of the substance in °C.\n",
    "- $ A $, $ B $, and $ C $ are substance-specific empirical constants.\n",
    "\n",
    "Note that often the Antoine equation parameters depend on the temperature range considered.\n",
    "\n",
    "- For water, in the temperature range 1°C to 100°C, the Antoine parameters are:\n",
    "  - $ A = 8.07131 $\n",
    "  - $ B = 1730.63 $\n",
    "  - $ C = 233.426 $\n",
    "\n",
    "Let's use python to calculate some vapor pressures! \n",
    "- Define A, B, and C as float variables named `A`, `B`, and `C`. \n",
    "- Define our temperature of interest, 35°C in a float variable `T`. \n",
    "- Calculate the vapor pressure of water in mmHg at that temperature and store it in a variable `p_v`.\n",
    "\n",
    "Is there a way with which you can verify your calculation? (perhaps by using one different temperature?)"
   ]
  },
  {
   "cell_type": "code",
   "execution_count": null,
   "id": "dfcffad0",
   "metadata": {
    "tags": [
     "otter_answer_cell"
    ]
   },
   "outputs": [
    {
     "name": "stdout",
     "output_type": "stream",
     "text": [
      "42.07108718486802\n"
     ]
    }
   ],
   "source": [
    "A = 8.07131\n",
    "B = 1730.63\n",
    "C = 233.426\n",
    "T = 35.0\n",
    "def antoine_eq(a,b,c,T):\n",
    "    \"\"\"antoine_eq\n",
    "    where a,b,c are constants \n",
    "    T is the temperature\n",
    "    \"\"\"\n",
    "    return 10**(a - (b/(c+T)))\n",
    "\n",
    "p_v = antoine_eq(A,B,C,T)\n",
    "print(p_v)"
   ]
  },
  {
   "cell_type": "code",
   "execution_count": 66,
   "id": "cb1384e5",
   "metadata": {
    "deletable": false,
    "editable": false
   },
   "outputs": [
    {
     "data": {
      "text/html": [
       "<p><strong><pre style='display: inline;'>q2.1</pre></strong> passed! 🍀</p>"
      ],
      "text/plain": [
       "q2.1 results: All test cases passed!"
      ]
     },
     "execution_count": 66,
     "metadata": {},
     "output_type": "execute_result"
    }
   ],
   "source": [
    "grader.check(\"q2.1\")"
   ]
  },
  {
   "cell_type": "markdown",
   "id": "48a2a4f1",
   "metadata": {
    "deletable": false,
    "editable": false
   },
   "source": [
    "### 2.2 Data classes for collections and for-loops.\n",
    "\n",
    "For a larger design problem, we need vapor pressures for many different temperatures. But we do not want to copy-paste the formula each time.\n",
    "\n",
    "Calculate the vapor pressure for each of the following temperatures:\n",
    "- 10°C\n",
    "- 50°C\n",
    "- 70°C\n",
    "- 90°C\n",
    "\n",
    "Collect the temperatures in a list denoted as `T_list`, and use a for-loop to calculate the vapor pressure for each temperature. In order to later retrieve the calculated values, we want to store them in a dictionary `p_v_dict`, where the temperature is used as a key for the correstponding vapor pressure:\n"
   ]
  },
  {
   "cell_type": "code",
   "execution_count": 71,
   "id": "705320c5",
   "metadata": {
    "tags": [
     "otter_answer_cell"
    ]
   },
   "outputs": [
    {
     "name": "stdout",
     "output_type": "stream",
     "text": [
      "{10.0: 9.158816546056572, 50.0: 92.29988808037632, 70.0: 233.17329059862308, 90.0: 525.2664328234991}\n"
     ]
    }
   ],
   "source": [
    "T_list = [10.0,50.0,70.0,90.0]\n",
    "p_v_dict = {}\n",
    "for i in T_list:\n",
    "    p_v_dict.update({i:antoine_eq(A,B,C,i)})\n",
    "\n",
    "\n",
    "print(p_v_dict)"
   ]
  },
  {
   "cell_type": "code",
   "execution_count": 72,
   "id": "d8e8fd01",
   "metadata": {
    "deletable": false,
    "editable": false
   },
   "outputs": [
    {
     "data": {
      "text/html": [
       "<p><strong><pre style='display: inline;'>q2.2</pre></strong> passed! 🚀</p>"
      ],
      "text/plain": [
       "q2.2 results: All test cases passed!"
      ]
     },
     "execution_count": 72,
     "metadata": {},
     "output_type": "execute_result"
    }
   ],
   "source": [
    "grader.check(\"q2.2\")"
   ]
  },
  {
   "cell_type": "markdown",
   "id": "eaf69714",
   "metadata": {
    "deletable": false,
    "editable": false
   },
   "source": [
    "### 2.3 Functions and if-statements.\n",
    "\n",
    "They say that once you need a piece of code more than twice, you should write a function. We have calculated vapor pressures for water a couple of times now, so it's about time we do that.\n",
    "\n",
    "- Write a function named `vapor_pressure_water` that takes (only!) the temperature in °C as input. It is supposed to calculate the vapor pressure of water at that temperature in mmHg and return that as a float.\n",
    "- Redeclare the parameters for A, B, and C within the function, so you can use them there.\n",
    "- We do not want anybody to misuse our function, so we want to make sure that the temperature passed as an argument is within the validity range of our Antoine parameters, i.e. 1°C and 100°C. Let the function return -1 in case the temperature is outside the validity range to indicate an invalid input.\n"
   ]
  },
  {
   "cell_type": "code",
   "execution_count": 88,
   "id": "ec23a4d4",
   "metadata": {
    "tags": [
     "otter_answer_cell"
    ]
   },
   "outputs": [
    {
     "name": "stdout",
     "output_type": "stream",
     "text": [
      "23.686413553095218\n"
     ]
    }
   ],
   "source": [
    "def vapor_pressure_water(T):\n",
    "    \"\"\"antoine_eq\n",
    "    where a,b,c are constants \n",
    "    T is the temperature\n",
    "    \"\"\"\n",
    "    A = 8.07131\n",
    "    B = 1730.63\n",
    "    C = 233.426 \n",
    "    if 1<=T <=100:\n",
    "        return 10**(A - (B/(C+T)))\n",
    "    else: \n",
    "        return -1\n",
    "\n",
    "print(vapor_pressure_water(25))"
   ]
  },
  {
   "cell_type": "code",
   "execution_count": 89,
   "id": "1f817732",
   "metadata": {
    "deletable": false,
    "editable": false
   },
   "outputs": [
    {
     "data": {
      "text/html": [
       "<p><strong><pre style='display: inline;'>q2.3</pre></strong> passed! 🍀</p>"
      ],
      "text/plain": [
       "q2.3 results: All test cases passed!"
      ]
     },
     "execution_count": 89,
     "metadata": {},
     "output_type": "execute_result"
    }
   ],
   "source": [
    "grader.check(\"q2.3\")"
   ]
  },
  {
   "cell_type": "markdown",
   "id": "c1452b34",
   "metadata": {
    "deletable": false,
    "editable": false
   },
   "source": [
    "### 2.4 Creating and plotting some data with numpy and matplotlib.\n",
    "Let us use our new function to create a plot for our water vapor pressure.\n",
    "- First, create a numpy array called `T_range` with 100 equidistant values between 20°C and 80°C.\n",
    "- Next, calculate the corresponding vapor pressure with your new function for each of these values and collect them in another numpy array called `p_v_range`.\n",
    "- Plot the two arrays against each other with matplotlib using `plt.subplots`. Make sure to add axis labels and a title. Although you will have only one line, add a legend into the plot.\n"
   ]
  },
  {
   "cell_type": "code",
   "execution_count": null,
   "id": "9ad7cd9f",
   "metadata": {
    "tags": [
     "otter_answer_cell"
    ]
   },
   "outputs": [
    {
     "name": "stdout",
     "output_type": "stream",
     "text": [
      "[np.float64(17.47325208459706), np.float64(18.141198458938266), np.float64(18.831315191666615), np.float64(19.544219395538512), np.float64(20.280541736284235), np.float64(21.04092663754203), np.float64(21.82603248697991), np.float64(22.636531843580492), np.float64(23.47311164606295), np.float64(24.336473422417505), np.float64(25.227333500526512), np.float64(26.14642321984469), np.float64(27.094489144114014), np.float64(28.072293275085013), np.float64(29.080613267217597), np.float64(30.12024264333391), np.float64(31.191991011196333), np.float64(32.29668428098083), np.float64(33.43516488361899), np.float64(34.60829198997927), np.float64(35.81694173085918), np.float64(37.06200741775797), np.float64(38.344399764402255), np.float64(39.66504710899412), np.float64(41.024895637150806), np.float64(42.42490960550857), np.float64(43.86607156595733), np.float64(45.34938259047881), np.float64(46.875862496554035), np.float64(48.44655007311326), np.float64(50.062503306993776), np.float64(51.72479960987671), np.float64(53.43453604567043), np.float64(55.19282955831093), np.float64(57.00081719994338), np.float64(58.85965635945839), np.float64(60.770524991348), np.float64(62.73462184484949), np.float64(64.75316669334612), np.float64(66.82740056399274), np.float64(68.95858596753293), np.float64(71.1480071282751), np.float64(73.39697021419924), np.float64(75.70680356715448), np.float64(78.07885793312327), np.float64(80.51450669251341), np.float64(83.01514609044926), np.float64(85.58219546702735), np.float64(88.21709748750484), np.float64(90.92131837238982), np.float64(93.69634812739628), np.float64(96.54370077323713), np.float64(99.4649145752192), np.float64(102.46155227260795), np.float64(105.53520130773053), np.float64(108.68747405478481), np.float64(111.9200080483225), np.float64(115.23446621137025), np.float64(118.63253708316336), np.float64(122.11593504645478), np.float64(125.68640055436954), np.float64(129.34570035676978), np.float64(133.095627726107), np.float64(136.93800268271548), np.float64(140.8746722195318), np.float64(144.90751052619504), np.float64(149.03841921250708), np.float64(153.2693275312118), np.float64(157.60219260007227), np.float64(162.03899962320853), np.float64(166.5817621116635), np.float64(171.23252210317756), np.float64(175.99335038112397), np.float64(180.86634669259632), np.float64(185.85363996559335), np.float64(190.95738852529777), np.float64(196.17978030939338), np.float64(201.52303308241568), np.float64(206.9893946490846), np.float64(212.58114306660784), np.float64(218.30058685591771), np.float64(224.15006521180806), np.float64(230.13194821195813), np.float64(236.24863702479962), np.float64(242.50256411620686), np.float64(248.89619345498278), np.float64(255.43202071711244), np.float64(262.11257348875176), np.float64(268.9404114679348), np.float64(275.9181266649629), np.float64(283.0483436014573), np.float64(290.3337195080434), np.float64(297.7769445206448), np.float64(305.38074187536097), np.float64(313.14786810189526), np.float64(321.08111321552974), np.float64(329.1833009075932), np.float64(337.4572887344217), np.float64(345.90596830477625), np.float64(354.532265465696)]\n"
     ]
    },
    {
     "data": {
      "image/png": "[encoded data removed]",
      "text/plain": [
       "<Figure size 640x480 with 1 Axes>"
      ]
     },
     "metadata": {},
     "output_type": "display_data"
    }
   ],
   "source": [
    "T_range = np.linspace(20,80,100)\n",
    "p_v_range = []\n",
    "for i in T_range: \n",
    "    p_v_range.append(vapor_pressure_water(i))\n",
    "\n",
    "\n",
    "fig, ax = plt.subplots()\n",
    "ax.plot(T_range,p_v_range, label = \"pressure\")\n",
    "ax.set_title(\"antoine's equation\")\n",
    "ax.set_xlabel('Temperature (C)')\n",
    "ax.set_ylabel('Pressure (Pa)')\n",
    "ax.legend()\n",
    "\n",
    "plot_vapor_pressure = fig, [ax]"
   ]
  },
  {
   "cell_type": "code",
   "execution_count": 86,
   "id": "bcaaa734",
   "metadata": {
    "deletable": false,
    "editable": false
   },
   "outputs": [
    {
     "data": {
      "text/html": [
       "<p><strong><pre style='display: inline;'>q2.4</pre></strong> passed! 🌟</p>"
      ],
      "text/plain": [
       "q2.4 results: All test cases passed!"
      ]
     },
     "execution_count": 86,
     "metadata": {},
     "output_type": "execute_result"
    }
   ],
   "source": [
    "grader.check(\"q2.4\")"
   ]
  },
  {
   "cell_type": "markdown",
   "id": "62a1e94e",
   "metadata": {
    "deletable": false,
    "editable": false
   },
   "source": [
    "### 2.5 Creating and plots with multiple lines.\n",
    "In order to compare the vapor pressure of water with the vapor pressure of ethanol over different temperatures, plot the two vapor pressures over temperature in the same plot.\n",
    "\n",
    "The Antoine parameters for ethanol in the range of -57°C and 80°C are:\n",
    "- $ A = 8.20417 $\n",
    "- $ B = 1642.89 $\n",
    "- $ C = 230.300 $\n",
    "\n",
    "- First, implement a second function called `vapor_pressure_ethanol` that takes (only!) the temperature in °C as input. It is supposed to calculate the vapor pressure of ethanol at that temperature in mmHg and return that as a float.\n",
    "- Redeclare the parameters for A, B, and C within the function, so you can use them there.\n",
    "- We do not want anybody to misuse our function, so we want to make sure that the temperature passed as an argument is within the validity range of our Antoine parameters, i.e. -57°C and 80°C. Let the function return -1 in case the temperature is outside the validity range to indicate an invalid input."
   ]
  },
  {
   "cell_type": "code",
   "execution_count": 98,
   "id": "675b20d0",
   "metadata": {
    "tags": [
     "otter_answer_cell"
    ]
   },
   "outputs": [
    {
     "name": "stdout",
     "output_type": "stream",
     "text": [
      "58.753651766755986\n"
     ]
    }
   ],
   "source": [
    "\n",
    "def vapor_pressure_ethanol(T):\n",
    "    \"\"\"This fuction uses the antonei equation to find the vapor pressure of ethanol\"\"\"\n",
    "\n",
    "    a = 8.20417\n",
    "    b = 1642.89\n",
    "    c = 230.300\n",
    "\n",
    "    if -57<=T<=80:\n",
    "        return 10**(a - (b/(c+T)))\n",
    "    else:\n",
    "        return -1\n",
    "\n",
    "\n",
    "\n",
    "print(vapor_pressure_ethanol(25))"
   ]
  },
  {
   "cell_type": "code",
   "execution_count": 99,
   "id": "33a543e2",
   "metadata": {
    "deletable": false,
    "editable": false
   },
   "outputs": [
    {
     "data": {
      "text/html": [
       "<p><strong><pre style='display: inline;'>q2.5a</pre></strong> passed! 🌈</p>"
      ],
      "text/plain": [
       "q2.5a results: All test cases passed!"
      ]
     },
     "execution_count": 99,
     "metadata": {},
     "output_type": "execute_result"
    }
   ],
   "source": [
    "grader.check(\"q2.5a\")"
   ]
  },
  {
   "cell_type": "markdown",
   "id": "690fcc09",
   "metadata": {
    "deletable": false,
    "editable": false
   },
   "source": [
    "Now, use `vapor_pressure_water` and `vapor_pressure_ethanol` to plot the two vapor pressures of both water and ethanol in one graph for comparison.\n",
    "- First, create a numpy array called `T_range` with 100 equidistant values between 20°C and 80°C.\n",
    "- Next, calculate the corresponding vapor pressure with the for each of these values and collect them in another numpy array called `p_v_range_water` for water and `p_v_range_ethanol` for ethanol.\n",
    "- Plot both vapor pressures against the temperature with matplotlib using `plt.subplots`. Make sure to add axis labels and a title. Add a legend to distinguish between water and ethanol.\n",
    "- Do your plots make sense? Why/why not?"
   ]
  },
  {
   "cell_type": "code",
   "execution_count": null,
   "id": "b5104a0f",
   "metadata": {
    "tags": [
     "otter_answer_cell"
    ]
   },
   "outputs": [
    {
     "data": {
      "image/png": "[encoded data removed]",
      "text/plain": [
       "<Figure size 640x480 with 1 Axes>"
      ]
     },
     "metadata": {},
     "output_type": "display_data"
    }
   ],
   "source": [
    "T_range = np.linspace(20,80,100)\n",
    "p_v_range_water = []\n",
    "for i in T_range:\n",
    "    p_v_range_water.append(vapor_pressure_water(i))\n",
    "\n",
    "p_v_range_ethanol = []\n",
    "for i in T_range:\n",
    "    p_v_range_ethanol.append(vapor_pressure_ethanol(i))\n",
    "\n",
    "fig, ax = plt.subplots()\n",
    "ax.plot(T_range,p_v_range_water, label = \"vapure pressure of water\")\n",
    "ax.plot(T_range,p_v_range_ethanol, label =\"vapore pressure of ethanol\")\n",
    "ax.set_title(\"antoine's equation\")\n",
    "ax.set_xlabel('Temperature (C)')\n",
    "ax.set_ylabel('Pressure (Pa)')\n",
    "ax.legend()\n",
    "\n",
    "\n",
    "plot_vapor_pressure = fig, [ax]"
   ]
  },
  {
   "cell_type": "code",
   "execution_count": 101,
   "id": "279fbedf",
   "metadata": {
    "deletable": false,
    "editable": false
   },
   "outputs": [
    {
     "data": {
      "text/html": [
       "<p><strong><pre style='display: inline;'>q2.5b</pre></strong> passed! 💯</p>"
      ],
      "text/plain": [
       "q2.5b results: All test cases passed!"
      ]
     },
     "execution_count": 101,
     "metadata": {},
     "output_type": "execute_result"
    }
   ],
   "source": [
    "grader.check(\"q2.5b\")"
   ]
  },
  {
   "cell_type": "markdown",
   "id": "ae2a1d4b",
   "metadata": {},
   "source": [
    "### 2.6 Reflect: Performance improvement with numpy\n",
    "In Question 2.5, you used the functions `vapor_pressure_water` and `vapor_pressure_ethanol` and called them on the entries of numpy arrays. However, the functions `vapor_pressure_water` and `vapor_pressure_ethanol` were designed to be run on single Python `float` variables. Explain why this is probably inefficient. How else could you implement `vapor_pressure_water` and `vapor_pressure_ethanol` to efficiently calculate ranges of temperature inputs stored in a numpy array?\n"
   ]
  },
  {
   "cell_type": "markdown",
   "id": "e94e10fe",
   "metadata": {
    "deletable": false,
    "editable": false
   },
   "source": [
    "## Bonus Question 3: Calculating molecular weights\n",
    "In the following, develop a function that calculates the molecular weight of a simple organic molecule! The function will take a molecular structure encoded in a particular way as an input. It will calculate the corresponding molecular weight and return this as a float variable.\n",
    "\n",
    "Because a molecule is a complex 3-dimensional structure, it is not easy to capture it fully in a basic data type. For this exercise, we will use a simple string notation. In this string, each character will represent one atom occurring in the molecule. In the table below are some examples of how some of the notations look like.\n",
    "\n",
    "| Compound | Chemical formula | String notation   |\n",
    "|----------|------------------|-------------------|\n",
    "| Water    | H<sub>2</sub>O    | `HOH`              |\n",
    "| Ethanol  | C<sub>2</sub>H<sub>5</sub>OH | `OHCHHCHHH`        |\n",
    "| Benzene  | C<sub>6</sub>H<sub>6</sub>    | `CHCHCHCHCHCH`    |\n",
    "| Nitric Acid | HNO<sub>3</sub>            | `HNOOO`           |\n",
    "\n",
    "(Sidenote: While this simplified string notation can capture the atomic composition of the molecule, it fails to store structural information like the arrangement of the atoms in the molecule, bond types within it, . If you are interested how this can be achieved, check out [the Simplified Molecular Input Line Entry System (SMILES)](https://chemicbook.com/2021/02/13/smiles-strings-explained-for-beginners-part-1.html) ([(Original publication)](https://doi.org/10.1021/ci00057a005))).\n",
    "\n",
    "For our function, we assume that we will encounter carbon, oxygen, hydrogen, and nitrogen in the molecular strings.\n",
    "| Element   | Symbol    | Atomic Weight (in $u$)  |\n",
    "|-----------|-----------|-----------------|\n",
    "| Carbon    | `\"C\"`     | $12.01$         |\n",
    "| Oxygen    | `\"O\"`     | $16.00$         |\n",
    "| Hydrogen  | `\"H\"`     | $1.00$          |\n",
    "| Nitrogen  | `\"N\"`     | $14.01$         |\n",
    "\n",
    "To accomodate atom types that are not part of this vocabulary, we define a custom token. Thereby, we can specify other atoms to add by directly including the molar weight in boxy brackets instead of the element symbol. For example, let us include sulfur (with an atomic weight of $32.01$) and phosphorus (with an atomic weight of $30.97$) in some examples below: \n",
    "\n",
    "| Compound      | Chemical Formula              | String Notation           |\n",
    "|---------------|--------------------------------|---------------------------|\n",
    "| Sulfuric Acid | H<sub>2</sub>SO<sub>4</sub>    | `HH[32.07]OOOO`            |\n",
    "| Phosphoric Acid | H<sub>3</sub>PO<sub>4</sub>  | `HHH[30.97]OOOO`           |\n",
    "\n",
    "Note: The molecular weight of the custom atom is a string. But it should be formatted so that the substring enclosed in the boxy brackets can be casted into a float value directly. This makes custom atoms like `[32,01]` or `[32.01C]` `[Thirty-two-point-zero-one]` invalid.\n",
    "\n",
    "Task:\n",
    "- Write a function called `calculate_molecular_weight`, which takes a molecule encoded as a string as an input and outputs the molecular weight.\n",
    "- To this end, the function should iterate over each character in the string and add the atomic weights of the atoms encountered.\n",
    "- The atomic weights corresponding to each atomic symbol could e.g. be stored in a dictionary.\n",
    "- Think of a way to additionally add the explicit atomic weights of custom elements that are not covered in the vocabulary.\n",
    "- If the string is in some way invalid, return a Python `None` value. A string can be invalid if e.g. a symbol is encountered that is not part of the vocabulary, if a custom atom is incorrectly formatted, if the custom atom has a negative mass, or perhaps if the string isn't an encoded molecule at all.\n",
    "- Finally, output the calculated molecular weight!\n",
    "\n",
    "\n"
   ]
  },
  {
   "cell_type": "code",
   "execution_count": null,
   "id": "4ce20f7e",
   "metadata": {
    "tags": [
     "otter_answer_cell"
    ]
   },
   "outputs": [
    {
     "name": "stdout",
     "output_type": "stream",
     "text": [
      "2.0\n",
      "98.07\n",
      "None\n"
     ]
    }
   ],
   "source": [
    "def calculate_molecular_weight(molecule):\n",
    "    \"\"\"\n",
    "    Function reads a string input, scanning it for atoms C,H,O, and N. \n",
    "    It then adds the atomic weight of these atoms to the total molecular weight. \n",
    "    For atoms which are not the above stated, enter the atomic weight in []. \n",
    "    This weight will be added to the total weight.\n",
    "    Invalid inputs should return None.\n",
    "    \"\"\"\n",
    "\n",
    "    atomic_weights = {\"C\": 12.01, \"H\": 1.00, \"O\": 16.00, \"N\": 14.01}\n",
    "    total_weight = 0 \n",
    "    \n",
    "    i = 0  \n",
    "    while i < len(molecule):\n",
    "        if molecule[i] == \"[\":\n",
    "            j = i + 1\n",
    "            while j < len(molecule) and molecule[j] != \"]\":\n",
    "                j += 1\n",
    "            if j >= len(molecule): \n",
    "                return None\n",
    "            num_str = molecule[i+1:j]\n",
    "            try:\n",
    "                value = float(num_str)\n",
    "                if value < 0:\n",
    "                    return None\n",
    "                total_weight += value\n",
    "            except ValueError:\n",
    "                return None\n",
    "            i = j + 1  \n",
    "        elif molecule[i] in atomic_weights:\n",
    "            total_weight += atomic_weights[molecule[i]]\n",
    "            i += 1\n",
    "        elif molecule[i] == \"]\":  \n",
    "            return None\n",
    "        else:  \n",
    "            return None\n",
    "        \n",
    "\n",
    "    return total_weight\n",
    "\n",
    "\n",
    "\n",
    "\n",
    "print(calculate_molecular_weight(\"HH\"))             # 2.0\n",
    "print(calculate_molecular_weight(\"HH[32.07]OOOO\"))  # 98.07\n",
    "print(calculate_molecular_weight(\"H]OH\"))            # 18.0\n"
   ]
  },
  {
   "cell_type": "code",
   "execution_count": 136,
   "id": "56e6a7a2",
   "metadata": {
    "deletable": false,
    "editable": false
   },
   "outputs": [
    {
     "data": {
      "text/html": [
       "<p><strong><pre style='display: inline;'>q3</pre></strong> passed! 🍀</p>"
      ],
      "text/plain": [
       "q3 results: All test cases passed!"
      ]
     },
     "execution_count": 136,
     "metadata": {},
     "output_type": "execute_result"
    }
   ],
   "source": [
    "grader.check(\"q3\")"
   ]
  }
 ],
 "metadata": {
  "jupytext": {
   "cell_markers": "\"\"\"",
   "formats": "ipynb,py:percent"
  },
  "kernelspec": {
   "display_name": ".venv",
   "language": "python",
   "name": "python3"
  },
  "language_info": {
   "codemirror_mode": {
    "name": "ipython",
    "version": 3
   },
   "file_extension": ".py",
   "mimetype": "text/x-python",
   "name": "python",
   "nbconvert_exporter": "python",
   "pygments_lexer": "ipython3",
   "version": "3.12.10"
  },
  "otter": {
   "OK_FORMAT": true,
   "assignment_name": "CP_Assignment_Q1_1",
   "tests": {
    "q1.1": {
     "name": "q1.1",
     "points": 0,
     "suites": [
      {
       "cases": [
        {
         "code": ">>> assert isinstance(my_integer, int), 'my_integer is not an integer'\n",
         "hidden": false,
         "locked": false,
         "points": 0
        },
        {
         "code": ">>> assert isinstance(my_float, float), 'my_float is not a float'\n",
         "hidden": false,
         "locked": false,
         "points": 0
        },
        {
         "code": ">>> assert isinstance(my_string, str), 'my_string is not a string'\n",
         "hidden": false,
         "locked": false,
         "points": 0
        },
        {
         "code": ">>> assert isinstance(my_list, list), 'my_list is not a list'\n",
         "hidden": false,
         "locked": false,
         "points": 0
        },
        {
         "code": ">>> assert isinstance(my_dictionary, dict), 'my_dictionary is not a dictionary'\n",
         "hidden": false,
         "locked": false,
         "points": 0
        },
        {
         "code": ">>> assert my_integer == 5, 'my_integer does not have the right value'\n",
         "hidden": false,
         "locked": false,
         "points": 0
        },
        {
         "code": ">>> assert my_float == 5.0, 'my_float does not have the right value'\n",
         "hidden": false,
         "locked": false,
         "points": 0
        },
        {
         "code": ">>> assert my_string == '5', 'my_string does not have the right value'\n",
         "hidden": false,
         "locked": false,
         "points": 0
        },
        {
         "code": ">>> assert my_list == [1, 2, 9, 1], 'my_list does not have the right entries'\n",
         "hidden": false,
         "locked": false,
         "points": 0
        },
        {
         "code": ">>> assert my_dictionary == {'C': 12.01, 'O': 16.0, 'H': 1.0}, 'my_dictionary does not have the right entries'\n",
         "hidden": false,
         "locked": false,
         "points": 0
        }
       ],
       "scored": true,
       "setup": "",
       "teardown": "",
       "type": "doctest"
      }
     ]
    },
    "q1.2": {
     "name": "q1.2",
     "points": 0,
     "suites": [
      {
       "cases": [
        {
         "code": ">>> assert my_new_float == 76.065, f'my_new_float is incorrect, got {my_new_float}'\n",
         "hidden": false,
         "locked": false,
         "points": 0
        },
        {
         "code": ">>> assert my_new_integer == 12, 'my_new_integer is not equal to 12'\n",
         "hidden": false,
         "locked": false,
         "points": 0
        }
       ],
       "scored": true,
       "setup": "",
       "teardown": "",
       "type": "doctest"
      }
     ]
    },
    "q1.3": {
     "name": "q1.3",
     "points": 0,
     "suites": [
      {
       "cases": [
        {
         "code": ">>> assert True, 'No tests available'\n",
         "hidden": false,
         "locked": false,
         "points": 0
        }
       ],
       "scored": true,
       "setup": "",
       "teardown": "",
       "type": "doctest"
      }
     ]
    },
    "q1.4": {
     "name": "q1.4",
     "points": 0,
     "suites": [
      {
       "cases": [
        {
         "code": ">>> assert joined_string == 'Hello World', f'joined_string is incorrect, got {joined_string}'\n",
         "hidden": false,
         "locked": false,
         "points": 0
        },
        {
         "code": ">>> assert lower_joined_string == 'hello world', f'lower_joined_string is incorrect, got {lower_joined_string}'\n",
         "hidden": false,
         "locked": false,
         "points": 0
        },
        {
         "code": ">>> assert lpwer_jpined_string == 'hellp wprld', f'lpwer_jpined_string is incorrect, got {lpwer_jpined_string}'\n",
         "hidden": false,
         "locked": false,
         "points": 0
        }
       ],
       "scored": true,
       "setup": "",
       "teardown": "",
       "type": "doctest"
      }
     ]
    },
    "q1.5": {
     "name": "q1.5",
     "points": 0,
     "suites": [
      {
       "cases": [
        {
         "code": ">>> assert five_factorial_for_loop == 120, f'five_factorial_for_loop is incorrect. Expected 120, but got {five_factorial_for_loop}'\n",
         "hidden": false,
         "locked": false,
         "points": 0
        },
        {
         "code": ">>> assert five_factorial_while_loop == 120, f'five_factorial_while_loop is incorrect. Expected 120, but got {five_factorial_while_loop}'\n",
         "hidden": false,
         "locked": false,
         "points": 0
        }
       ],
       "scored": true,
       "setup": "",
       "teardown": "",
       "type": "doctest"
      }
     ]
    },
    "q1.6": {
     "name": "q1.6",
     "points": 0,
     "suites": [
      {
       "cases": [
        {
         "code": ">>> assert isinstance(distance_plot[0], matplotlib.figure.Figure), \"'plot_handles_11' does not contain a figure object.\"\n",
         "hidden": false,
         "locked": false,
         "points": 0
        },
        {
         "code": ">>> assert len(distance_plot[1]) == 1, 'You have too many axes in your axes list.'\n",
         "hidden": false,
         "locked": false,
         "points": 0
        },
        {
         "code": ">>> assert isinstance(distance_plot[1][0], matplotlib.axes._axes.Axes), \"'plot_handles_11' does not contain axes.\"\n",
         "hidden": false,
         "locked": false,
         "points": 0
        },
        {
         "code": ">>> assert bool(distance_plot[1][0].get_xlabel()), 'You do not have a label for the X-axis.'\n",
         "hidden": false,
         "locked": false,
         "points": 0
        },
        {
         "code": ">>> assert bool(distance_plot[1][0].get_ylabel()), 'You do not have a label for the Y-axis.'\n",
         "hidden": false,
         "locked": false,
         "points": 0
        },
        {
         "code": ">>> assert bool(distance_plot[1][0].get_title()), 'You do not have a title for the plot.'\n",
         "hidden": false,
         "locked": false,
         "points": 0
        },
        {
         "code": ">>> assert bool(distance_plot[1][0].get_legend()), 'You do not have a legend for the plot.'\n",
         "hidden": false,
         "locked": false,
         "points": 0
        }
       ],
       "scored": true,
       "setup": "",
       "teardown": "",
       "type": "doctest"
      }
     ]
    },
    "q2.1": {
     "name": "q2.1",
     "points": 0,
     "suites": [
      {
       "cases": [
        {
         "code": ">>> assert isinstance(T, float), 'The temperature variable is not of the right type, should be float.'\n",
         "hidden": false,
         "locked": false,
         "points": 0
        },
        {
         "code": ">>> assert isinstance(A, float) and isinstance(B, float) and isinstance(C, float), 'An Antoine parameter (A, B, C) is not of the right type, should be a float.'\n",
         "hidden": false,
         "locked": false,
         "points": 0
        },
        {
         "code": ">>> assert A == 8.07131, f'Expected A to be 8.07131, but got {A}'\n",
         "hidden": false,
         "locked": false,
         "points": 0
        },
        {
         "code": ">>> assert B == 1730.63, f'Expected B to be 1730.63, but got {B}'\n",
         "hidden": false,
         "locked": false,
         "points": 0
        },
        {
         "code": ">>> assert C == 233.426, f'Expected C to be 233.426, but got {C}'\n",
         "hidden": false,
         "locked": false,
         "points": 0
        },
        {
         "code": ">>> assert T == 35.0, f'Expected T to be 35.0, but got {T}'\n",
         "hidden": false,
         "locked": false,
         "points": 0
        },
        {
         "code": ">>> assert isinstance(p_v, float), 'your p_v is not of the right type, should be a float.'\n",
         "hidden": false,
         "locked": false,
         "points": 0
        },
        {
         "code": ">>> p_v_check = 42.07108718486802\n>>> assert np.isclose(p_v, p_v_check, rtol=0.001), 'p_v is incorrect'\n",
         "hidden": false,
         "locked": false,
         "points": 0
        }
       ],
       "scored": true,
       "setup": "",
       "teardown": "",
       "type": "doctest"
      }
     ]
    },
    "q2.2": {
     "name": "q2.2",
     "points": 0,
     "suites": [
      {
       "cases": [
        {
         "code": ">>> assert isinstance(p_v_dict, dict), 'p_v_dict should be a dictionary.'\n",
         "hidden": false,
         "locked": false,
         "points": 0
        },
        {
         "code": ">>> assert list(p_v_dict.keys()) == [10, 50, 70, 90], 'your dictionary p_v_dict should have the keys [10, 50, 70, 90] (in that order).'\n",
         "hidden": false,
         "locked": false,
         "points": 0
        },
        {
         "code": ">>> p_v_dict_check = {10: 9.158816546056574, 50: 92.29988808037632, 70: 233.17329059862308, 90: 525.2664328234991}\n>>> for T in list(p_v_dict_check.keys()):\n...     assert np.isclose(p_v_dict[T], p_v_dict_check[T], rtol=0.001), f'p_v for {T} is incorrect'\n",
         "hidden": false,
         "locked": false,
         "points": 0
        }
       ],
       "scored": true,
       "setup": "",
       "teardown": "",
       "type": "doctest"
      }
     ]
    },
    "q2.3": {
     "name": "q2.3",
     "points": 0,
     "suites": [
      {
       "cases": [
        {
         "code": ">>> assert 'vapor_pressure_water' in locals(), \"Can't find function vapor_pressure_water.\"\n",
         "hidden": false,
         "locked": false,
         "points": 0
        },
        {
         "code": ">>> data_points = [23, 42, 58]\n>>> p_v_check = [21.002325799889018, 61.35410999303639, 135.77547382691503]\n>>> for T, p_v in zip(data_points, p_v_check):\n...     assert np.isclose(vapor_pressure_water(T), p_v, rtol=0.001), 'vapor_pressure_water does not seem to return correct results.'\n",
         "hidden": false,
         "locked": false,
         "points": 0
        },
        {
         "code": ">>> data_points = [-10, 120]\n>>> for T in data_points:\n...     assert vapor_pressure_water(T) == -1, 'vapor_pressure_water does not return -1 for out-of-scope variables.'\n",
         "hidden": false,
         "locked": false,
         "points": 0
        }
       ],
       "scored": true,
       "setup": "",
       "teardown": "",
       "type": "doctest"
      }
     ]
    },
    "q2.4": {
     "name": "q2.4",
     "points": 0,
     "suites": [
      {
       "cases": [
        {
         "code": ">>> assert np.all(T_range == np.linspace(20, 80, 100)), 'T_range may not be defined correctly.'\n",
         "hidden": false,
         "locked": false,
         "points": 0
        },
        {
         "code": ">>> p_v_check = np.array([vapor_pressure_water(T) for T in T_range])\n>>> assert np.all(np.isclose(p_v_range, p_v_check, rtol=0.001)), 'p_v_range is calculated incorrectly.'\n",
         "hidden": false,
         "locked": false,
         "points": 0
        },
        {
         "code": ">>> assert isinstance(plot_vapor_pressure[0], matplotlib.figure.Figure), \"'plot_handles_11' does not contain a figure object.\"\n",
         "hidden": false,
         "locked": false,
         "points": 0
        },
        {
         "code": ">>> assert len(plot_vapor_pressure[1]) == 1, 'You have too many axes in your axes list.'\n",
         "hidden": false,
         "locked": false,
         "points": 0
        },
        {
         "code": ">>> assert isinstance(plot_vapor_pressure[1][0], matplotlib.axes._axes.Axes), \"'plot_handles_11' does not contain axes.\"\n",
         "hidden": false,
         "locked": false,
         "points": 0
        },
        {
         "code": ">>> assert bool(plot_vapor_pressure[1][0].get_xlabel()), 'You do not have a label for the X-axis.'\n",
         "hidden": false,
         "locked": false,
         "points": 0
        },
        {
         "code": ">>> assert bool(plot_vapor_pressure[1][0].get_ylabel()), 'You do not have a label for the Y-axis.'\n",
         "hidden": false,
         "locked": false,
         "points": 0
        },
        {
         "code": ">>> assert bool(plot_vapor_pressure[1][0].get_title()), 'You do not have a title for the plot.'\n",
         "hidden": false,
         "locked": false,
         "points": 0
        },
        {
         "code": ">>> assert bool(plot_vapor_pressure[1][0].get_legend()), 'You do not have a legend for the plot.'\n",
         "hidden": false,
         "locked": false,
         "points": 0
        }
       ],
       "scored": true,
       "setup": "",
       "teardown": "",
       "type": "doctest"
      }
     ]
    },
    "q2.5a": {
     "name": "q2.5a",
     "points": 0,
     "suites": [
      {
       "cases": [
        {
         "code": ">>> assert 'vapor_pressure_ethanol' in locals(), \"Can't find function vapor_pressure_ethanol.\"\n",
         "hidden": false,
         "locked": false,
         "points": 0
        },
        {
         "code": ">>> data_points = [23, 42, 58]\n>>> p_v_check = [52.26662782108897, 148.17935535002846, 320.3515398047386]\n>>> for T, p_v in zip(data_points, p_v_check):\n...     assert np.isclose(vapor_pressure_ethanol(T), p_v, rtol=0.001), 'vapor_pressure_water does not seem to return correct results.'\n",
         "hidden": false,
         "locked": false,
         "points": 0
        },
        {
         "code": ">>> data_points = [-60, 120]\n>>> for T in data_points:\n...     assert vapor_pressure_ethanol(T) == -1, 'vapor_pressure_water does not return -1 for out-of-scope variables.'\n",
         "hidden": false,
         "locked": false,
         "points": 0
        }
       ],
       "scored": true,
       "setup": "",
       "teardown": "",
       "type": "doctest"
      }
     ]
    },
    "q2.5b": {
     "name": "q2.5b",
     "points": 0,
     "suites": [
      {
       "cases": [
        {
         "code": ">>> assert np.all(T_range == np.linspace(20, 80, 100)), 'T_range may not be defined correctly.'\n",
         "hidden": false,
         "locked": false,
         "points": 0
        },
        {
         "code": ">>> p_v_check = np.array([vapor_pressure_water(T) for T in T_range])\n>>> assert np.all(np.isclose(p_v_range, p_v_check, rtol=0.001)), 'p_v_range is calculated incorrectly.'\n",
         "hidden": false,
         "locked": false,
         "points": 0
        },
        {
         "code": ">>> assert isinstance(plot_vapor_pressure[0], matplotlib.figure.Figure), \"'plot_handles_11' does not contain a figure object.\"\n",
         "hidden": false,
         "locked": false,
         "points": 0
        },
        {
         "code": ">>> assert len(plot_vapor_pressure[1]) == 1, 'You have too many axes in your axes list.'\n",
         "hidden": false,
         "locked": false,
         "points": 0
        },
        {
         "code": ">>> assert isinstance(plot_vapor_pressure[1][0], matplotlib.axes._axes.Axes), \"'plot_handles_11' does not contain axes.\"\n",
         "hidden": false,
         "locked": false,
         "points": 0
        },
        {
         "code": ">>> assert bool(plot_vapor_pressure[1][0].get_xlabel()), 'You do not have a label for the X-axis.'\n",
         "hidden": false,
         "locked": false,
         "points": 0
        },
        {
         "code": ">>> assert bool(plot_vapor_pressure[1][0].get_ylabel()), 'You do not have a label for the Y-axis.'\n",
         "hidden": false,
         "locked": false,
         "points": 0
        },
        {
         "code": ">>> assert bool(plot_vapor_pressure[1][0].get_title()), 'You do not have a title for the plot.'\n",
         "hidden": false,
         "locked": false,
         "points": 0
        },
        {
         "code": ">>> assert bool(plot_vapor_pressure[1][0].get_legend()), 'You do not have a legend for the plot.'\n",
         "hidden": false,
         "locked": false,
         "points": 0
        }
       ],
       "scored": true,
       "setup": "",
       "teardown": "",
       "type": "doctest"
      }
     ]
    },
    "q3": {
     "name": "q3",
     "points": 0,
     "suites": [
      {
       "cases": [
        {
         "code": ">>> assert np.isclose(calculate_molecular_weight('HOH'), 18, atol=0.1), 'Molecular weight for the example HOH without custom atom not calculated correctly, should be ~18'\n",
         "hidden": false,
         "locked": false,
         "points": 0
        },
        {
         "code": ">>> assert np.isclose(calculate_molecular_weight('HHNCHHOCHHH'), 61.03, atol=0.1), 'Molecular weight for the example HHNCHHOCHHH without custom atom not calculated correctly, should be ~61.03'\n",
         "hidden": false,
         "locked": false,
         "points": 0
        },
        {
         "code": ">>> assert np.isclose(calculate_molecular_weight('HH[32.01]OOOO'), 98.01, atol=0.1), 'Molecular weight for the example HH[32.01]OOOO with custom atom not calculated correctly, should be ~98.01'\n",
         "hidden": false,
         "locked": false,
         "points": 0
        },
        {
         "code": ">>> try:\n...     response_for_invalid_input = calculate_molecular_weight('HHSOOOO')\n... except Exception as e:\n...     response_for_invalid_input = type(e)\n>>> assert response_for_invalid_input is None, f'Invalid input example with unknown atom S in HHSOOOO did not output None, but {response_for_invalid_input}'\n",
         "hidden": false,
         "locked": false,
         "points": 0
        },
        {
         "code": ">>> try:\n...     response_for_invalid_input = calculate_molecular_weight('HH[-52.2]OOOO')\n... except Exception as e:\n...     response_for_invalid_input = type(e)\n>>> assert response_for_invalid_input is None, f'Invalid input example HH[-52.2]OOOO with negative atomic mass did not output None, but {response_for_invalid_input}'\n",
         "hidden": false,
         "locked": false,
         "points": 0
        },
        {
         "code": ">>> try:\n...     response_for_invalid_input = calculate_molecular_weight('HH[]OOOO')\n... except Exception as e:\n...     response_for_invalid_input = type(e)\n>>> assert response_for_invalid_input is None, f'Invalid input example HH[]OOOO did not output None, but {response_for_invalid_input}'\n",
         "hidden": false,
         "locked": false,
         "points": 0
        },
        {
         "code": ">>> try:\n...     response_for_invalid_input = calculate_molecular_weight('HH[23.00.2]OOOO')\n... except Exception as e:\n...     response_for_invalid_input = type(e)\n>>> assert response_for_invalid_input is None, f'Invalid input example HH[23.00.2]OOOO did not output None, but {response_for_invalid_input}'\n",
         "hidden": false,
         "locked": false,
         "points": 0
        },
        {
         "code": ">>> try:\n...     response_for_invalid_input = calculate_molecular_weight('HH]OOOO')\n... except Exception as e:\n...     response_for_invalid_input = type(e)\n>>> assert response_for_invalid_input is None, f'Invalid input example HH]OOOO did not output None, but {response_for_invalid_input}'\n",
         "hidden": false,
         "locked": false,
         "points": 0
        },
        {
         "code": ">>> try:\n...     response_for_invalid_input = calculate_molecular_weight('HHOOOO[')\n... except Exception as e:\n...     response_for_invalid_input = type(e)\n>>> assert response_for_invalid_input is None, f'Invalid input example HHOOOO[ did not output None, but {response_for_invalid_input}'\n",
         "hidden": false,
         "locked": false,
         "points": 0
        }
       ],
       "scored": true,
       "setup": "",
       "teardown": "",
       "type": "doctest"
      }
     ]
    }
   }
  }
 },
 "nbformat": 4,
 "nbformat_minor": 5
}
