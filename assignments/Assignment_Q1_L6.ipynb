{
 "cells": [
  {
   "attachments": {},
   "cell_type": "markdown",
   "id": "5b607a17",
   "metadata": {
    "cell_marker": "\"\"\"",
    "deletable": false,
    "editable": false,
    "nbgrader": {
     "grade": false,
     "locked": true,
     "solution": false
    }
   },
   "source": [
    "# CP 2025-26: Assignment 6 - Boundary value problems "
   ]
  },
  {
   "attachments": {},
   "cell_type": "markdown",
   "id": "a1ad8b39",
   "metadata": {
    "cell_marker": "\"\"\"",
    "deletable": false,
    "nbgrader": {
     "grade": false,
     "locked": true,
     "solution": false
    }
   },
   "source": [
    "### General Guidelines\n",
    "\n",
    "> ⚠️⚠️⚠️ READ CAREFULLY ⚠️⚠️⚠️\n",
    "\n",
    "- Do not add, delete or create cells, write the answer only in the space marked with the three dots (`...`). Where function skeletons are provided, it is assumed that that function can be called again with different inputs somewhere else. So be careful to write code outside of functions.\n",
    "  - Function should be ['pure'](https://en.wikipedia.org/wiki/Pure_function), thus no side effects, unless otherwise specified.\n",
    "- Run the the first cell to import all libraries when opening the notebook before running your own code.\n",
    "- Read carefully what is required to be printed/returned/plotted in the answer. Please do not output what is not asked for. \n",
    "  - If you used the print function for debugging, comment it out ( Ctlr + / ) before submitting\n",
    "- All plots should have title, xlabel, ylabel, and legend (if there are more than one curve on the plot)\n",
    "- Use the `help()` function, consult python documentation when using new functions, or do a web search and consult [stackoverflow](https://stackoverflow.com/questions/tagged/python)\n",
    "- Please read the error messages if you get any, and try to understand what they mean. Debugging code is an essential skill to develop.\n",
    "- You can use `%debug` to start an IPython console in a cell (or a scratchpad cell!) after an exception has occurred to try to debug.\n",
    "- You can use `%pdb` to toggle the Python DeBugger (pdb) auto start after an unhandled exception.\n",
    "- In the assignments you will find some tests put in place, to help you verify your solution. If these fail you are certain you did something wrong, thus look at the hints they provide. But passing these tests does __not__ mean your solution is actually correct.\n",
    "\n",
    "Make sure you use `python3.12` and the package versions as stated in the provided `requirements.txt`. This file should also be on the course page."
   ]
  },
  {
   "cell_type": "code",
   "execution_count": 1,
   "id": "8f844cb7",
   "metadata": {
    "nbgrader": {
     "grade": false,
     "locked": true,
     "solution": false
    }
   },
   "outputs": [
    {
     "name": "stdout",
     "output_type": "stream",
     "text": [
      "Python version 3.12.10 (v3.12.10:0cc81280367, Apr  8 2025, 08:46:59) [Clang 13.0.0 (clang-1300.0.29.30)]\n",
      "Successfully imported numpy           \tVersion:      2.3.2\n",
      "Successfully imported scipy           \tVersion:     1.16.1\n",
      "Successfully imported matplotlib      \tVersion:     3.10.5\n",
      "Finished importing packages\n"
     ]
    }
   ],
   "source": [
    "# Importing relevant libraries in the assignment\n",
    "\n",
    "# This will create static plots (no zooming etc.)\n",
    "# otherwise try just plain `%matplotlib`, or install a backend such as ipympl or PyQt5 and\n",
    "# do or `%matplotlib ipympl` `%matplotlib qt`\n",
    "%matplotlib inline\n",
    "\n",
    "REPEAT_IMPORTS = True\n",
    "\n",
    "if REPEAT_IMPORTS or (\"IMPORTED_ALL\" not in globals()):  # To save you a bit of time\n",
    "\n",
    "    def print_import_info(package):\n",
    "        print(\n",
    "            \"Successfully imported %-15s \\tVersion: %10s\"\n",
    "            % (package.__name__, package.__version__)\n",
    "        )\n",
    "\n",
    "    ### Standard library imports\n",
    "\n",
    "    import sys\n",
    "\n",
    "    print(\"Python version {}\".format(sys.version))\n",
    "    if sys.version_info < (3, 12):\n",
    "        print(\n",
    "            \"\\u001b[31m\"  # red\n",
    "            \"\\u001b[1m\"  # bold\n",
    "            \"WARNING: Use Python 3.12 or newer to not encounter any errors or \"\n",
    "            \"problems later on.\\n\"\n",
    "            \"\\u001b[0m\"  # reset\n",
    "        )\n",
    "    del sys  # Do not need it anymore\n",
    "\n",
    "    import typing\n",
    "    from typing import Callable, List, Tuple, Union\n",
    "\n",
    "    ### Import third party libraries\n",
    "    # Initialize self assessment helper\n",
    "    import otter\n",
    "\n",
    "    grader = otter.Notebook(\"Assignment_Q1_L6.ipynb\")\n",
    "\n",
    "    import numpy as np\n",
    "    import numpy.typing as npt\n",
    "\n",
    "    print_import_info(np)\n",
    "\n",
    "    import scipy\n",
    "    from scipy import integrate\n",
    "\n",
    "    print_import_info(scipy)\n",
    "\n",
    "    import matplotlib\n",
    "    import matplotlib.pyplot as plt\n",
    "\n",
    "    print_import_info(matplotlib)\n",
    "\n",
    "    IMPORTED_ALL = True\n",
    "    print(\"Finished importing packages\")\n",
    "else:\n",
    "    print(\"Already imported all packages\")"
   ]
  },
  {
   "attachments": {
    "image.jpg": {
     "image/jpg": "[encoded data removed]"
    }
   },
   "cell_type": "markdown",
   "id": "71a8183a",
   "metadata": {
    "cell_marker": "r\"\"\"",
    "deletable": false,
    "nbgrader": {
     "grade": false,
     "locked": true,
     "solution": false
    }
   },
   "source": [
    "## Introduction: Poisson-Boltzmann equation\n",
    "\n",
    "*Below follows some theory background about the Poisson-Blotzmann equation that you are going to solve. However there is no need to understand the equation in order to solve the assignment. The assignment starts at [Question 1](#question-1-linearised-system).*\n",
    "\n",
    "#### Poisson equation\n",
    "[The Poisson equation](https://en.wikipedia.org/wiki/Poisson%27s_equation) is a fundamental equation in electrostatics.\n",
    "\n",
    "$$\n",
    "\\nabla^2\\phi = -\\frac{\\rho}{\\epsilon_0}\n",
    "\\tag{Eq. 1}\n",
    "$$\n",
    "\n",
    "Here, $\\phi$ is the electric potential and the $\\rho$ term refers to the volumetric charge density in the system with $\\epsilon_0$ being the permittivity of the medium.\n",
    "\n",
    "#### Boltzmann statistics\n",
    "When an ionic solution comes into contact with a charged solid, e.g. the glass wall of a microchannel, a charge distribution is created by the free motion of ions inside the solution. The ions in the solution are free to move about according to Boltzmann statistics, but their overall distribution is influenced by the wall charge/wall potential.\n",
    "\n",
    "$$\n",
    "c^- = c^{-}_{0}\\exp\\left(\\frac{e\\phi(x,y,z)}{k_BT}\\right)\n",
    "\\tag{Eq. 2}\n",
    "$$\n",
    "\n",
    "$$\n",
    "c^+ = c^{+}_{0}\\exp\\left(\\frac{-e\\phi(x,y,z)}{k_BT}\\right)\n",
    "\\tag{Eq. 3}\n",
    "$$\n",
    "\n",
    "with $c^+/c^-$ being the cation/anion distribution, $c^{+}_{0}/c^{-}_{0}$ being the reference cation/anion distribution, $k_B$ being the Boltzmann constant, $T$ being the temperature, $e$ being the elementary charge, and $x$ ,$y$, $z$ the coordinates.\n",
    "\n",
    "<center>\n",
    "\n",
    "![image.png](attachment:image.jpg)\n",
    "\n",
    "</center>\n",
    "\n",
    "#### Poisson-Boltzmann equation\n",
    "\n",
    "Substituting the Boltzmann ion concentration distribution ($\\text{Eq. 2,3}$) in the Poisson equation ($\\text{Eq. 1}$), and considering the wall to be sufficiently large such that the charge distribution effects are only relevant in one dimension, we get the 1-D Poisson-Boltzmann equation (PB equation),\n",
    "\n",
    "$$\n",
    "\\frac{d^2 \\phi}{d x^2} = \\frac{e}{\\epsilon}\\left(c^{-}_{0} \\exp\\left(\\frac{e\\phi(x)}{k_BT}\\right) - c^{+}_{0} \\exp\\left(\\frac{-e\\phi(x)}{k_BT}\\right)\\right)\n",
    "\\tag{Eq. 4}\n",
    "$$"
   ]
  },
  {
   "cell_type": "markdown",
   "id": "161c55db",
   "metadata": {},
   "source": [
    "A common scaling parameter for the Poisson-Boltzmann equation is the thermal voltage, or $\\frac{k_BT}{e}$, which is 0.025875 V at room temperature. For a small value of wall potential (also called the Zeta-Potential) $\\phi$, i.e. smaller than 0.025875 V, the exponential terms in the above Poisson-Boltzmann Equation can be approximated as linear terms.\n",
    "Thus, the equation to solve in one dimension reduces to:\n",
    "\n",
    "\\begin{equation}\n",
    "\\frac{d^2 \\phi}{d x^2} = \\frac{e}{\\epsilon}\\left(c^{-}_{0}\\frac{e\\phi(x)}{k_BT} + c^{+}_{0}\\frac{e\\phi(x)}{k_BT}\\right)\n",
    "\\tag{Eq. 5}\n",
    "\\end{equation}\n",
    "\n",
    "At the wall, a Dirichlet boundary condition exists with a fixed wall potential $(\\phi(x=0) = \\phi_0)$, and far away from the wall the potential ceases to change, with a Neumann boundary condition describing this as the gradient of potential being 0 $(\\frac{d \\phi}{d x}(x\\to\\infty) = 0)$.\n",
    "\n",
    "The analytical solution of this differential equation was found to be:\n",
    "\n",
    "\\begin{equation}\n",
    "\\phi (x) = \\phi_0 \\exp\\left({-ex\\sqrt{\\frac{N_A(C_{0}^{+}z_+^2+C_{0}^{-}z_-^2)}{k_BT\\epsilon}}}\\right)\n",
    "\\tag{Eq. 6}\n",
    "\\end{equation}\n",
    "\n",
    "Here, $z$ is the charge of the cation ($z_+$) and the anion ($z_-$), and $N_A$ is the Avogadro constant. For further information on the derivation of the analytical solution we refer you to the MTP course chapter 6."
   ]
  },
  {
   "attachments": {},
   "cell_type": "markdown",
   "id": "8570df70",
   "metadata": {
    "cell_marker": "r\"\"\"",
    "deletable": false,
    "editable": false,
    "nbgrader": {
     "grade": false,
     "locked": true,
     "solution": false
    }
   },
   "source": [
    "## Question 1: Linearised system\n",
    "\n",
    "### Question 1.1: Analytical solution\n",
    "\n",
    "The analytical solution of the linearized Poisson-Boltzmann equation can be rewritten as\n",
    "\n",
    "\\begin{equation}\n",
    "\\phi(x) = \\phi_0 \\exp\\left({\\frac{-x}{\\lambda}}\\right)\n",
    "\\tag{Eq. 7}\n",
    "\\end{equation}\n",
    "\n",
    "The $\\lambda$ is called Debye Length, which is an indication of the length scale over which the effect of this wall potential is felt. For a general electrolyte, this is given by the following expression (which will be covered in more detail in the course Molecular Transport Phenomena (MTP)):\n",
    "\n",
    "\\begin{equation}\n",
    "\\lambda = \\sqrt{\\frac{\\epsilon k_B T}{e^2 N_A (c_0^{+}z_+^2 + c_0^{-}z_-^2)}}\n",
    "\\tag{Eq. 8}\n",
    "\\end{equation}\n",
    "\n",
    "Plot this linear system solution in the range of $\\frac{x}{\\lambda}\\in [0,10]$, discretized with **$N$ = 100 grid points**. Take the wall potential to be $\\phi_0$ = -0.01 V.\n",
    "\n",
    "Your code should return:\n",
    "- The function `analytical_solution` takes the range $\\frac{x}{\\lambda}$ stored as `xoverlambda` (numpy array) and the wall potential $\\phi_0$ (float) stored as `phi0` as input arguments (in this specific order) and returns the analytical linear solution $\\phi(x)$ as a numpy array. Remember to define type hints and docstrings.\n",
    "- The analytical solution stored in `analytical_potentials`.\n",
    "- A plot of the analytical solution."
   ]
  },
  {
   "cell_type": "code",
   "execution_count": 19,
   "id": "5a0017d9",
   "metadata": {
    "tags": [
     "otter_answer_cell"
    ]
   },
   "outputs": [
    {
     "data": {
      "text/plain": [
       "<function matplotlib.pyplot.show(close=None, block=None)>"
      ]
     },
     "execution_count": 19,
     "metadata": {},
     "output_type": "execute_result"
    },
    {
     "data": {
      "image/png": "[encoded data removed]",
      "text/plain": [
       "<Figure size 640x480 with 1 Axes>"
      ]
     },
     "metadata": {},
     "output_type": "display_data"
    }
   ],
   "source": [
    "# Define analytical solution function\n",
    "\n",
    "phi0 = -0.01 #[V]\n",
    "N = 100\n",
    "xoverlambda = np.linspace(0,10,N)\n",
    "\n",
    "def analytical_solution(xoverlambda: np.ndarray, phi0 :float)->np.ndarray:\n",
    "    return phi0*np.exp(-xoverlambda)\n",
    "\n",
    "analytical_potentials = analytical_solution(xoverlambda, phi0)\n",
    "\n",
    "# Plot results\n",
    "plt.plot(xoverlambda,analytical_potentials)\n",
    "plt.show"
   ]
  },
  {
   "cell_type": "code",
   "execution_count": 20,
   "id": "ff5699ae",
   "metadata": {
    "deletable": false,
    "editable": false
   },
   "outputs": [
    {
     "data": {
      "text/html": [
       "<p><strong><pre style='display: inline;'>q1_1_1</pre></strong> passed! ✨</p>"
      ],
      "text/plain": [
       "q1_1_1 results: All test cases passed!"
      ]
     },
     "execution_count": 20,
     "metadata": {},
     "output_type": "execute_result"
    }
   ],
   "source": [
    "grader.check(\"q1_1_1\")"
   ]
  },
  {
   "cell_type": "markdown",
   "id": "3fb9d724",
   "metadata": {
    "deletable": false,
    "editable": false
   },
   "source": [
    "### Question 1.2: Finite difference method\n",
    "\n",
    "The 1D **non-dimensional** form of the Poisson-Boltzmann equation can be written as\n",
    "\n",
    "$$\n",
    "\\frac{d^2 \\phi^*}{dx^{*2}} = \\phi^* (x^*)\n",
    "\\tag{Eq. 9}\n",
    "$$\n",
    "\n",
    "where $x^* = x/\\lambda$ and $\\phi^* = \\phi / V_T$, with $\\lambda$ the Debye length and $V_T = k_B T / e$ the thermal voltage (0.025875 V at room temperature).\n",
    "\n",
    "Boundary conditions in non-dimensional form:\n",
    "- At the wall, a Dirichlet boundary condition exists with a fixed wall potential: $\\phi^*(0) = \\phi_0 / V_T$. Take the wall potential to be $\\phi_0$ = -0.01 V.\n",
    "- At the far field there is a Neumann boundary condition describing this as the gradient of potential being 0: $\\frac{d \\phi^*}{d x^*}(x^*=10) = 0$.\n",
    "\n",
    "\n",
    "**Objective:** Solve this boundary-value problem using the finite difference method (central difference scheme) in the domain $x^* \\in [0,10]$ discretized with **$N$ = 100 grid points** and defined in `xoverlambda`. To implement the Neumann boundary condition, use a second-order central difference formula with a ghost point. This allows the far-field boundary to be written in the same stencil form as the interior points.\n",
    "\n",
    "Make sure that:\n",
    "- When building the system matrix, you only solve for the unknowns (Option 2 from the lecture slides). Construct your matrix $A$ and right-hand-side vector $b$ accordingly.\n",
    "- When presenting your results, make sure your final solution array includes **all** points of the domain, including the Dirichlet boundary at $x^* = 0$.\n",
    "- Rescale your final solution vector by $V_T$ to obtain the dimensional potential $\\phi$.\n",
    "\n",
    "Your code should return:\n",
    "- Left-hand-side matrix A defined in `pb_linear_matrix` (non-dimensionalised).\n",
    "- Right-hand-side vector b defined in `pb_linear_vector` (non-dimensionalised).\n",
    "- Solution of finite difference method $\\phi$ defined in `pb_linear_sol` (with dimensions).\n",
    "- A plot of the analytical linear solution and the finite difference solution in the same diagram. Make sure to include: title, axis labels, legend.\n",
    "\n",
    "💡 **Hints**:\n",
    "1. Use the same `xoverlambda` you defined for the previous question when computing the analytical solution.\n",
    "2. Use pen and paper to derive the entries of the matrix $A$ and right-hand-side vector $b$ that make up your linear system of equations: $A\\phi^*=b$."
   ]
  },
  {
   "cell_type": "code",
   "execution_count": null,
   "id": "3d10de39",
   "metadata": {
    "tags": [
     "otter_answer_cell"
    ]
   },
   "outputs": [],
   "source": [
    "\"\"\"\n",
    "Boundary conditions: \n",
    "    - at wall, dirichlet boudnary condition: phi*(0)=phi0/VT take phi0 =-0.01\n",
    "    - at far field: Neumann boudary condition: gradient of potential being 0: dphi*/dx* (x*=0) = 0\n",
    "\"\"\"\n",
    "\n",
    "phi0 = -0.01 #[V]\n",
    "N = 100\n",
    "xoverlambda = np.linspace(0,10,N)\n",
    "\n",
    "h = xoverlambda[1] - xoverlambda[0]\n",
    "\n",
    "# for finite difference approach: \n",
    "# dy/dx[xi] = (y[i+1] - y[i-1])/2h\n",
    "# d2y/dx2[xi] = (2[i+1] -2y[i] + y[i-1])/h**2\n",
    "\n",
    "matrix_size = N-2\n",
    "A = -2*np.eye(matrix_size) #creates a the identity matrix and multiplies by -2 since central diff method\n",
    "A = np.tril()\n",
    "# Outputs requested\n",
    "pb_linear_matrix = ...\n",
    "pb_linear_vector = ...\n",
    "\n",
    "...\n",
    "\n",
    "# Dimensional solution\n",
    "pb_linear_sol = ...\n",
    "\n",
    "...\n",
    "\n",
    "# Plot results\n",
    "..."
   ]
  },
  {
   "cell_type": "code",
   "execution_count": null,
   "id": "516cc0af",
   "metadata": {
    "deletable": false,
    "editable": false
   },
   "outputs": [],
   "source": [
    "grader.check(\"q1_2\")"
   ]
  },
  {
   "cell_type": "markdown",
   "id": "a215a350",
   "metadata": {},
   "source": [
    "### Reflect on the results\n",
    "\n",
    "Evaluate the quality of your finite difference solution compared to the analytical one. In your answer, discuss:\n",
    "\n",
    "1. How the **grid spacing** affects the accuracy of the finite difference approximation.\n",
    "\n",
    "2. Whether the **boundary conditions** are enforced exactly in the scheme or only approximately.\n",
    "\n",
    "Write your discussion in 4–6 sentences in the text box below."
   ]
  },
  {
   "cell_type": "markdown",
   "id": "7ad52926",
   "metadata": {},
   "source": [
    "_Type your answer here, replacing this text._"
   ]
  },
  {
   "cell_type": "markdown",
   "id": "8aea77dc",
   "metadata": {
    "deletable": false,
    "editable": false
   },
   "source": [
    "## Question 2: Non-linear system\n",
    "\n",
    "For larger values of wall potential ($\\phi > \\frac{k_BT}{e}$), the linear approximation we took is no longer valid, and the equation must be solved with the non-linear terms. Thus, the equation we're trying to solve is\n",
    "\n",
    "$$\n",
    "\\frac{d^2 \\phi}{d x^2} = \\frac{e}{\\epsilon}\\left(c^{-}_{0}\\exp\\left(\\frac{e\\phi(x)}{k_BT}\\right) - c^{+}_{0}\\exp\\left(\\frac{-e\\phi(x)}{k_BT}\\right)\\right)\n",
    "\\tag{Eq. 4}\n",
    "$$\n",
    "\n",
    "\n",
    "For the purpose of this problem, we consider that the solution in the microfluidic channel is a NaCl solution, i.e. a 1-1 electrolyte (both the cation and the anion are monovalent). The assumption means that $c^+_0 = c^-_0 = c_0$.\n",
    "\n",
    "This will reduce the equation to\n",
    "\n",
    "$$\n",
    "\\frac{d^2 \\phi}{d x^2} = \\frac{2c_{0}e}{\\epsilon}\\sinh\\left(\\frac{e\\phi(x)}{k_BT}\\right)\n",
    "\\tag{Eq. 10}\n",
    "$$\n",
    "\n",
    "The non-dimensional form of the non-linear Poisson-Boltzmann equation becomes\n",
    "\n",
    "$$\n",
    "\\frac{d^2 \\phi^*}{d x^{*2}} = \\sinh\\left(\\phi^*(x^*)\\right)\n",
    "\\tag{Eq. 11}\n",
    "$$\n",
    "\n",
    "where $x^* = x/\\lambda$ and $\\phi^* = \\phi / V_T$, with $\\lambda$ the Debye length and $V_T = k_B T / e$ the thermal voltage (0.025875 V at room temperature).\n",
    "\n",
    "Boundary conditions in non-dimensional form:\n",
    "- At the wall, a Dirichlet boundary condition exists with a fixed wall potential: $\\phi^*(0) = \\phi_0 / V_T$. Take the wall potential to be $\\phi_0$ = -0.01 V.\n",
    "- At the far field there is a Neumann boundary condition describing this as the gradient of potential being 0: $\\frac{d \\phi^*}{d x^*}(x^*=10) = 0$.\n",
    "\n",
    "**Objective:** Solve this non-linear boundary-value problem using the finite difference method (central difference scheme) in the domain $x^* \\in [0,10]$ discretized with **$N$ = 100 grid points** and defined in `xoverlambda`. To implement the Neumann boundary condition, use a second-order central difference formula with a ghost point. This allows the far-field boundary to be written in the same stencil form as the interior points.\n",
    "\n",
    "Make sure that:\n",
    "- When building the system matrix, you only solve for the unknowns (Option 2 from the lecture slides). Construct your matrix $A$ and right-hand-side vector $b$ accordingly.\n",
    "- When presenting your results, make sure your final solution array includes **all** points of the domain, including the Dirichlet boundary at $x^* = 0$, so that it can be directly compared with the analytical solution.\n",
    "- Rescale your final solution vector by $V_T$ to obtain the dimensional potential $\\phi$.\n",
    "\n",
    "💡 **Hints**: \n",
    "- Recall from previous lectures, which numerical methods can be used to solve non-linear systems of equations.\n",
    "- The choice of initial guess has a significant impact on the numerical solution.\n",
    "\n",
    "### Analytical Solution\n",
    "\n",
    "The analytical solution for this problem is the Gouy-Chapman equation:\n",
    "\n",
    "$$\n",
    "\\phi(x) = \\frac{4k_BT}{Ze}\\tanh^{-1}\\left(\\tanh\\left(\\frac{Ze\\phi_0}{4k_BT}\\right)\\cdot \\exp\\left(\\frac{-x}{\\lambda}\\right)\\right)\n",
    "\\tag{Eq. 12}\n",
    "$$\n",
    "\n",
    "where:\n",
    "\n",
    "- $k_B$ is the Boltzmann constant (J/k). You can call `scipy.constants.Boltzmann` to obtain it.\n",
    "- $T$ is the temperature (K). $T = 298 $ K for this problem.\n",
    "- $e$ is the elementary charge (C). You can call `scipy.constants.elementary_charge` to obtain it.\n",
    "- $Z$ is the valence. $Z = 1$ for this problem\n",
    "\n",
    "### Code Implementation \n",
    "\n",
    "Your code should return:\n",
    "- Your analytical solution saved as `pb_nonlinear_ana_sol`\n",
    "- Your numerical solution saved as `pb_nonlinear_sol`.\n",
    "- A plot comparing your analytical and numerical solutions. \n",
    "\n",
    "⚠️ In this question, we do not provide autochecks to guide you to the solution, similar to the computer exam. Here, we only have one check for the final soution `pb_nonlinear_sol` and `pb_nonlinear_ana_sol`(this will NOT be given in the exam). Please try to solve the question by yourself before consulting a TA. \n"
   ]
  },
  {
   "cell_type": "code",
   "execution_count": null,
   "id": "aa9948f8",
   "metadata": {
    "tags": [
     "otter_answer_cell"
    ]
   },
   "outputs": [],
   "source": [
    "...\n",
    "\n",
    "pb_nonlinear_sol  = ...\n",
    "pb_nonlinear_ana_sol = ...\n",
    "\n",
    "# Plot results\n",
    "..."
   ]
  },
  {
   "cell_type": "code",
   "execution_count": null,
   "id": "4b6d7b5e",
   "metadata": {
    "deletable": false,
    "editable": false
   },
   "outputs": [],
   "source": [
    "grader.check(\"q2_1\")"
   ]
  }
 ],
 "metadata": {
  "jupytext": {
   "cell_markers": "\"\"\"",
   "formats": "ipynb,py:percent"
  },
  "kernelspec": {
   "display_name": ".venv",
   "language": "python",
   "name": "python3"
  },
  "language_info": {
   "codemirror_mode": {
    "name": "ipython",
    "version": 3
   },
   "file_extension": ".py",
   "mimetype": "text/x-python",
   "name": "python",
   "nbconvert_exporter": "python",
   "pygments_lexer": "ipython3",
   "version": "3.12.10"
  },
  "otter": {
   "OK_FORMAT": true,
   "assignment_name": "CP_Assignment_Q1_6",
   "tests": {
    "q1_1_1": {
     "name": "q1_1_1",
     "points": null,
     "suites": [
      {
       "cases": [
        {
         "code": ">>> _xoverlambda = np.linspace(0, 10, 100)\n>>> assert len(_xoverlambda) == len(xoverlambda) == 100, 'Length of xoverlambda is incorrect.'\n",
         "hidden": false,
         "locked": false,
         "points": 0
        },
        {
         "code": ">>> assert np.allclose(np.ptp(np.diff(xoverlambda)), 0), 'Step size in xoverlambda is not monotonic.'\n",
         "hidden": false,
         "locked": false,
         "points": 0
        },
        {
         "code": ">>> assert np.isclose(xoverlambda[0], 0), 'Left boundary of xoverlambda is wrong.'\n>>> assert np.isclose(xoverlambda[-1], 10), 'Right boundary of xoverlambda is wrong.'\n",
         "hidden": false,
         "locked": false,
         "points": 0
        },
        {
         "code": ">>> _xoverlambda = np.linspace(0, 10, 100)\n>>> _phi0 = -0.3\n>>> _phi_arr = analytical_solution(_xoverlambda, _phi0)\n>>> assert type(_phi_arr) == np.ndarray, 'Output type of analytical_solution is wrong.'\n",
         "hidden": false,
         "locked": false,
         "points": 0
        },
        {
         "code": ">>> _xoverlambda = np.linspace(0, 10, 100)\n>>> _phi0 = -0.3\n>>> _phi_arr = analytical_solution(_xoverlambda, _phi0)\n>>> assert len(_xoverlambda) == len(_phi_arr) == 100, 'Length of output of analytical_solution is incorrect.'\n",
         "hidden": false,
         "locked": false,
         "points": 0
        },
        {
         "code": ">>> _xoverlambda = np.linspace(1, 3, 11)\n>>> _phi0 = -0.3\n>>> _phi_arr = analytical_solution(_xoverlambda, _phi0)\n>>> _sol = np.array([-0.11036383, -0.09035826, -0.07397909, -0.06056896, -0.04958967, -0.04060058, -0.03324095, -0.02721539, -0.02228207, -0.01824302, -0.01493612])\n>>> assert np.allclose(_phi_arr, _sol), 'Output of analytical_solution incorrect.'\n",
         "hidden": false,
         "locked": false,
         "points": 0
        }
       ],
       "scored": true,
       "setup": "",
       "teardown": "",
       "type": "doctest"
      }
     ]
    },
    "q1_2": {
     "name": "q1_2",
     "points": null,
     "suites": [
      {
       "cases": [
        {
         "code": ">>> assert pb_linear_matrix.shape == (99, 99), 'Shape of pb_linear_matrix incorrect.'\n",
         "hidden": false,
         "locked": false,
         "points": 0
        },
        {
         "code": ">>> assert pb_linear_vector.shape == (99,), 'Shape of pb_linear_vector incorrect.'\n",
         "hidden": false,
         "locked": false,
         "points": 0
        },
        {
         "code": ">>> tol = 1e-05\n>>> _xoverlambda = np.linspace(0.0, 10, 100)\n>>> _h = _xoverlambda[1] - _xoverlambda[0]\n>>> A00_expected = -2.0 - _h ** 2\n>>> assert np.isclose(pb_linear_matrix[0, 0], A00_expected, rtol=0, atol=tol), 'First diagonal entry of pb_linear_matrix is incorrect.'\n",
         "hidden": false,
         "locked": false,
         "points": 0
        },
        {
         "code": ">>> tol = 1e-05\n>>> _xoverlambda = np.linspace(0.0, 10, 100)\n>>> _h = _xoverlambda[1] - _xoverlambda[0]\n>>> ALast_expected = -2.0 - _h ** 2\n>>> assert np.isclose(pb_linear_matrix[-1, -1], ALast_expected, rtol=0, atol=tol), 'Last diagonal entry of pb_linear_matrix is incorrect.'\n",
         "hidden": false,
         "locked": false,
         "points": 0
        },
        {
         "code": ">>> tol = 1e-12\n>>> _phi0_star = -0.01 / 0.025875\n>>> _xoverlambda = np.linspace(0.0, 10, 100)\n>>> _h = _xoverlambda[1] - _xoverlambda[0]\n>>> b0_expected = -_phi0_star\n>>> assert np.isclose(pb_linear_vector[0], b0_expected, rtol=0, atol=tol), 'First entry of pb_linear_vector is incorrect.'\n",
         "hidden": false,
         "locked": false,
         "points": 0
        },
        {
         "code": ">>> tol = 1e-05\n>>> assert np.isclose(pb_linear_vector[-1], 0.0, rtol=0, atol=tol), 'Last entry of pb_linear_vector is incorrect.'\n",
         "hidden": false,
         "locked": false,
         "points": 0
        },
        {
         "code": ">>> assert pb_linear_matrix[2, 0] == 0, 'Some entries in your pb_linear_matrix that should be 0 are not.'\n>>> assert all(pb_linear_matrix[2, 4:] == 0), 'Some entries in your pb_linear_matrix that should be 0 are not.'\n",
         "hidden": false,
         "locked": false,
         "points": 0
        },
        {
         "code": ">>> _sol = np.array([-0.01, -0.00903962675, -0.00817148519, -0.00738671761, -0.00667731702, -0.00603604536, -0.00545635972, -0.00493234553, -0.00445865627, -0.00403045886, -0.00364338438, -0.0032934835, -0.00297718617, -0.00269126519, -0.0024328033, -0.00219916339, -0.00198796164, -0.00179704314, -0.00162445995, -0.00146845119, -0.00132742509, -0.00119994277, -0.00108470351, -0.000980531527, -0.000886363945, -0.00080123997, -0.000724291079, -0.000654732159, -0.000591853498, -0.000535013543, -0.000483632352, -0.000437185681, -0.000395199634, -0.000357245825, -0.000322937009, -0.000291923133, -0.00026388776, -0.000238544845, -0.000215635812, -0.000194926921, -0.000176206877, -0.000159284678, -0.000143987668, -0.000130159769, -0.000117659896, -0.000106360512, -9.61463282e-05, -8.69131294e-05, -7.85667088e-05, -7.10219074e-05, -6.42017455e-05, -5.80366366e-05, -5.24636778e-05, -4.74260081e-05, -4.28722278e-05, -3.87558746e-05, -3.50349492e-05, -3.16714868e-05, -2.86311698e-05, -2.58829778e-05, -2.33988709e-05, -2.11535037e-05, -1.91239664e-05, -1.72895518e-05, -1.56315432e-05, -1.41330239e-05, -1.27787043e-05, -1.15547664e-05, -1.04487223e-05, -9.44928687e-06, -8.54626292e-06, -7.73043684e-06, -6.99348471e-06, -6.32788739e-06, -5.72685377e-06, -5.18425146e-06, -4.69454428e-06, -4.25273573e-06, -3.85431801e-06, -3.49522606e-06, -3.17179604e-06, -2.88072798e-06, -2.61905211e-06, -2.38409853e-06, -2.17347e-06, -1.98501748e-06, -1.81681817e-06, -1.66715593e-06, -1.53450375e-06, -1.41750818e-06, -1.31497549e-06, -1.22585956e-06, -1.14925112e-06, -1.08436853e-06, -1.03054981e-06, -9.87245819e-07, -9.54014742e-07, -9.30517515e-07, -9.16514397e-07, -9.11862512e-07])\n>>> assert np.allclose(pb_linear_sol, _sol), 'Finite difference solution is incorrect.'\n",
         "hidden": false,
         "locked": false,
         "points": 0
        }
       ],
       "scored": true,
       "setup": "",
       "teardown": "",
       "type": "doctest"
      }
     ]
    },
    "q2_1": {
     "name": "q2_1",
     "points": null,
     "suites": [
      {
       "cases": [
        {
         "code": ">>> _sol = np.array([-0.01, -0.00903451878, -0.00816310155, -0.00737636127, -0.00666590586, -0.00602421775, -0.00544455179, -0.00492084763, -0.00444765429, -0.00402006433, -0.00363365646, -0.00328444492, -0.00296883477, -0.00268358226, -0.00242575956, -0.00219272326, -0.00198208619, -0.00179169221, -0.00161959354, -0.00146403045, -0.0013234129, -0.00119630406, -0.00108140552, -0.000977543807, -0.000883658389, -0.000798790727, -0.000722074453, -0.00065272649, -0.000590039029, -0.000533372281, -0.000482147938, -0.000435843254, -0.000393985707, -0.000356148168, -0.000321944537, -0.000291025805, -0.000263076483, -0.000237811387, -0.000214972724, -0.000194327463, -0.000175664951, -0.000158794769, -0.000143544787, -0.000129759406, -0.00011729797, -0.000106033335, -9.58505652e-05, -8.66457648e-05, -7.83250163e-05, -7.08034224e-05, -6.40042395e-05, -5.78580952e-05, -5.23022798e-05, -4.72801071e-05, -4.27403355e-05, -3.86366455e-05, -3.49271669e-05, -3.15740517e-05, -2.85430879e-05, -2.58033504e-05, -2.33268856e-05, -2.1088426e-05, -1.90651325e-05, -1.72363614e-05, -1.55834535e-05, -1.40895443e-05, -1.27393912e-05, -1.15192187e-05, -1.04165772e-05, -9.42021654e-06, -8.5199707e-06, -7.70665447e-06, -6.97196954e-06, -6.30841991e-06, -5.70923533e-06, -5.16830232e-06, -4.68010171e-06, -4.23965236e-06, -3.84246036e-06, -3.48447314e-06, -3.16203814e-06, -2.87186554e-06, -2.6109947e-06, -2.37676395e-06, -2.16678341e-06, -1.97891066e-06, -1.81122881e-06, -1.662027e-06, -1.52978292e-06, -1.41314728e-06, -1.31093003e-06, -1.22208826e-06, -1.1457155e-06, -1.08103253e-06, -1.02737937e-06, -9.84208608e-07, -9.51079765e-07, -9.27654827e-07, -9.13694789e-07, -9.09057215e-07])\n>>> assert np.allclose(_sol, pb_nonlinear_sol, rtol=0.05, atol=0.001), 'Solution is incorrect'\n",
         "hidden": false,
         "locked": false,
         "points": 0
        }
       ],
       "scored": true,
       "setup": "",
       "teardown": "",
       "type": "doctest"
      }
     ]
    }
   }
  }
 },
 "nbformat": 4,
 "nbformat_minor": 5
}
