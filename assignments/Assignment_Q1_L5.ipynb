{
 "cells": [
  {
   "attachments": {},
   "cell_type": "markdown",
   "id": "5b607a17",
   "metadata": {
    "cell_marker": "\"\"\"",
    "deletable": false,
    "editable": false,
    "nbgrader": {
     "grade": false,
     "locked": true,
     "solution": false
    }
   },
   "source": [
    "# CP 2025-26: Assignment 5 - Initial value problems"
   ]
  },
  {
   "attachments": {},
   "cell_type": "markdown",
   "id": "a1ad8b39",
   "metadata": {
    "cell_marker": "\"\"\"",
    "deletable": false,
    "nbgrader": {
     "grade": false,
     "locked": true,
     "solution": false
    }
   },
   "source": [
    "### General Guidelines\n",
    "\n",
    "> ⚠️⚠️⚠️ READ CAREFULLY ⚠️⚠️⚠️\n",
    "\n",
    "- Do not add, delete or create cells, write the answer only in the space marked with the three dots (`...`). Where function skeletons are provided, it is assumed that that function can be called again with different inputs somewhere else. So be careful to write code outside of functions.\n",
    "  - Function should be ['pure'](https://en.wikipedia.org/wiki/Pure_function), thus no side effects, unless otherwise specified.\n",
    "- Run the the first cell to import all libraries when opening the notebook before running your own code.\n",
    "- Read carefully what is required to be printed/returned/plotted in the answer. Please do not output what is not asked for. \n",
    "  - If you used the print function for debugging, comment it out ( Ctlr + / ) before submitting\n",
    "- All plots should have title, xlabel, ylabel, and legend (if there are more than one curve on the plot)\n",
    "- Use the `help()` function, consult python documentation when using new functions, or do a web search and consult [stackoverflow](https://stackoverflow.com/questions/tagged/python)\n",
    "- Please read the error messages if you get any, and try to understand what they mean. Debugging code is an essential skill to develop.\n",
    "- You can use `%debug` to start an IPython console in a cell (or a scratchpad cell!) after an exception has occurred to try to debug.\n",
    "- You can use `%pdb` to toggle the Python DeBugger (pdb) auto start after an unhandled exception.\n",
    "- In the assignments you will find some tests put in place, to help you verify your solution. If these fail you are certain you did something wrong, thus look at the hints they provide. But passing these tests does __not__ mean your solution is actually correct.\n",
    "\n",
    "Make sure you use `python3.12` and the package versions as stated in the provided `requirements.txt`. This file should also be on the course page."
   ]
  },
  {
   "cell_type": "code",
   "execution_count": 2,
   "id": "8f844cb7",
   "metadata": {
    "nbgrader": {
     "grade": false,
     "locked": true,
     "solution": false
    }
   },
   "outputs": [
    {
     "name": "stdout",
     "output_type": "stream",
     "text": [
      "Python version 3.12.10 (tags/v3.12.10:0cc8128, Apr  8 2025, 12:21:36) [MSC v.1943 64 bit (AMD64)]\n",
      "Successfully imported numpy           \tVersion:      2.3.2\n",
      "Successfully imported scipy           \tVersion:     1.16.1\n",
      "Successfully imported matplotlib      \tVersion:     3.10.5\n",
      "Finished importing packages\n"
     ]
    }
   ],
   "source": [
    "# Importing relevant libraries in the assignment\n",
    "\n",
    "# This will create static plots (no zooming etc.)\n",
    "# otherwise try just plain `%matplotlib`, or install a backend such as ipympl or PyQt5 and\n",
    "# do or `%matplotlib ipympl` `%matplotlib qt`\n",
    "%matplotlib inline\n",
    "\n",
    "REPEAT_IMPORTS = True\n",
    "\n",
    "if REPEAT_IMPORTS or (\"IMPORTED_ALL\" not in globals()):  # To save you a bit of time\n",
    "\n",
    "    def print_import_info(package):\n",
    "        print(\n",
    "            \"Successfully imported %-15s \\tVersion: %10s\"\n",
    "            % (package.__name__, package.__version__)\n",
    "        )\n",
    "\n",
    "    ### Standard library imports\n",
    "\n",
    "    import sys\n",
    "\n",
    "    print(\"Python version {}\".format(sys.version))\n",
    "    if sys.version_info < (3, 12):\n",
    "        print(\n",
    "            \"\\u001b[31m\"  # red\n",
    "            \"\\u001b[1m\"  # bold\n",
    "            \"WARNING: Use Python 3.12 or newer to not encounter any errors or \"\n",
    "            \"problems later on.\\n\"\n",
    "            \"\\u001b[0m\"  # reset\n",
    "        )\n",
    "    del sys  # Do not need it anymore\n",
    "\n",
    "    import typing\n",
    "    from typing import Callable, List, Tuple, Union\n",
    "\n",
    "    ### Import third party libraries\n",
    "    # Initialize self assessment helper\n",
    "    import otter\n",
    "\n",
    "    grader = otter.Notebook(\"Assignment_Q1_L5.ipynb\")\n",
    "\n",
    "    import numpy as np\n",
    "    import numpy.typing as npt\n",
    "\n",
    "    print_import_info(np)\n",
    "\n",
    "    import numpy.typing as npt\n",
    "    import scipy\n",
    "    from scipy import integrate, optimize\n",
    "\n",
    "    print_import_info(scipy)\n",
    "\n",
    "    import matplotlib\n",
    "    import matplotlib.pyplot as plt\n",
    "\n",
    "    print_import_info(matplotlib)\n",
    "\n",
    "    IMPORTED_ALL = True\n",
    "    print(\"Finished importing packages\")\n",
    "else:\n",
    "    print(\"Already imported all packages\")"
   ]
  },
  {
   "cell_type": "markdown",
   "id": "d6f0a2c4",
   "metadata": {},
   "source": [
    "## Question 1: Cooling of a hot object\n",
    "\n",
    "You are tasked with modeling the cooling of a hot object. According to **Newton’s Law of Cooling**, the rate of change of the temperature of an object is proportional to the difference between its temperature and the ambient temperature. The governing equation can be written as:\n",
    "\n",
    "\\begin{equation}\n",
    "    \\frac{dT}{dt} = -k(T(t) - T_{\\infty})\n",
    "    \\tag{Eq. 1.1}\n",
    "\\end{equation}\n",
    "\n",
    "Where:\n",
    "- $T(t)$ is the temperature of the object at time $t$ (in °C),\n",
    "- $T_{\\infty}$ is the ambient temperature (in °C),\n",
    "- $k$ is the cooling constant (in $s^{-1}$),\n",
    "- $t$ is time (in s).\n",
    "\n",
    "Your task is to solve this **initial value problem** with the following parameters:\n",
    "- Initial temperature of the object, $T(0)$: 90°C,\n",
    "- Ambient temperature, $T_{\\infty}$: 20°C,\n",
    "- Cooling constant, $k$: 0.01 $s^{-1}$,\n",
    "- Time step: $\\Delta t$ = 10 $s$,\n",
    "- Total simulation time: 10 minutes."
   ]
  },
  {
   "cell_type": "markdown",
   "id": "1cc363b1",
   "metadata": {},
   "source": [
    "### Question 1.1\n",
    "\n",
    "Implement a numerical solution using the **forward Euler method** to approximate the temperature of the object over time.\n",
    "\n",
    "- Write a Python function `cooling_fe` that:\n",
    "  - Takes the initial temperature, cooling constant, ambient temperature, time step, and total simulation time as inputs.\n",
    "  - Returns two numpy arrays in a tuple, containing the time and temperature at each integration step.\n",
    "- Store the solution for the given IVP parameters in `times_fe` and `temperatures_fe`.\n",
    "- Plot the temperature over time.Make sure to include: title and axis labels."
   ]
  },
  {
   "cell_type": "code",
   "execution_count": 3,
   "id": "d8ce6f4b",
   "metadata": {
    "tags": [
     "otter_answer_cell"
    ]
   },
   "outputs": [
    {
     "name": "stdout",
     "output_type": "stream",
     "text": [
      "20.125790720994008\n",
      "[  0.  10.  20.  30.  40.  50.  60.  70.  80.  90. 100. 110. 120. 130.\n",
      " 140. 150. 160. 170. 180. 190. 200. 210. 220. 230. 240. 250. 260. 270.\n",
      " 280. 290. 300. 310. 320. 330. 340. 350. 360. 370. 380. 390. 400. 410.\n",
      " 420. 430. 440. 450. 460. 470. 480. 490. 500. 510. 520. 530. 540. 550.\n",
      " 560. 570. 580. 590. 600.]\n",
      "20.125790720994008\n",
      "20.003021987318757\n"
     ]
    },
    {
     "data": {
      "image/png": "[encoded data removed]",
      "text/plain": [
       "<Figure size 640x480 with 1 Axes>"
      ]
     },
     "metadata": {},
     "output_type": "display_data"
    }
   ],
   "source": [
    "# Question 1.1: Cooling of an object using Forward Euler\n",
    "def dT(T:float, t:float, k:float)->float:\n",
    "    return -k*(T-T_inf)\n",
    "    \n",
    "def cooling_fe(\n",
    "    T0: float, k: float, T_inf: float, delta_t: float, total_time: float\n",
    ") -> tuple[np.ndarray, np.ndarray]:\n",
    "    \"\"\"\n",
    "    Solves the cooling problem using the finite difference method (Euler forward).\n",
    "\n",
    "    Parameters:\n",
    "    - T0(float): Initial temperature (°C)\n",
    "    - k(float): Cooling constant (s^-1)\n",
    "    - T_inf(float): Ambient temperature (°C)\n",
    "    - delta_t(float): Time step (s)\n",
    "    - total_time(float): Total time of simulation (s)\n",
    "\n",
    "    Returns:\n",
    "    - times(np.ndarray): Array of time steps\n",
    "    - temperatures(np.ndarray): Array of temperatures corresponding to each time step\n",
    "    \"\"\"\n",
    "\n",
    "    n = int(total_time/delta_t)\n",
    "\n",
    "\n",
    "    times_fe = np.linspace(0,total_time,n+1)\n",
    "\n",
    "    temperatures_fe = np.zeros(len(times_fe))\n",
    "    temperatures_fe[0] = T0\n",
    "\n",
    "    #dT/dt= -k(T(t)-T_inf)\n",
    "    for i in range(1,len(times_fe)):\n",
    "        # dT = -k *(temperatures_fe[i-1]-T_inf)\n",
    "        temperatures_fe[i] = temperatures_fe[i-1] + delta_t*dT(temperatures_fe[i-1], times_fe[i-1], k)\n",
    "        # temperatures_fe[i] = temperatures_fe[i-1] + delta_t*dT\n",
    "\n",
    "    \n",
    "    return times_fe, temperatures_fe\n",
    "\n",
    "    \n",
    "\n",
    "# Test the function with given parameters\n",
    "T0 = 90\n",
    "k = 0.01\n",
    "T_inf = 20\n",
    "delta_t = 10\n",
    "total_time = 600\n",
    "\n",
    "\n",
    "# T0 = 90\n",
    "# k = 0.1\n",
    "# T_inf= 20\n",
    "# delta_t = 0.1\n",
    "# total_time = 100\n",
    "\n",
    "\n",
    "times_fe, temperatures_fe = cooling_fe(T0,k,T_inf,delta_t, total_time)\n",
    "\n",
    "# Plot the results\n",
    "plt.plot(times_fe, temperatures_fe, label = 'dT')\n",
    "plt.legend()\n",
    "# plt.show\n",
    "print(temperatures_fe[-1])\n",
    "print(times_fe)\n",
    "print(cooling_fe(T0, k, T_inf,delta_t,total_time)[-1][-1])\n",
    "\n",
    "\n",
    "__T0 = 90\n",
    "__k = 0.1\n",
    "__T_inf = 20\n",
    "__delta_t = 0.1\n",
    "__total_time = 100\n",
    "\n",
    "print(cooling_fe(__T0, __k, __T_inf, __delta_t, __total_time)[-1][-1])"
   ]
  },
  {
   "cell_type": "code",
   "execution_count": 45,
   "id": "d861a2e3",
   "metadata": {
    "deletable": false,
    "editable": false
   },
   "outputs": [
    {
     "data": {
      "text/html": [
       "<p><strong><pre style='display: inline;'>q1_1</pre></strong> passed! 🎉</p>"
      ],
      "text/plain": [
       "q1_1 results: All test cases passed!"
      ]
     },
     "execution_count": 45,
     "metadata": {},
     "output_type": "execute_result"
    }
   ],
   "source": [
    "grader.check(\"q1_1\")"
   ]
  },
  {
   "cell_type": "markdown",
   "id": "5f93b237",
   "metadata": {},
   "source": [
    "### Question 1.2\n",
    "\n",
    "Implement a numerical solution using the **backward Euler method** to approximate the temperature of the object over time. \n",
    "\n",
    "- Write a Python function `cooling_be` that:\n",
    "  - Takes the initial temperature, cooling constant, ambient temperature, time step, and total simulation time as inputs.\n",
    "  - Returns two numpy arrays in a tuple, containing the time and temperature at each integration step.\n",
    "- Store the solution for the given IVP parameters in `times_be` and `temperatures_be`.\n",
    "- Plot the temperature over time. Make sure to include: title and axis labels.\n",
    "\n",
    "💡 **Hint**: In this problem, the backward Euler method leads to a simple linear equation for $T_{n+1}$. Because it is linear in a single unknown, you can rearrange it algebraically and write down an explicit update formula. No root-finding is required."
   ]
  },
  {
   "cell_type": "code",
   "execution_count": 4,
   "id": "817331da",
   "metadata": {
    "tags": [
     "otter_answer_cell"
    ]
   },
   "outputs": [
    {
     "data": {
      "text/plain": [
       "<matplotlib.legend.Legend at 0x1fc7a53f770>"
      ]
     },
     "execution_count": 4,
     "metadata": {},
     "output_type": "execute_result"
    },
    {
     "data": {
      "image/png": "[encoded data removed]",
      "text/plain": [
       "<Figure size 640x480 with 1 Axes>"
      ]
     },
     "metadata": {},
     "output_type": "display_data"
    }
   ],
   "source": [
    "# Question 1.2: Cooling of an object using Backward Euler\n",
    "from scipy.integrate import solve_ivp\n",
    "def cooling_be(\n",
    "    T0: float, k: float, T_inf: float, delta_t: float, total_time: float\n",
    ") -> list[np.ndarray, np.ndarray]:\n",
    "    \"\"\"\n",
    "    Solves the cooling problem using the finite difference method (Euler backward).\n",
    "\n",
    "    Parameters:\n",
    "    - T0(float): Initial temperature (°C)\n",
    "    - k(float): Cooling constant (s^-1)\n",
    "    - T_inf(float): Ambient temperature (°C)\n",
    "    - delta_t(float): Time step (s)\n",
    "    - total_time(float): Total time of simulation (s)\n",
    "\n",
    "    Returns:\n",
    "    - times(np.ndarray): Array of time steps\n",
    "    - temperatures(np.ndarray): Array of temperatures corresponding to each time step\n",
    "    \"\"\"\n",
    "\n",
    "    n = int(total_time/delta_t)\n",
    "\n",
    "\n",
    "    times_be = np.linspace(0,total_time,n+1)\n",
    "\n",
    "    temperatures_be = np.zeros(len(times_be))\n",
    "    temperatures_be[0] = T0\n",
    "\n",
    "    for i in range(1,len(times_be)):\n",
    "        temperatures_be[i] = (temperatures_be[i-1] + delta_t*k*T_inf)/(1+delta_t*k)\n",
    "\n",
    "\n",
    "\n",
    "\n",
    "    return times_be, temperatures_be\n",
    "\n",
    "\n",
    "# Test the function with given parameters\n",
    "T0 = 90\n",
    "k = 0.01\n",
    "T_inf = 20\n",
    "delta_t = 10\n",
    "total_time = 600\n",
    "\n",
    "\n",
    "times_be, temperatures_be = cooling_be(T0,k, T_inf,delta_t, total_time)\n",
    "\n",
    "# Plot the results\n",
    "plt.plot(times_be, temperatures_be, label = 'dT')\n",
    "plt.legend()\n",
    "# plt.show"
   ]
  },
  {
   "cell_type": "code",
   "execution_count": 54,
   "id": "af68fe30",
   "metadata": {
    "deletable": false,
    "editable": false
   },
   "outputs": [
    {
     "data": {
      "text/html": [
       "<p><strong><pre style='display: inline;'>q1_2</pre></strong> passed! ✨</p>"
      ],
      "text/plain": [
       "q1_2 results: All test cases passed!"
      ]
     },
     "execution_count": 54,
     "metadata": {},
     "output_type": "execute_result"
    }
   ],
   "source": [
    "grader.check(\"q1_2\")"
   ]
  },
  {
   "cell_type": "markdown",
   "id": "001b8ce6",
   "metadata": {
    "deletable": false,
    "editable": false
   },
   "source": [
    "### Question 1.3\n",
    "\n",
    "Determine the analytical solution of $\\text{Eq.}\\ 1.1$ by hand.\n",
    "\n",
    "- Write a Python function `analytical_solution` that defines the analytical solution you have derived. The function should:\n",
    "  - Takes the initial temperature, cooling constant, ambient temperature, time step, and total simulation time as inputs.\n",
    "  - Returns two numpy arrays in a tuple, containing the time and temperature at each integration step.\n",
    "- Store the solution for the given IVP parameters in `times_analytical` and `temperatures_analytical`.\n",
    "- Plot all solutions (forward Euler, backward Euler, analytical) in one diagram. Make sure to include: title, axis labels and legend. "
   ]
  },
  {
   "cell_type": "code",
   "execution_count": 21,
   "id": "3c433eda",
   "metadata": {
    "tags": [
     "otter_answer_cell"
    ]
   },
   "outputs": [
    {
     "name": "stdout",
     "output_type": "stream",
     "text": [
      "[  0.  10.  20.  30.  40.  50.  60.  70.  80.  90. 100. 110. 120. 130.\n",
      " 140. 150. 160. 170. 180. 190. 200. 210. 220. 230. 240. 250. 260. 270.\n",
      " 280. 290. 300. 310. 320. 330. 340. 350. 360. 370. 380. 390. 400. 410.\n",
      " 420. 430. 440. 450. 460. 470. 480. 490. 500. 510. 520. 530. 540. 550.\n",
      " 560. 570. 580. 590. 600.]\n",
      "[90.         83.33861926 77.31115272 71.85727545 66.92240322 62.45714618\n",
      " 58.41681453 54.76097127 51.45302749 48.45987618 45.75156088 43.30097586\n",
      " 41.08359483 39.07722551 37.26178748 35.61911121 34.13275626 32.78784668\n",
      " 31.57092218 30.46980335 29.47346983 28.57194998 27.75622109 27.01811906\n",
      " 26.35025673 25.7459499  25.19915048 24.70438589 24.25670438 23.8516254\n",
      " 23.48509479 23.15344417 22.85335428 22.58182172 22.3361289  22.11381684\n",
      " 21.91266057 21.73064685 21.56595403 21.4169338  21.28209472 21.16008728\n",
      " 21.04969038 20.94979913 20.85941379 20.77762976 20.7036285  20.6366694\n",
      " 20.57608229 20.52126081 20.47165629 20.42677226 20.38615951 20.34941157\n",
      " 20.31616067 20.286074   20.25885046 20.23421758 20.21192883 20.19176114\n",
      " 20.17351265]\n"
     ]
    },
    {
     "data": {
      "text/plain": [
       "<matplotlib.legend.Legend at 0x1fc7bca59a0>"
      ]
     },
     "execution_count": 21,
     "metadata": {},
     "output_type": "execute_result"
    },
    {
     "data": {
      "image/png": "[encoded data removed]",
      "text/plain": [
       "<Figure size 640x480 with 1 Axes>"
      ]
     },
     "metadata": {},
     "output_type": "display_data"
    }
   ],
   "source": [
    "def analytical_solution(\n",
    "    T0: float, k: float, T_inf: float, delta_t: float, total_time: float\n",
    ") -> list[np.ndarray, np.ndarray]:\n",
    "    \"\"\"\n",
    "    Solves the cooling problem using the analytical solution.\n",
    "\n",
    "    Parameters:\n",
    "    - T0(float): Initial temperature (°C)\n",
    "    - k(float): Cooling constant (s^-1)\n",
    "    - T_inf(float): Ambient temperature (°C)\n",
    "    - delta_t(float): Time step (s)\n",
    "    - total_time(float): Total time of simulation (s)\n",
    "\n",
    "    Returns:\n",
    "    - times(np.ndarray): Array of time steps\n",
    "    - temperatures(np.ndarray): Array of temperatures corresponding to each time step\n",
    "    \"\"\"\n",
    "    #solve this analytically, find the integral and then write it out\n",
    "\n",
    "    # Test the function with given parameters\n",
    "\n",
    "    n = int(total_time/delta_t)\n",
    "    times_analytical = np.linspace(0,total_time,n+1)\n",
    "    temperatures_analytical = np.zeros(n+1)\n",
    "    temperatures_analytical[0] = T0\n",
    "\n",
    "\n",
    "    for i in range(1,len(times_analytical)):\n",
    "\n",
    "        temperatures_analytical[i] =  T_inf + (T0 - T_inf)*np.exp(-k*times_analytical[i]\n",
    ")\n",
    "    return times_analytical, temperatures_analytical\n",
    "\n",
    "T0 = 90\n",
    "k = 0.01\n",
    "T_inf = 20\n",
    "delta_t = 10\n",
    "total_time = 600\n",
    "\n",
    "times_analytical, temperatures_analytical = analytical_solution(T0,k,T_inf,delta_t, total_time)\n",
    "\n",
    "print(times_analytical)\n",
    "print(temperatures_analytical)\n",
    "# Plot the results\n",
    "plt.plot(times_analytical, temperatures_analytical, label = 'analytical solution')\n",
    "plt.plot(times_be,temperatures_be, label = 'BE solution')\n",
    "plt.plot(times_fe, temperatures_fe, label = 'FE solution')\n",
    "plt.xlabel(\"time\")\n",
    "plt.ylabel(\"temperature\")\n",
    "plt.title(\"temperature vs time\")\n",
    "plt.legend()"
   ]
  },
  {
   "cell_type": "code",
   "execution_count": 22,
   "id": "5cd5266a",
   "metadata": {
    "deletable": false,
    "editable": false
   },
   "outputs": [
    {
     "data": {
      "text/html": [
       "<p><strong><pre style='display: inline;'>q1_3</pre></strong> passed! 💯</p>"
      ],
      "text/plain": [
       "q1_3 results: All test cases passed!"
      ]
     },
     "execution_count": 22,
     "metadata": {},
     "output_type": "execute_result"
    }
   ],
   "source": [
    "grader.check(\"q1_3\")"
   ]
  },
  {
   "cell_type": "markdown",
   "id": "8518548a",
   "metadata": {},
   "source": [
    "### Question 1.4\n",
    "\n",
    "Solve the IVP from $\\text{Eq.}\\ 1.1$ using the build-in function [`scipy.integrate.solve_ivp()`](https://docs.scipy.org/doc/scipy/reference/generated/scipy.integrate.solve_ivp.html):\n",
    "- Use SciPy’s explicit Runge–Kutta 3(2) method:\n",
    "  - Save the time points from the result in a variable named `times_ivp`.\n",
    "  - Save the entire solver output object in `solve_ivp_sol`, and print it once to understand what attributes it contains.\n",
    "  - Extract the temperature solution array from the solver output and store that in `temperatures_ivp`.\n",
    "  \n",
    "- Use the analytical solution defined in Question 1.3 in `temperatures_analytical`, to compute the element-wise absolute errors for:\n",
    "  - `temperatures_fe` computed using forward Euler in (Question 1.1),\n",
    "  - `temperatures_be` computed using backward Euler in (Question 1.2),\n",
    "  - your `solve_ivp()` solution.\n",
    "  - Store these in `errors_fe`, `errors_be`, and `errors_ivp` respectively.\n",
    "  \n",
    "- Create a single figure with two subplots:\n",
    "  - Subplot 1: Plot all solutions (forward Euler, backward Euler, solve_ivp, analytical) vs. time.\n",
    "  - Subplot 2: Plot the three absolute error curves vs. time.\n",
    "  - Make sure to include: titles, axis labels and legends.\n",
    "  - Store `(fig, axes)` in `cooling_plot` for grading."
   ]
  },
  {
   "cell_type": "code",
   "execution_count": 49,
   "id": "bfbe6a8e",
   "metadata": {
    "tags": [
     "otter_answer_cell"
    ]
   },
   "outputs": [
    {
     "name": "stdout",
     "output_type": "stream",
     "text": [
      "  message: The solver successfully reached the end of the integration interval.\n",
      "  success: True\n",
      "   status: 0\n",
      "        t: [ 0.000e+00  1.000e+01 ...  5.900e+02  6.000e+02]\n",
      "        y: [[ 9.000e+01  8.334e+01 ...  2.007e+01  2.006e+01]]\n",
      "      sol: None\n",
      " t_events: None\n",
      " y_events: None\n",
      "     nfev: 38\n",
      "     njev: 0\n",
      "      nlu: 0\n",
      "[  0.  10.  20.  30.  40.  50.  60.  70.  80.  90. 100. 110. 120. 130.\n",
      " 140. 150. 160. 170. 180. 190. 200. 210. 220. 230. 240. 250. 260. 270.\n",
      " 280. 290. 300. 310. 320. 330. 340. 350. 360. 370. 380. 390. 400. 410.\n",
      " 420. 430. 440. 450. 460. 470. 480. 490. 500. 510. 520. 530. 540. 550.\n",
      " 560. 570. 580. 590. 600.]\n",
      "[90.         83.33824798 77.30369793 71.83092955 66.88017946 62.4121622\n",
      " 58.36489613 54.69350786 51.37311334 48.37882853 45.67199862 43.213751\n",
      " 40.98833129 38.98014605 37.17092862 35.52775863 34.03701095 32.68927376\n",
      " 31.47513522 30.38061455 29.38458864 28.48074625 27.66375474 26.92828146\n",
      " 26.26725595 25.66519446 25.11730342 24.62087829 24.17321452 23.77160758\n",
      " 23.41129113 23.08161803 22.78050472 22.50686701 22.25962064 22.03768141\n",
      " 21.83996509 21.66369375 21.50092738 21.35066188 21.21274461 21.0870229\n",
      " 20.9733441  20.87155557 20.78150466 20.7030387  20.6350523  20.57062449\n",
      " 20.50864644 20.44941432 20.39322428 20.34037249 20.29115513 20.24586835\n",
      " 20.20480831 20.16827119 20.13655314 20.10995034 20.08875894 20.07327511\n",
      " 20.06379502]\n"
     ]
    },
    {
     "data": {
      "image/png": "[encoded data removed]",
      "text/plain": [
       "<Figure size 640x480 with 2 Axes>"
      ]
     },
     "metadata": {},
     "output_type": "display_data"
    }
   ],
   "source": [
    "\n",
    "def dT(t: float, T:float, k:float)->float: \n",
    "    return -k*(T-T_inf)\n",
    "\n",
    "total_time = 600\n",
    "time_span = [0,total_time]\n",
    "delta_t = 10\n",
    "n = int(total_time/delta_t)\n",
    "t_eval = np.linspace(0, time_span[1], n+1)\n",
    "\n",
    "\n",
    "T0 = [90]\n",
    "# times_ivp = ...\n",
    "solve_ivp_sol = scipy.integrate.solve_ivp(dT,time_span,T0,method='RK23', t_eval= t_eval, args=[k])\n",
    "\n",
    "# Print solve_ivp_sol\n",
    "print(solve_ivp_sol)\n",
    "\n",
    "# Obtain temperatures array from solve_ivp_sol\n",
    "times_ivp = solve_ivp_sol.t\n",
    "temperatures_ivp = solve_ivp_sol.y[0]\n",
    "\n",
    "print(times_ivp)\n",
    "print(temperatures_ivp)\n",
    "\n",
    "# Compute absolute errors between numerical and analytical solutions\n",
    "errors_fe = temperatures_fe - temperatures_analytical\n",
    "errors_be = temperatures_be - temperatures_analytical\n",
    "errors_ivp = temperatures_ivp - temperatures_analytical\n",
    "\n",
    "# Plot the results in 2 subplots\n",
    "fig, axes = plt.subplots(2)\n",
    "axes[0].plot(times_fe, temperatures_fe, label = \"fe\")\n",
    "axes[0].plot(times_analytical, temperatures_analytical, label = 'analytical')\n",
    "axes[0].plot(times_be, temperatures_be, label = 'be')\n",
    "axes[0].plot(times_ivp, temperatures_ivp, label = 'ivp')\n",
    "axes[0].set_title('plots of time vs temperature')\n",
    "axes[0].legend()\n",
    "\n",
    "#erros \n",
    "axes[1].plot(times_fe, errors_fe, label = 'error fe')\n",
    "axes[1].plot(times_be, errors_be, label = 'errors be')\n",
    "axes[1].plot(times_ivp, errors_ivp, label = 'errors ivp')\n",
    "axes[1].set_title('plots of errors')\n",
    "axes[1].legend()\n",
    "# fig.legend()\n",
    "# Save the figure object and axes for grading purposes\n",
    "cooling_plot = fig, axes "
   ]
  },
  {
   "cell_type": "code",
   "execution_count": 46,
   "id": "8bd99078",
   "metadata": {
    "deletable": false,
    "editable": false
   },
   "outputs": [
    {
     "data": {
      "text/html": [
       "<p><strong><pre style='display: inline;'>q1_4</pre></strong> passed! 🌟</p>"
      ],
      "text/plain": [
       "q1_4 results: All test cases passed!"
      ]
     },
     "execution_count": 46,
     "metadata": {},
     "output_type": "execute_result"
    }
   ],
   "source": [
    "grader.check(\"q1_4\")"
   ]
  },
  {
   "cell_type": "markdown",
   "id": "dc35e180",
   "metadata": {},
   "source": [
    "### Reflect on the results\n",
    "\n",
    "Evaluate the absolute error subplot from Question 1.4 in terms of:\n",
    "\n",
    "1. Trend and magnitude: Describe and compare the overall shapes and magnitudes of the error curves for the three methods (Forward Euler, Backward Euler, `solve_ivp()`).\n",
    "\n",
    "2. Method order: Relate the observed error magnitudes and shapes to the order of accuracy of each method.\n",
    "\n",
    "3. Effect of $\\Delta t$: Discuss how the chosen step size ($\\Delta t$ = 10 s) influences the results, and predict what would happen to the error curves if Δt were halved.\n",
    "\n",
    "\n",
    "Write your discussion in 4–6 sentences in the text box below.\n"
   ]
  },
  {
   "cell_type": "markdown",
   "id": "c6913b37",
   "metadata": {},
   "source": [
    "1) trend and magnitude: \n",
    "In the first 100 seconds, a large positive error can be noticed for be while a large negative error can be noticed for fe. While errors for be approach 0 as time lims to inf, error for fe can be seen increasing in the positive after about 500s. Meanwhile ivp remains steady only slighly deviating. \n",
    "\n",
    "2) method order: \n",
    "fe: based on left rectangle which has a accuracy of \n",
    "\n",
    "3) effect of delta_t: \n",
    "fe: increasing delta_t would result in less accuracy as the integration would overcompensate \n",
    "be: increasing delta_t would eventualy not have much affect \n",
    "ivp: increasing delta_t would result in more point which would benefit the accuracy of the integration. "
   ]
  },
  {
   "cell_type": "markdown",
   "id": "1c351cfe",
   "metadata": {},
   "source": [
    "## Bonus Question 2: Simple harmonic oscillator"
   ]
  },
  {
   "cell_type": "markdown",
   "id": "a48db34c",
   "metadata": {},
   "source": [
    "The simple harmonic oscillator consists of a body moving in a straight line under the influence of a force $F$ whose magnitude is proportional to the displacement $x$ of the body from the point of equilibrium, and whose direction is towards this point.\n",
    "\n",
    "\\begin{equation}\n",
    "F=−k(x−x_0)\n",
    "\\tag{Eq. 2.1}\n",
    "\\end{equation}\n",
    "\n",
    "The force acts in the direction opposite to that of the displacement. The constant $k$\n",
    "is a measure of how hard or soft the spring is.\n",
    "\n",
    "Newton’s law of motion states that the force applied on an object equals its mass multiplied by its acceleration. The variable $h=x−x_0$\n",
    "represents the displacement of the spring from its undistorted length, and the acceleration is the second derivative of the displacement. Therefore:\n",
    "\n",
    "\\begin{equation}\n",
    "F=m\\frac{d^2h(t)}{dt^2}\n",
    "\\tag{Eq. 2.2}\n",
    "\\end{equation}\n",
    "\n",
    "Combining equations Eq. $2.1$ and Eq. $2.2$ we obtain:\n",
    "\n",
    "\\begin{equation}\n",
    "m\\frac{d^2h(t)}{dt^2}=−kh(t)\n",
    "\\tag{Eq. 2.3}\n",
    "\\end{equation}\n",
    "\n",
    "which is a second order differential equation. Notice that $m$\n",
    "(the mass of the body) and $k$ (the spring constant) are not functions of $x$.\n",
    "\n",
    "If the oscillator moves in a viscous medium, we need to include a frictional term in Newton’s equation. The force due to friction is proportional to the velocity of the mass ($\\frac{dh(t)}{dt}$), and the direction is opposite to the displacement. Therefore:\n",
    "\n",
    "\\begin{equation}\n",
    "m\\frac{d^2h(t)}{dt^2}=−kh(t)−γ\\frac{dh(t)}{dt}\n",
    "\\tag{Eq. 2.4}\n",
    "\\end{equation}\n",
    "\n",
    "where $γ$ is a constant that depends on the viscosity of the medium. Assume that the displacement $h(t)$\n",
    "and the velocity $\\frac{dh(t)}{dt}$ at time $t=0$ are: $h(0)=A$ and $\\frac{dh(0)}{dt}=0$. Physically, this means that the displacement at $t=0$ is A, and the body is at rest.\n",
    "\n",
    "**Objective**: Implement the Heun’s method to solve the IVP for the simple oscillator with the following parameters:\n",
    "- $k=5  \\ N/m$\n",
    "- $m=3.5 \\ kg$\n",
    "- $γ = \\sqrt{2mk} \\ kg /s $\n",
    "- $A=10 \\ m$\n",
    "\n",
    "Compare the results obtained using Heun's method to those obtained using forward Euler and backward Euler.\n",
    "\n",
    "Follow the sub-questions below to complete this objective."
   ]
  },
  {
   "cell_type": "markdown",
   "id": "5d9c7904",
   "metadata": {
    "deletable": false,
    "editable": false
   },
   "source": [
    "#### Question 2.1\n",
    "\n",
    "- Use pen and paper to formulate the damped harmonic oscillator ( $\\text{Eq}. \\ 2.4$ ) as a first‑order ODE system suitable for numerical integration:\n",
    "  - Define the state vector $y = [v, h]$, where $v = dh/dt$ is the velocity and $h$ is the displacement.\n",
    "  - Derive the two first‑order ODEs for $dv/dt$ and $dh/dt$ respectively. \n",
    "- Implement the first-order ODE system in a function `ode(t, h)` returning an array containing [$dv/dt$, $dh/dt$] in this order."
   ]
  },
  {
   "cell_type": "code",
   "execution_count": null,
   "id": "d5ff86ae",
   "metadata": {
    "tags": [
     "otter_answer_cell"
    ]
   },
   "outputs": [],
   "source": [
    "# Question 2.1: Simple Harmonic Oscillator \n",
    "def ode(t: float, h: np.ndarray) -> np.ndarray:\n",
    "    \"\"\"\n",
    "    Defines the second-order ODE for the simple harmonic oscillator \n",
    "    as a system of first-order ODEs.\n",
    "\n",
    "    Parameters\n",
    "    ----------\n",
    "    t : float\n",
    "        Current time\n",
    "    h : np.ndarray\n",
    "        Variables of the ODE system\n",
    "\n",
    "    Returns\n",
    "    -------\n",
    "    np.ndarray\n",
    "        Rate of change of variables at time t\n",
    "    \"\"\"\n",
    "\n",
    "    k = 5\n",
    "    m = 3.5\n",
    "    gamma = np.sqrt(2*m*k)\n",
    "    A = 10 \n",
    "    v,x = h\n",
    "\n",
    "    \n",
    "    dxdt = v\n",
    "    dvdt = (-k/m)*x - (gamma/m) *v \n",
    "    dh = np.array([dvdt, dxdt])\n",
    "\n",
    "    \n",
    "    return dh"
   ]
  },
  {
   "cell_type": "code",
   "execution_count": 59,
   "id": "f729f32e",
   "metadata": {
    "deletable": false,
    "editable": false
   },
   "outputs": [
    {
     "data": {
      "text/html": [
       "<p><strong><pre style='display: inline;'>q2_1_1</pre></strong> passed! 💯</p>"
      ],
      "text/plain": [
       "q2_1_1 results: All test cases passed!"
      ]
     },
     "execution_count": 59,
     "metadata": {},
     "output_type": "execute_result"
    }
   ],
   "source": [
    "grader.check(\"q2_1_1\")"
   ]
  },
  {
   "cell_type": "markdown",
   "id": "4ad85c71",
   "metadata": {
    "deletable": false,
    "editable": false
   },
   "source": [
    "#### Question 2.2\n",
    "   - Use pen and paper to derive the Heun's method. The Heun's method uses the trapezoidal approach for integration (see lecture 4). To derive the Heun's method, follow the same steps as for forward and backward Euler in lecture 5. You will notice that the resulting equation for $y_{i+1}$ is *implicit*. Use the forward Euler method to make an initial prediction for $y_{i+1}$ and use that value on the right hand side of your equation for the Heun’s method prediction.\n",
    " \n",
    "   - Create a function `heun` that implements Heun's method.\n"
   ]
  },
  {
   "cell_type": "code",
   "execution_count": 97,
   "id": "25f3b7fc",
   "metadata": {
    "tags": [
     "otter_answer_cell"
    ]
   },
   "outputs": [],
   "source": [
    "# Question 2.2 : Heun's method\n",
    "def heun(func: Callable, y0: np.ndarray, t: np.ndarray) -> np.ndarray:\n",
    "    \n",
    "    \"\"\"Generic Heun's method for IVPs.\n",
    "\n",
    "    Args:\n",
    "        func (Callable) : ODE system to be solved\n",
    "        y0 (np.ndarray) : Initial condition, 2D\n",
    "        t (np.ndarray) : Time grid points\n",
    "\n",
    "    Returns:\n",
    "        np.ndarray\n",
    "            Solution of ODE system, 2D\n",
    "    \"\"\"\n",
    "    dt = t[1]-t[0]\n",
    "    y = np.zeros((len(y0), len(t))) \n",
    "    y[:, 0] = y0\n",
    "\n",
    "    # the Heun's methods: \n",
    "    # y_pred = y_i + h*func(t_i,y_i)\n",
    "    # y_(i+1) = y_i + (h/2)(func(t_i,y_i) + f(t_i, y_pred)) \n",
    "\n",
    "    for i in range(len(t)-1):\n",
    "        f_i = func(t[i], y[:, i])\n",
    "        y_pred = y[:, i] + dt * f_i\n",
    "        f_pred = func(t[i+1], y_pred)\n",
    "        y[:, i+1] = y[:, i] + 0.5 * dt * (f_i + f_pred)\n",
    "\n",
    "\n",
    "\n",
    "\n",
    "\n",
    "\n",
    "    return y\n"
   ]
  },
  {
   "cell_type": "code",
   "execution_count": 98,
   "id": "d5a60678",
   "metadata": {
    "deletable": false,
    "editable": false
   },
   "outputs": [
    {
     "data": {
      "text/html": [
       "<p><strong><pre style='display: inline;'>q2_1_2</pre></strong> passed! 💯</p>"
      ],
      "text/plain": [
       "q2_1_2 results: All test cases passed!"
      ]
     },
     "execution_count": 98,
     "metadata": {},
     "output_type": "execute_result"
    }
   ],
   "source": [
    "grader.check(\"q2_1_2\")"
   ]
  },
  {
   "cell_type": "markdown",
   "id": "21ffe2f3",
   "metadata": {
    "deletable": false,
    "editable": false
   },
   "source": [
    "#### Question 2.3\n",
    "\n",
    "Create a function `forward_euler` that implements the forward Euler method.\n"
   ]
  },
  {
   "cell_type": "code",
   "execution_count": 103,
   "id": "91711f5c",
   "metadata": {
    "tags": [
     "otter_answer_cell"
    ]
   },
   "outputs": [],
   "source": [
    "def forward_euler(func: Callable, y0: np.ndarray, t: np.ndarray) -> np.ndarray:\n",
    "    \"\"\"\n",
    "    Generic forward Euler method for IVPs.\n",
    "\n",
    "    Arge: \n",
    "    func (Callable) : ODE system to be solved\n",
    "    y0 (np.ndarray) : Initial condition, 2D\n",
    "    t (np.ndarray)  : Time grid points\n",
    "\n",
    "    Returns:\n",
    "        np.ndarray\n",
    "            Solution of ODE system, 2D\n",
    "    \"\"\"\n",
    "\n",
    "    y = np.zeros((len(y0), len(t)))\n",
    "    y[:, 0] = y0\n",
    "    h = t[1] -t[0]\n",
    "\n",
    "    for i in range(len(t)-1):\n",
    "        y[:, i+1] = y[:, i] + h*func(t[i], y[:,i])\n",
    "\n",
    "    return y"
   ]
  },
  {
   "cell_type": "code",
   "execution_count": 104,
   "id": "d0115dec",
   "metadata": {
    "deletable": false,
    "editable": false
   },
   "outputs": [
    {
     "data": {
      "text/html": [
       "<p><strong><pre style='display: inline;'>q2_1_3</pre></strong> passed! 🚀</p>"
      ],
      "text/plain": [
       "q2_1_3 results: All test cases passed!"
      ]
     },
     "execution_count": 104,
     "metadata": {},
     "output_type": "execute_result"
    }
   ],
   "source": [
    "grader.check(\"q2_1_3\")"
   ]
  },
  {
   "cell_type": "markdown",
   "id": "fa138ab8",
   "metadata": {
    "deletable": false,
    "editable": false
   },
   "source": [
    "#### Question 2.4\n",
    "\n",
    "Create a function `backward_euler` that implements the backward Euler method.\n",
    "\n",
    "💡 **Hint**: Recall that the backward Euler method is **implicit**: at each step you must solve an equation for the unknown next value $y_{n+1}$. Implement this by formulating the residual equation and using a root-finding method (e.g. [`scipy.optimize.fsolve`](https://docs.scipy.org/doc/scipy/reference/generated/scipy.optimize.fsolve.html)) to obtain $y_{n+1}$ at every time step.\n"
   ]
  },
  {
   "cell_type": "code",
   "execution_count": 26,
   "id": "1a86e097",
   "metadata": {
    "tags": [
     "otter_answer_cell"
    ]
   },
   "outputs": [],
   "source": [
    "def backward_euler(func: Callable, y0: np.ndarray, t: np.ndarray) -> np.ndarray:\n",
    "\n",
    "    \"\"\"\n",
    "    Generic backward Euler method for IVPs. Use scipy's\n",
    "    fsolve to solve root finding problem.\n",
    "\n",
    "    Parameters\n",
    "    ----------\n",
    "    func : Callable\n",
    "        Function that defines the ODE (y' = func(t, y)).\n",
    "    y0 : np.ndarray\n",
    "        Initial condition.\n",
    "    t : np.ndarray\n",
    "        Time domain.\n",
    "\n",
    "    Returns\n",
    "    -------\n",
    "    np.ndarray\n",
    "        Array of solution values at the time points.\n",
    "    \"\"\"\n",
    "    \n",
    "    y = np.zeros((len(y0), len(t)))\n",
    "    y[:,0] = y0\n",
    "    dt = t[1] -t[0]\n",
    "\n",
    "    #backwards euler looks as follows: \n",
    "    # f(i+1) = f(i) + h * func(t(i+1), y(i+1))\n",
    "    #make the function equal to zero, and make f(i+1) be interpreted as a variable. \n",
    "    # afterwhich use your favorite root solver to solve for f(i+1) (you can do this with scipy.optimize.fsolve)\n",
    "    # take note that to make the this function more robust, we are using y[number of functions, function at positions]\n",
    "    for i in range(len(t)-1):\n",
    "        y_guess = y[:,i]\n",
    "        euler = lambda y_next: y[:,i] + dt * func(t[i+1], y_next) -y_next \n",
    "        y[:, i+1] = scipy.optimize.fsolve(euler, y_guess)\n",
    "    return y"
   ]
  },
  {
   "cell_type": "code",
   "execution_count": 27,
   "id": "cc93252c",
   "metadata": {
    "deletable": false,
    "editable": false
   },
   "outputs": [
    {
     "data": {
      "text/html": [
       "<p><strong><pre style='display: inline;'>q2_1_4</pre></strong> passed! 🌈</p>"
      ],
      "text/plain": [
       "q2_1_4 results: All test cases passed!"
      ]
     },
     "execution_count": 27,
     "metadata": {},
     "output_type": "execute_result"
    }
   ],
   "source": [
    "grader.check(\"q2_1_4\")"
   ]
  },
  {
   "cell_type": "markdown",
   "id": "dd3dc272",
   "metadata": {
    "deletable": false,
    "editable": false
   },
   "source": [
    "#### Question 2.5\n",
    "\n",
    "   - Use the three methods (forward Euler, backward Euler, and Heun's) to solve the IVP on the provided time grid `t`.\n",
    "   - Store the full results in `sol_forward`, `sol_backward` and `sol_heun` respectively.\n",
    "   - Extract displacement $h$ and velocity $v$ from each array (extract them in the correct order, remember how you were asked to define the ODEs in question 2.1).\n",
    "   - Create one figure with two subplots:\n",
    "     - Top subplot: plot displacement $h$ for all three methods.\n",
    "     - Bottom subplot: plot velocity $v$ for all three methods.\n",
    "     - Include clear axis labels, a title and legends for the subplots."
   ]
  },
  {
   "cell_type": "code",
   "execution_count": 31,
   "id": "2e4899d8",
   "metadata": {
    "tags": [
     "otter_answer_cell"
    ]
   },
   "outputs": [
    {
     "data": {
      "text/plain": [
       "<matplotlib.legend.Legend at 0x2297fedfb60>"
      ]
     },
     "execution_count": 31,
     "metadata": {},
     "output_type": "execute_result"
    },
    {
     "data": {
      "image/png": "[encoded data removed]",
      "text/plain": [
       "<Figure size 800x600 with 2 Axes>"
      ]
     },
     "metadata": {},
     "output_type": "display_data"
    }
   ],
   "source": [
    "# Parameters\n",
    "t = np.linspace(0, 10, 101) # Time grid\n",
    "h0 = [0,10]\n",
    "\n",
    "# Solve using all methods\n",
    "sol_forward = forward_euler(ode,h0,t)\n",
    "sol_backward = backward_euler(ode,h0,t)\n",
    "sol_heun = heun(ode,h0,t)\n",
    "\n",
    "# Extract displacement and velocity\n",
    "velocity_for, displacement_for = sol_forward\n",
    "velocity_back, displacement_back = sol_backward\n",
    "velocity_heun, displacement_heun = sol_heun\n",
    "\n",
    "\n",
    "# Create subplots\n",
    "fig, axe = plt.subplots(2,1,figsize=(8,6))\n",
    "\n",
    "axe[0].plot(t, velocity_back, label = \"back\")\n",
    "axe[0].plot(t, velocity_for, label = \"forward\")\n",
    "axe[0].plot(t, velocity_heun, label = \"heun\")\n",
    "axe[0].legend()\n",
    "\n",
    "axe[1].plot(t, displacement_back, label = 'back')\n",
    "axe[1].plot(t,displacement_for, label= 'forward')\n",
    "axe[1].plot(t,displacement_heun, label = 'heun')\n",
    "axe[1].legend()"
   ]
  }
 ],
 "metadata": {
  "jupytext": {
   "cell_markers": "\"\"\"",
   "formats": "ipynb,py:percent"
  },
  "kernelspec": {
   "display_name": "venv",
   "language": "python",
   "name": "python3"
  },
  "language_info": {
   "codemirror_mode": {
    "name": "ipython",
    "version": 3
   },
   "file_extension": ".py",
   "mimetype": "text/x-python",
   "name": "python",
   "nbconvert_exporter": "python",
   "pygments_lexer": "ipython3",
   "version": "3.12.10"
  },
  "otter": {
   "OK_FORMAT": true,
   "assignment_name": "CP_Assignment_Q1_5",
   "tests": {
    "q1_1": {
     "name": "q1_1",
     "points": 0,
     "suites": [
      {
       "cases": [
        {
         "code": ">>> __T0 = 90\n>>> __k = 0.01\n>>> __T_inf = 20\n>>> __delta_t = 10\n>>> __total_time = 600\n>>> result = cooling_fe(__T0, __k, __T_inf, __delta_t, __total_time)\n>>> assert isinstance(result, tuple), 'Return value must be a tuple.'\n>>> assert len(result) == 2, 'Tuple must contain exactly two elements.'\n>>> assert isinstance(result[0], np.ndarray), 'First element must be a numpy array.'\n>>> assert isinstance(result[1], np.ndarray), 'Second element must be a numpy array.'\n",
         "hidden": false,
         "locked": false,
         "points": 0
        },
        {
         "code": ">>> __T0 = 90\n>>> __k = 0.01\n>>> __T_inf = 20\n>>> __delta_t = 10\n>>> __total_time = 600\n>>> times_fe, temperatures_fe = cooling_fe(__T0, __k, __T_inf, __delta_t, __total_time)\n>>> assert np.isclose(times_fe[0], 0.0), 'Time array must start at 0.'\n>>> assert np.isclose(times_fe[-1], __total_time), 'Time array must end at total_time.'\n>>> assert np.allclose(np.diff(times_fe), __delta_t), 'Time array must increase in steps of delta_t.'\n",
         "hidden": false,
         "locked": false,
         "points": 0
        },
        {
         "code": ">>> __T0 = 90\n>>> assert np.isclose(temperatures_fe[0], __T0), 'Initial temperature should be equal to T0.'\n",
         "hidden": false,
         "locked": false,
         "points": 0
        },
        {
         "code": ">>> assert np.isclose(temperatures_fe[1], 83.0), 'First step temperature is incorrect.'\n",
         "hidden": false,
         "locked": false,
         "points": 0
        },
        {
         "code": ">>> assert np.all(np.diff(temperatures_fe) <= 0), 'Temperature should be decreasing over time.'\n",
         "hidden": false,
         "locked": false,
         "points": 0
        },
        {
         "code": ">>> __T0 = 90\n>>> __k = 0.1\n>>> __T_inf = 20\n>>> __delta_t = 0.1\n>>> __total_time = 100\n>>> assert np.isclose(cooling_fe(__T0, __k, __T_inf, __delta_t, __total_time)[-1][-1], __T_inf, atol=1.0), 'Final temperature should approach T_inf.'\n",
         "hidden": false,
         "locked": false,
         "points": 0
        },
        {
         "code": ">>> __temperatures = np.array([90.0, 83.0, 76.7, 71.03, 65.927, 61.3343, 57.20087, 53.480783, 50.1327047, 47.11943423, 44.40749081, 41.96674173, 39.77006755, 37.7930608, 36.01375472, 34.41237925, 32.97114132, 31.67402719, 30.50662447, 29.45596202, 28.51036582, 27.65932924, 26.89339632, 26.20405668, 25.58365102, 25.02528591, 24.52275732, 24.07048159, 23.66343343, 23.29709009, 22.96738108, 22.67064297, 22.40357867, 22.16322081, 21.94689873, 21.75220885, 21.57698797, 21.41928917, 21.27736025, 21.14962423, 21.03466181, 20.93119563, 20.83807606, 20.75426846, 20.67884161, 20.61095745, 20.5498617, 20.49487553, 20.44538798, 20.40084918, 20.36076426, 20.32468784, 20.29221905, 20.26299715, 20.23669743, 20.21302769, 20.19172492, 20.17255243, 20.15529719, 20.13976747, 20.12579072])\n>>> assert np.allclose(temperatures_fe, __temperatures, rtol=0.05), 'Your solution is likely wrong'\n",
         "hidden": false,
         "locked": false,
         "points": 0
        }
       ],
       "scored": true,
       "setup": "",
       "teardown": "",
       "type": "doctest"
      }
     ]
    },
    "q1_2": {
     "name": "q1_2",
     "points": 0,
     "suites": [
      {
       "cases": [
        {
         "code": ">>> __T0 = 90\n>>> __k = 0.01\n>>> __T_inf = 20\n>>> __delta_t = 10\n>>> __total_time = 600\n>>> result = cooling_be(__T0, __k, __T_inf, __delta_t, __total_time)\n>>> assert isinstance(result, tuple), 'Return value must be a tuple.'\n>>> assert len(result) == 2, 'Tuple must contain exactly two elements.'\n>>> assert isinstance(result[0], np.ndarray), 'First element must be a numpy array.'\n>>> assert isinstance(result[1], np.ndarray), 'Second element must be a numpy array.'\n",
         "hidden": false,
         "locked": false,
         "points": 0
        },
        {
         "code": ">>> __T0 = 90\n>>> __k = 0.01\n>>> __T_inf = 20\n>>> __delta_t = 10\n>>> __total_time = 600\n>>> times_be, temperatures_be = cooling_be(__T0, __k, __T_inf, __delta_t, __total_time)\n>>> assert np.isclose(times_be[0], 0.0), 'Time array must start at 0.'\n>>> assert np.isclose(times_be[-1], __total_time), 'Time array must end at total_time.'\n>>> assert np.allclose(np.diff(times_be), __delta_t), 'Time array must increase in steps of delta_t.'\n",
         "hidden": false,
         "locked": false,
         "points": 0
        },
        {
         "code": ">>> __T0 = 90\n>>> assert np.isclose(temperatures_be[0], __T0), 'Initial temperature should be equal to T0.'\n",
         "hidden": false,
         "locked": false,
         "points": 0
        },
        {
         "code": ">>> assert np.isclose(temperatures_be[1], 83.6364, rtol=0.05), 'First step temperature is incorrect.'\n",
         "hidden": false,
         "locked": false,
         "points": 0
        },
        {
         "code": ">>> assert np.all(np.diff(temperatures_be) <= 0), 'Temperature should be decreasing over time.'\n",
         "hidden": false,
         "locked": false,
         "points": 0
        },
        {
         "code": ">>> __T0 = 90\n>>> __k = 0.01\n>>> __T_inf = 20\n>>> __delta_t = 10\n>>> __total_time = 600\n>>> assert np.isclose(cooling_be(__T0, __k, __T_inf, __delta_t, __total_time)[-1][-1], __T_inf, atol=1.0), 'Final temperature should approach T_inf.'\n",
         "hidden": false,
         "locked": false,
         "points": 0
        },
        {
         "code": ">>> __temperatures = np.array([90.0, 83.63636364, 77.85123967, 72.59203606, 67.81094188, 63.46449261, 59.5131751, 55.92106828, 52.65551661, 49.68683329, 46.98803026, 44.53457296, 42.30415724, 40.27650658, 38.4331878, 36.75744346, 35.23403951, 33.84912682, 32.59011529, 31.44555936, 30.40505396, 29.45913997, 28.59921815, 27.81747105, 27.10679186, 26.46071987, 25.8733817, 25.33943791, 24.85403446, 24.4127586, 24.01159873, 23.64690794, 23.31537085, 23.0139735, 22.73997591, 22.49088719, 22.2644429, 22.05858446, 21.87144041, 21.70130947, 21.54664497, 21.40604088, 21.27821898, 21.16201726, 21.05637933, 20.96034484, 20.87304076, 20.79367342, 20.72152129, 20.65592845, 20.59629859, 20.54208963, 20.49280875, 20.44800796, 20.40727996, 20.37025451, 20.33659501, 20.30599546, 20.27817769, 20.25288881, 20.22989892])\n>>> assert np.allclose(temperatures_be, __temperatures, rtol=0.05), 'Your solution is likely wrong'\n",
         "hidden": false,
         "locked": false,
         "points": 0
        }
       ],
       "scored": true,
       "setup": "",
       "teardown": "",
       "type": "doctest"
      }
     ]
    },
    "q1_3": {
     "name": "q1_3",
     "points": 0,
     "suites": [
      {
       "cases": [
        {
         "code": ">>> __T0 = 90\n>>> __k = 0.01\n>>> __T_inf = 20\n>>> __delta_t = 10\n>>> __total_time = 600\n>>> result = analytical_solution(__T0, __k, __T_inf, __delta_t, __total_time)\n>>> assert isinstance(result, tuple), 'Return value must be a tuple.'\n>>> assert len(result) == 2, 'Tuple must contain exactly two elements.'\n>>> assert isinstance(result[0], np.ndarray), 'First element must be a numpy array.'\n>>> assert isinstance(result[1], np.ndarray), 'Second element must be a numpy array.'\n",
         "hidden": false,
         "locked": false,
         "points": 0
        },
        {
         "code": ">>> __T0 = 90\n>>> __k = 0.01\n>>> __T_inf = 20\n>>> __delta_t = 10\n>>> __total_time = 600\n>>> times_analytical, temperatures_analytical = analytical_solution(__T0, __k, __T_inf, __delta_t, __total_time)\n>>> assert np.isclose(times_analytical[0], 0.0), 'Time array must start at 0.'\n>>> assert np.isclose(times_analytical[-1], __total_time), 'Time array must end at total_time.'\n>>> assert np.allclose(np.diff(times_analytical), __delta_t), 'Time array must increase in steps of delta_t.'\n",
         "hidden": false,
         "locked": false,
         "points": 0
        },
        {
         "code": ">>> __T0 = 90\n>>> assert np.isclose(temperatures_analytical[0], __T0), 'Initial temperature should be equal to T0.'\n",
         "hidden": false,
         "locked": false,
         "points": 0
        },
        {
         "code": ">>> assert np.isclose(temperatures_analytical[1], 83.3386, rtol=0.05), 'First step temperature is incorrect.'\n",
         "hidden": false,
         "locked": false,
         "points": 0
        },
        {
         "code": ">>> assert np.all(np.diff(temperatures_analytical) <= 0), 'Temperature should be decreasing over time.'\n",
         "hidden": false,
         "locked": false,
         "points": 0
        },
        {
         "code": ">>> __T0 = 90\n>>> __k = 0.01\n>>> __T_inf = 20\n>>> __delta_t = 10\n>>> __total_time = 600\n>>> assert np.isclose(analytical_solution(__T0, __k, __T_inf, __delta_t, __total_time)[-1][-1], __T_inf, atol=1.0), 'Final temperature should approach T_inf.'\n",
         "hidden": false,
         "locked": false,
         "points": 0
        },
        {
         "code": ">>> __T0 = 90\n>>> __k = 0.01\n>>> __T_inf = 20\n>>> __total_time = 600\n>>> __delta_t = 10\n>>> __analytical_solution = np.array([90.0, 83.33861926, 77.31115272, 71.85727545, 66.92240322, 62.45714618, 58.41681453, 54.76097127, 51.45302749, 48.45987618, 45.75156088, 43.30097586, 41.08359483, 39.07722551, 37.26178748, 35.61911121, 34.13275626, 32.78784668, 31.57092218, 30.46980335, 29.47346983, 28.57194998, 27.75622109, 27.01811906, 26.35025673, 25.7459499, 25.19915048, 24.70438589, 24.25670438, 23.8516254, 23.48509479, 23.15344417, 22.85335428, 22.58182172, 22.3361289, 22.11381684, 21.91266057, 21.73064685, 21.56595403, 21.4169338, 21.28209472, 21.16008728, 21.04969038, 20.94979913, 20.85941379, 20.77762976, 20.7036285, 20.6366694, 20.57608229, 20.52126081, 20.47165629, 20.42677226, 20.38615951, 20.34941157, 20.31616067, 20.286074, 20.25885046, 20.23421758, 20.21192883, 20.19176114, 20.17351265])\n>>> assert np.allclose(__analytical_solution, analytical_solution(__T0, __k, __T_inf, __delta_t, __total_time)[-1], rtol=0.01), 'The analytical solution is wrong.'\n",
         "hidden": false,
         "locked": false,
         "points": 0
        }
       ],
       "scored": true,
       "setup": "",
       "teardown": "",
       "type": "doctest"
      }
     ]
    },
    "q1_4": {
     "name": "q1_4",
     "points": 0,
     "suites": [
      {
       "cases": [
        {
         "code": ">>> __total_time = 600\n>>> __delta_t = 10\n>>> assert np.allclose(times_ivp, np.linspace(0, __total_time, int(__total_time / __delta_t + 1))), 'Time evaluation points of numerical solution are not correct.'\n",
         "hidden": false,
         "locked": false,
         "points": 0
        },
        {
         "code": ">>> __T0 = 90\n>>> assert np.isclose(temperatures_ivp[0], __T0), 'Initial temperature should be equal to T0.'\n",
         "hidden": false,
         "locked": false,
         "points": 0
        },
        {
         "code": ">>> assert np.isclose(temperatures_ivp[1], 83.3382, rtol=0.05), 'First step temperature is incorrect.'\n",
         "hidden": false,
         "locked": false,
         "points": 0
        },
        {
         "code": ">>> assert np.all(np.diff(temperatures_ivp) <= 0), 'Temperature should be decreasing over time.'\n",
         "hidden": false,
         "locked": false,
         "points": 0
        },
        {
         "code": ">>> __solution = np.array([[90.0, 83.33824798, 77.30369793, 71.83092955, 66.88017946, 62.4121622, 58.36489613, 54.69350786, 51.37311334, 48.37882853, 45.67199862, 43.213751, 40.98833129, 38.98014605, 37.17092862, 35.52775863, 34.03701095, 32.68927376, 31.47513522, 30.38061455, 29.38458864, 28.48074625, 27.66375474, 26.92828146, 26.26725595, 25.66519446, 25.11730342, 24.62087829, 24.17321452, 23.77160758, 23.41129113, 23.08161803, 22.78050472, 22.50686701, 22.25962064, 22.03768141, 21.83996509, 21.66369375, 21.50092738, 21.35066188, 21.21274461, 21.0870229, 20.9733441, 20.87155557, 20.78150466, 20.7030387, 20.6350523, 20.57062449, 20.50864644, 20.44941432, 20.39322428, 20.34037249, 20.29115513, 20.24586835, 20.20480831, 20.16827119, 20.13655314, 20.10995034, 20.08875894, 20.07327511, 20.06379502]])\n>>> assert np.allclose(temperatures_ivp, __solution, rtol=0.01), 'Solution of solve_ivp is not correct.'\n",
         "hidden": false,
         "locked": false,
         "points": 0
        },
        {
         "code": ">>> assert len(cooling_plot[1]) == 2, \"'cooling_plot' should have two subplots.\"\n",
         "hidden": false,
         "locked": false,
         "points": 0
        },
        {
         "code": ">>> assert isinstance(cooling_plot, tuple), \"'cooling_plot' is not of the correct type, it should be a Tuple.\"\n>>> assert isinstance(cooling_plot[1], list) or isinstance(cooling_plot[1], np.ndarray), \"'cooling_plot' does not contain a list for the Axis.\"\n>>> assert len(cooling_plot) == 2, \"'cooling_plot' does not have correct number of elements, should be (figure_handle, [list_of_axis]).\"\n>>> assert len(cooling_plot[1][0].get_lines()) == 4, \"'cooling_plot' of numerical solutions vs. analytical solutions does not have correct number of lines, should be 4.\"\n>>> assert len(cooling_plot[1][1].get_lines()) == 3, \"'cooling_plot' of absolute errors does not have correct number of lines, should be 3.\"\n",
         "hidden": false,
         "locked": false,
         "points": 0
        },
        {
         "code": ">>> assert isinstance(cooling_plot[0], matplotlib.figure.Figure), \"'cooling_plot' does not contain a figure object.\"\n>>> assert isinstance(cooling_plot[1][0], matplotlib.axes._axes.Axes), \"'cooling_plot' does not contain axes.\"\n",
         "hidden": false,
         "locked": false,
         "points": 0
        }
       ],
       "scored": true,
       "setup": "",
       "teardown": "",
       "type": "doctest"
      }
     ]
    },
    "q2_1_1": {
     "name": "q2_1_1",
     "points": 0,
     "suites": [
      {
       "cases": [
        {
         "code": ">>> assert len(ode(0, (0, 0))) == 2, 'Output of ODE should be length 2.'\n",
         "hidden": false,
         "locked": false,
         "points": 0
        },
        {
         "code": ">>> assert np.allclose(ode(10, (1, 2)), [-4.54745137, 1.0]) or np.allclose(ode(10, (2, 1)), [1, -4.54745137]), 'ode tested at random point, function is not correct.'\n",
         "hidden": false,
         "locked": false,
         "points": 0
        }
       ],
       "scored": true,
       "setup": "",
       "teardown": "",
       "type": "doctest"
      }
     ]
    },
    "q2_1_2": {
     "name": "q2_1_2",
     "points": 0,
     "suites": [
      {
       "cases": [
        {
         "code": ">>> def __ode(t, T):\n...     k = 0.1\n...     alpha = 0.0015\n...     beta = 5\n...     T_inf = 20\n...     dTdt = -k * (T - T_inf) + alpha * T ** 2 - beta\n...     return dTdt\n>>> __T0 = np.array([90])\n>>> __t = np.linspace(0, 5, 51)\n>>> assert type(heun(__ode, __T0, __t)) == np.ndarray, 'heun should return a numpy array.'\n",
         "hidden": false,
         "locked": false,
         "points": 0
        },
        {
         "code": ">>> def __ode(t, T):\n...     k = 0.1\n...     alpha = 0.0015\n...     beta = 5\n...     T_inf = 20\n...     dTdt = -k * (T - T_inf) + alpha * T ** 2 - beta\n...     return dTdt\n>>> __T0 = np.array([90])\n>>> __t = np.linspace(0, 5, 51)\n>>> __y = np.zeros([len(__T0), len(__t)])\n>>> assert __y.shape == heun(__ode, __T0, __t).shape, 'Shape of heun output incorrect.'\n",
         "hidden": false,
         "locked": false,
         "points": 0
        },
        {
         "code": ">>> def __ode(t, T):\n...     k = 0.1\n...     alpha = 0.0015\n...     beta = 5\n...     T_inf = 20\n...     dTdt = -k * (T - T_inf) + alpha * T ** 2 - beta\n...     return dTdt\n>>> __heun = np.array([[90.0, 90.07818961, 90.16331775, 90.25601196, 90.35695867, 90.46690919, 90.5866863, 90.71719159, 90.8594137, 91.01443755, 91.18345461]])\n>>> __T0 = np.array([90])\n>>> __t = np.linspace(0, 5, 11)\n>>> assert np.allclose(heun(__ode, __T0, __t), __heun, rtol=0.05), 'heun is likely incorrect.'\n",
         "hidden": false,
         "locked": false,
         "points": 0
        }
       ],
       "scored": true,
       "setup": "",
       "teardown": "",
       "type": "doctest"
      }
     ]
    },
    "q2_1_3": {
     "name": "q2_1_3",
     "points": 0,
     "suites": [
      {
       "cases": [
        {
         "code": ">>> def __ode(t, T):\n...     k = 0.1\n...     alpha = 0.0015\n...     beta = 5\n...     T_inf = 20\n...     dTdt = -k * (T - T_inf) + alpha * T ** 2 - beta\n...     return dTdt\n>>> __T0 = np.array([90])\n>>> __t = np.linspace(0, 5, 51)\n>>> assert type(forward_euler(__ode, __T0, __t)) == np.ndarray, 'forward_euler should return a numpy array.'\n",
         "hidden": false,
         "locked": false,
         "points": 0
        },
        {
         "code": ">>> def __ode(t, T):\n...     k = 0.1\n...     alpha = 0.0015\n...     beta = 5\n...     T_inf = 20\n...     dTdt = -k * (T - T_inf) + alpha * T ** 2 - beta\n...     return dTdt\n>>> __T0 = np.array([90])\n>>> __t = np.linspace(0, 5, 51)\n>>> __y = np.zeros([len(__T0), len(__t)])\n>>> assert __y.shape == forward_euler(__ode, __T0, __t).shape, 'Shape of forward_euler output incorrect.'\n",
         "hidden": false,
         "locked": false,
         "points": 0
        },
        {
         "code": ">>> def __ode(t, T):\n...     k = 0.1\n...     alpha = 0.0015\n...     beta = 5\n...     T_inf = 20\n...     dTdt = -k * (T - T_inf) + alpha * T ** 2 - beta\n...     return dTdt\n>>> __T0 = np.array([90])\n>>> __t = np.linspace(0, 5, 11)\n>>> __forward_euler = np.array([[90.0, 90.075, 90.15637922, 90.24468979, 90.34053333, 90.44456564, 90.55750194, 90.68012272, 90.81328007, 90.95790495, 91.11501505]])\n>>> assert np.allclose(forward_euler(__ode, __T0, __t), __forward_euler, rtol=0.05), 'forward_euler is likely incorrect.'\n",
         "hidden": false,
         "locked": false,
         "points": 0
        }
       ],
       "scored": true,
       "setup": "",
       "teardown": "",
       "type": "doctest"
      }
     ]
    },
    "q2_1_4": {
     "name": "q2_1_4",
     "points": 0,
     "suites": [
      {
       "cases": [
        {
         "code": ">>> def __ode(t, T):\n...     k = 0.1\n...     alpha = 0.0015\n...     beta = 5\n...     T_inf = 20\n...     dTdt = -k * (T - T_inf) + alpha * T ** 2 - beta\n...     return dTdt\n>>> __T0 = np.array([90])\n>>> __t = np.linspace(0, 5, 51)\n>>> assert type(backward_euler(__ode, __T0, __t)) == np.ndarray, 'backward_euler should return a numpy array.'\n",
         "hidden": false,
         "locked": false,
         "points": 0
        },
        {
         "code": ">>> def __ode(t, T):\n...     k = 0.1\n...     alpha = 0.0015\n...     beta = 5\n...     T_inf = 20\n...     dTdt = -k * (T - T_inf) + alpha * T ** 2 - beta\n...     return dTdt\n>>> __T0 = np.array([90])\n>>> __t = np.linspace(0, 5, 51)\n>>> __y = np.zeros([len(__T0), len(__t)])\n>>> assert __y.shape == backward_euler(__ode, __T0, __t).shape, 'Shape of backward_euler output incorrect.'\n",
         "hidden": false,
         "locked": false,
         "points": 0
        },
        {
         "code": ">>> def __ode(t, T):\n...     k = 0.1\n...     alpha = 0.0015\n...     beta = 5\n...     T_inf = 20\n...     dTdt = -k * (T - T_inf) + alpha * T ** 2 - beta\n...     return dTdt\n>>> __T0 = np.array([90])\n>>> __t = np.linspace(0, 5, 11)\n>>> __backward_euler_fixed_point = np.array([[90.0, 90.08197235, 90.17157821, 90.26954349, 90.37666607, 90.49382346, 90.62198149, 90.76220393, 90.91566348, 91.08365406, 91.26760475]])\n>>> assert np.allclose(__backward_euler_fixed_point, backward_euler(__ode, __T0, __t), rtol=0.05), 'backward_euler is likely incorrect.'\n",
         "hidden": false,
         "locked": false,
         "points": 0
        }
       ],
       "scored": true,
       "setup": "",
       "teardown": "",
       "type": "doctest"
      }
     ]
    }
   }
  }
 },
 "nbformat": 4,
 "nbformat_minor": 5
}
