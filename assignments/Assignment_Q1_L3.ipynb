{
 "cells": [
  {
   "cell_type": "markdown",
   "id": "5b607a17",
   "metadata": {
    "cell_marker": "\"\"\"",
    "deletable": false,
    "editable": false,
    "nbgrader": {
     "grade": false,
     "locked": true,
     "solution": false
    }
   },
   "source": [
    "# CP 2025-2026: Lecture 3 - Solving linear and nonlinear systems of equation"
   ]
  },
  {
   "cell_type": "markdown",
   "id": "f3203e3d",
   "metadata": {},
   "source": [
    "### General Guidelines\n",
    "\n",
    "> ⚠️⚠️⚠️ READ CAREFULLY ⚠️⚠️⚠️\n",
    "\n",
    "- Do not add, delete or create cells, write the answer only in the space marked with the three dots (`...`). Where function skeletons are provided, it is assumed that that function can be called again with different inputs somewhere else. So be careful to write code outside of functions.\n",
    "  - Function should be ['pure'](https://en.wikipedia.org/wiki/Pure_function), thus no side effects, unless otherwise specified.\n",
    "- Run the the first cell to import all libraries when opening the notebook before running your own code.\n",
    "- Read carefully what is required to be printed/returned/plotted in the answer. Please do not output what is not asked for. \n",
    "  - If you used the print function for debugging, comment it out ( Ctlr + / ) before submitting\n",
    "- All plots should have title, xlabel, ylabel, and legend (if there are more than one curve on the plot)\n",
    "- Use the `help()` function, consult python documentation when using new functions, or do a web search and consult [stackoverflow](https://stackoverflow.com/questions/tagged/python)\n",
    "- Please read the error messages if you get any, and try to understand what they mean. Debugging code is an essential skill to develop.\n",
    "- You can use `%debug` to start an IPython console in a cell (or a scratchpad cell!) after an exception has occurred to try to debug.\n",
    "- You can use `%pdb` to toggle the Python DeBugger (pdb) auto start after an unhandled exception.\n",
    "- In the assignments you will find some tests put in place, to help you verify your solution. If these fail you are certain you did something wrong, thus look at the hints they provide. But passing these tests does __not__ mean your solution is actually correct.\n",
    "\n",
    "Make sure you use `python3.12` and the package versions as stated in the provided `requirements.txt`. This file should also be on the course page."
   ]
  },
  {
   "cell_type": "code",
   "execution_count": 282,
   "id": "8f844cb7",
   "metadata": {
    "nbgrader": {
     "grade": false,
     "locked": true,
     "solution": false
    }
   },
   "outputs": [
    {
     "name": "stdout",
     "output_type": "stream",
     "text": [
      "Python version 3.12.10 (v3.12.10:0cc81280367, Apr  8 2025, 08:46:59) [Clang 13.0.0 (clang-1300.0.29.30)]\n",
      "Successfully imported numpy           \tVersion:      2.3.2\n",
      "Successfully imported scipy           \tVersion:     1.16.1\n",
      "Successfully imported matplotlib      \tVersion:     3.10.5\n",
      "Finished importing packages\n"
     ]
    }
   ],
   "source": [
    "# Importing relevant libraries in the assignment\n",
    "\n",
    "# This will create static plots (no zooming etc.)\n",
    "# otherwise try just plain `%matplotlib`, or install a backend such as ipympl or PyQt5 and\n",
    "# do or `%matplotlib ipympl` `%matplotlib qt`\n",
    "%matplotlib inline\n",
    "\n",
    "REPEAT_IMPORTS = True\n",
    "\n",
    "if REPEAT_IMPORTS or (\"IMPORTED_ALL\" not in globals()):  # To save you a bit of time\n",
    "\n",
    "    def print_import_info(package):\n",
    "        print(\n",
    "            \"Successfully imported %-15s \\tVersion: %10s\"\n",
    "            % (package.__name__, package.__version__)\n",
    "        )\n",
    "\n",
    "    ### Standard library imports\n",
    "\n",
    "    import sys\n",
    "\n",
    "    print(\"Python version {}\".format(sys.version))\n",
    "    if sys.version_info < (3, 12):\n",
    "        print(\n",
    "            \"\\u001b[31m\"  # red\n",
    "            \"\\u001b[1m\"  # bold\n",
    "            \"WARNING: Use Python 3.12 or newer not to encounter any errors or \"\n",
    "            \"problems later on.\\n\"\n",
    "            \"You can chance the the version. \"\n",
    "            \"This sometime can be done by switching the kernel under the 'Kernel' tab.\"\n",
    "            \"\\u001b[0m\"  # reset\n",
    "        )\n",
    "    del sys  # Do not need it anymore\n",
    "\n",
    "    from typing import Callable\n",
    "\n",
    "    ### Import third party libraries\n",
    "    # Initialize self assessment helper\n",
    "    import otter\n",
    "\n",
    "    grader = otter.Notebook(\"Assignment_Q1_L3.ipynb\")\n",
    "\n",
    "    import numpy as np\n",
    "    import numpy.typing as npt\n",
    "\n",
    "    print_import_info(np)\n",
    "    import scipy\n",
    "\n",
    "    print_import_info(scipy)\n",
    "    import matplotlib\n",
    "    import matplotlib.pyplot as plt\n",
    "\n",
    "    print_import_info(matplotlib)\n",
    "\n",
    "    IMPORTED_ALL = True\n",
    "    print(\"Finished importing packages\")\n",
    "else:\n",
    "    print(\"Already imported all packages\")"
   ]
  },
  {
   "cell_type": "markdown",
   "id": "e4fdadd0",
   "metadata": {},
   "source": [
    "### Part 1: Algebra recap\n",
    "This first part of this assignment is related to the algebra recap of the corresponding lecture. "
   ]
  },
  {
   "cell_type": "markdown",
   "id": "d8402df2",
   "metadata": {},
   "source": [
    "#### Question 1: Defining vectors and matrices\n",
    "In this task, you will practice to define vectors and matrices of various shapes and dimensions. For additional information, check out the corresponding numpy commands in the numpy package documentation! It is recommended to use the _[`np.shape()`](https://numpy.org/doc/stable/reference/generated/numpy.shape.html)_ command or  _[`ndarray.shape`](https://numpy.org/doc/stable/reference/generated/numpy.ndarray.shape.html#numpy.ndarray.shape)_ to check whether the dimensions of your numpy arrays are correct.\n",
    "\n",
    "Tasks:\n",
    "- Create a 1D numpy array `array_1d` with the entries  $\\begin{pmatrix}\n",
    "  3\\\\ \n",
    "  5\\\\\n",
    "  6\\\\\n",
    "  7\n",
    "\\end{pmatrix}$.\n",
    "- Reformulate the above vector into a 2D numpy array `array_2d`. Hint: the shape should be $(4,1)$ instead of $(4,)$.\n",
    "- Create a 2D $(2,2)$ numpy array `matrix_2d` with the entries  $\\begin{pmatrix}\n",
    "  3 & 4\\\\ \n",
    "  9 & 8\n",
    "\\end{pmatrix}$\n",
    "- Create a 1D vector `custom_vector` with the values $\\begin{pmatrix}\n",
    "  2\\\\ \n",
    "  4\\\\\n",
    "  6\\\\\n",
    "  8\\\\\n",
    "  10\n",
    "\\end{pmatrix}$ using _[`np.arange()`](https://numpy.org/doc/stable/reference/generated/numpy.arange.html)_.\n",
    "- Create a 5x5 matrix `random_int_matrix` with random integers in the interval $[1,10)$ using _[`np.random.randint()`](https://numpy.org/doc/stable/reference/random/generated/numpy.random.randint.html)_.\n",
    "- Create a 2x2 matrix `normal_matrix` with random values drawn from a normal (Gaussian) distribution using _[`np.random.randn()`](https://numpy.org/doc/stable/reference/random/generated/numpy.random.randn.html)_."
   ]
  },
  {
   "cell_type": "code",
   "execution_count": 283,
   "id": "8b6fc5b5",
   "metadata": {
    "tags": [
     "otter_answer_cell"
    ]
   },
   "outputs": [],
   "source": [
    "array_1d = np.array([3,5,6,7])\n",
    "array_2d = np.array(([3],[5],[6],[7]))\n",
    "matrix_2d = np.array(([3,4],[9,8]))\n",
    "custom_vector = np.arange(2,12,2) \n",
    "random_int_matrix = np.random.randint(1,10,[5,5])\n",
    "normal_matrix = np.random.randn(2,2)"
   ]
  },
  {
   "cell_type": "code",
   "execution_count": 284,
   "id": "3897d96f",
   "metadata": {
    "deletable": false,
    "editable": false
   },
   "outputs": [
    {
     "data": {
      "text/html": [
       "<p><strong><pre style='display: inline;'>q1.1</pre></strong> passed! 🚀</p>"
      ],
      "text/plain": [
       "q1.1 results: All test cases passed!"
      ]
     },
     "execution_count": 284,
     "metadata": {},
     "output_type": "execute_result"
    }
   ],
   "source": [
    "grader.check(\"q1.1\")"
   ]
  },
  {
   "cell_type": "markdown",
   "id": "f8904f67",
   "metadata": {},
   "source": [
    "#### Question 2: Special numpy commands\n",
    "- Create a 4x4 numpy array `full_matrix` filled with the value 7 using _[`np.full()`](https://numpy.org/doc/stable/reference/generated/numpy.full.html)_.\n",
    "- Create a 1D numpy array `zero_vector` of zeros with length 5 using _[`np.zeros()`](https://numpy.org/doc/stable/reference/generated/numpy.zeros.html)_.\n",
    "- Create a 1D numpy array `ones_vector` of ones with length 10 using _[`np.ones()`](https://numpy.org/doc/stable/reference/generated/numpy.ones.html)_.\n",
    "- Generate a 4x4 identity matrix `identity_matrix` using _[`np.eye()`](https://numpy.org/doc/stable/reference/generated/numpy.eye.html)_.\n",
    "- Create a diagonal matrix `diagonal_matrix` with the values [1, 2, 3, 4] on the diagonal using _[`np.diag()`](https://numpy.org/doc/stable/reference/generated/numpy.diag.html)_.\n",
    "- Create a random 5x5 matrix `random_matrix_5x5`. The matrix should contain random *integer* values in the interval $[1,10)$. Please, check the function [`np.random.randint()`](https://numpy.org/devdocs/reference/random/generated/numpy.random.randint.html)\n",
    "- Extract the upper triangular part `upper_tri` (**excluding the diagonal**) of the random matrix `random_matrix_5x5` using _[`np.triu()`](https://numpy.org/doc/stable/reference/generated/numpy.triu.html)_.\n",
    "- Create the lower triangular matrix `lower_tri` (**excluding the diagonal**) of the random matrix `random_matrix_5x5` as well using _[`np.tril()`](https://numpy.org/doc/stable/reference/generated/numpy.tril.html)_.\n",
    "\n",
    "    **IMPORTANT**: Check out the documentation of `np.tril()` on how to use the second argument: how does it help you select the correct diagonal offset when extracting the lower (and upper) triangular part of the matrix?\n"
   ]
  },
  {
   "cell_type": "code",
   "execution_count": 285,
   "id": "508fcb28",
   "metadata": {
    "tags": [
     "otter_answer_cell"
    ]
   },
   "outputs": [
    {
     "name": "stdout",
     "output_type": "stream",
     "text": [
      "[[0 8 8 1 7]\n",
      " [0 0 3 4 7]\n",
      " [0 0 0 5 5]\n",
      " [0 0 0 0 3]\n",
      " [0 0 0 0 0]]\n"
     ]
    }
   ],
   "source": [
    "full_matrix = np.full((4,4),7)\n",
    "zero_vector = np.zeros(5)\n",
    "ones_vector = np.ones(10)\n",
    "identity_matrix = np.eye(4,4)\n",
    "diagonal_matrix = np.diag([1,2,3,4])\n",
    "\n",
    "random_matrix_5x5 = np.random.randint(1,10,[5,5])\n",
    "upper_tri = np.triu(random_matrix_5x5,k =1)\n",
    "print(upper_tri)\n",
    "lower_tri = np.tril(random_matrix_5x5,k =-1)"
   ]
  },
  {
   "cell_type": "code",
   "execution_count": 286,
   "id": "f2c9eba5",
   "metadata": {
    "deletable": false,
    "editable": false
   },
   "outputs": [
    {
     "data": {
      "text/html": [
       "<p><strong><pre style='display: inline;'>q1.2</pre></strong> passed! 💯</p>"
      ],
      "text/plain": [
       "q1.2 results: All test cases passed!"
      ]
     },
     "execution_count": 286,
     "metadata": {},
     "output_type": "execute_result"
    }
   ],
   "source": [
    "grader.check(\"q1.2\")"
   ]
  },
  {
   "cell_type": "markdown",
   "id": "4709be84",
   "metadata": {},
   "source": [
    "#### Question 3: Vector and matrix norms\n",
    "\n",
    "Compute the following vector and matrix norms by using _[`np.linalg`](https://numpy.org/doc/stable/reference/routines.linalg.html)_ commands. Please, check specifically the norm functions [`np.linalg.norm`](https://numpy.org/doc/stable/reference/generated/numpy.linalg.norm.html).\n",
    "\n",
    "Vector norms:\n",
    "- Compute the Euclidean Norm (L2 Norm) `l2_norm` of the given vector `vec`.\n",
    "- Compute the L1 Norm `l1_norm` of the given vector `vec`.\n",
    "- Compute the Infinity Norm (Max Norm) `inf_norm` of the given vector `vec`.\n",
    "\n",
    "Matrix norms:\n",
    "- Compute the Frobenius Norm `frobenius_norm` of the given matrix `mat_C`.\n",
    "- Compute the L1 Norm `l1_matrix_norm` of the given matrix `mat_C`.\n",
    "- Compute the Infinity Norm `inf_matrix_norm` of the given matrix `mat_C`.\n",
    "- Compute the spectral norm `spectral_norm` of the given matrix `mat_C`."
   ]
  },
  {
   "cell_type": "code",
   "execution_count": 287,
   "id": "a3c61829",
   "metadata": {
    "tags": [
     "otter_answer_cell"
    ]
   },
   "outputs": [
    {
     "name": "stdout",
     "output_type": "stream",
     "text": [
      "7.0710678118654755\n",
      "12.0\n",
      "5.0\n"
     ]
    }
   ],
   "source": [
    "vec = np.array([3, 4, 5])\n",
    "\n",
    "l2_norm = np.linalg.norm(vec)\n",
    "print(l2_norm)\n",
    "l1_norm = np.linalg.norm(vec,1)\n",
    "print(l1_norm)\n",
    "inf_norm = np.linalg.norm(vec,np.inf)\n",
    "print(inf_norm)\n",
    "\n",
    "mat_C = np.array([[1, 2, 3], [4, 5, 6], [7, 8, 9]])\n",
    "\n",
    "frobenius_norm = np.linalg.norm(mat_C, 'fro')\n",
    "l1_matrix_norm = np.linalg.norm(mat_C,1)\n",
    "inf_matrix_norm = np.linalg.norm(mat_C,np.inf)\n",
    "spectral_norm_np = np.linalg.norm(mat_C, 2)"
   ]
  },
  {
   "cell_type": "code",
   "execution_count": 288,
   "id": "7c9d2f0f",
   "metadata": {
    "deletable": false,
    "editable": false
   },
   "outputs": [
    {
     "data": {
      "text/html": [
       "<p><strong><pre style='display: inline;'>q1.3</pre></strong> passed! 🌈</p>"
      ],
      "text/plain": [
       "q1.3 results: All test cases passed!"
      ]
     },
     "execution_count": 288,
     "metadata": {},
     "output_type": "execute_result"
    }
   ],
   "source": [
    "grader.check(\"q1.3\")"
   ]
  },
  {
   "cell_type": "markdown",
   "id": "863c2ef8",
   "metadata": {},
   "source": [
    "#### Question 4: Matrix operations\n",
    "Given two 3x3 matrices `matrix_1`$(M_1)$ and `matrix_2` $(M_2)$:\n",
    "- compute the product of their transpose, i.e., $M_1^T \\cdot M_2^T$, \n",
    "- invert the result, i.e., $(M_1^T \\cdot M_2^T)^{-1}$, \n",
    "- find the dot product of `matrix_1`$(M_1)$ with `vector_a` $(v)$, i.e., $M_1\\cdot v$."
   ]
  },
  {
   "cell_type": "code",
   "execution_count": 289,
   "id": "bef8f578",
   "metadata": {
    "tags": [
     "otter_answer_cell"
    ]
   },
   "outputs": [],
   "source": [
    "# Define two 3x3 matrices\n",
    "matrix_1 = np.array([[1, 2, 3], [4, 5, 6], [7, 8, 9]])\n",
    "matrix_2 = np.array([[9, 8, 7], [6, 5, 4], [3, 2, 1]])\n",
    "\n",
    "# Compute the transpose of both matrices\n",
    "matrix_1_T = np.transpose(matrix_1)\n",
    "matrix_2_T = np.transpose(matrix_2)\n",
    "\n",
    "# Multiply the transposes\n",
    "matrix_mul_T = np.dot(matrix_1_T,matrix_2_T)\n",
    "\n",
    "# Attempt inversion\n",
    "matrix_inv = np.linalg.inv(matrix_mul_T)\n",
    "\n",
    "# Define a vector\n",
    "vector_a = np.array([1, 2, 3])\n",
    "\n",
    "# Compute the dot product of the matrix_1 with the vector_a\n",
    "dot_with_vector = np.dot(matrix_1,vector_a)"
   ]
  },
  {
   "cell_type": "code",
   "execution_count": 290,
   "id": "39ccd420",
   "metadata": {
    "deletable": false,
    "editable": false
   },
   "outputs": [
    {
     "data": {
      "text/html": [
       "<p><strong><pre style='display: inline;'>q1.4</pre></strong> passed! 🚀</p>"
      ],
      "text/plain": [
       "q1.4 results: All test cases passed!"
      ]
     },
     "execution_count": 290,
     "metadata": {},
     "output_type": "execute_result"
    }
   ],
   "source": [
    "grader.check(\"q1.4\")"
   ]
  },
  {
   "cell_type": "markdown",
   "id": "c626c1e4",
   "metadata": {},
   "source": [
    "#### Question 5: Matrix properties\n",
    "For this part, refer to the _[`np.linalg`](https://numpy.org/doc/stable/reference/routines.linalg.html)_ commands.\n",
    "- Compute Eigenvalues and Eigenvectors of a 3x3 matrix `mat_A`.\n",
    "- Find the rank `rank_B` and the determinant `det_B` of matrix `mat_B`.\n",
    "- Determin whether `v3` and `v4` are linearly independent. HINT: Stack the arrays into the `np.ndarray` `stack` and determining the rank `rank_M` of `stack`. Which is the value the rank `rank_M` needs to be for `v3` and `v4` to be linearly independent? Assign this value to the variable `rank_criterion`."
   ]
  },
  {
   "cell_type": "code",
   "execution_count": 291,
   "id": "4a9a0dde",
   "metadata": {
    "tags": [
     "otter_answer_cell"
    ]
   },
   "outputs": [],
   "source": [
    "mat_A = np.array([[0, 1, 0], [0, 0, 1], [-6, -11, -6]])\n",
    "\n",
    "# Compute eigenvalues and eigenvectors of mat_A\n",
    "eigenvalues, eigenvectors = np.linalg.eig(mat_A)\n",
    "\n",
    "mat_B = np.array([[1, 2, 3], [2, 4, 6], [3, 6, 9]])\n",
    "\n",
    "# Compute the rank rank_B and determinant det_B of mat_B\n",
    "rank_B = np.linalg.matrix_rank(mat_B)\n",
    "det_B = np.linalg.det(mat_B)\n",
    "\n",
    "v3 = np.array([1, 0, -1, 2])\n",
    "v4 = np.array([2, 1, 0, 3])\n",
    "\n",
    "# Stack vectors in a matrix\n",
    "stack = np.stack((v3,v4))\n",
    "\n",
    "# Compute the rank of the matrix\n",
    "rank_M = np.linalg.matrix_rank(stack)\n",
    "\n",
    "linearly_independent: bool\n",
    "rank_criterion = 2\n",
    "\n",
    "if rank_M >= rank_criterion:\n",
    "    linearly_independent = True\n",
    "else:\n",
    "    linearly_independent = False"
   ]
  },
  {
   "cell_type": "code",
   "execution_count": 292,
   "id": "55d50546",
   "metadata": {
    "deletable": false,
    "editable": false
   },
   "outputs": [
    {
     "data": {
      "text/html": [
       "<p><strong><pre style='display: inline;'>q1.5</pre></strong> passed! 💯</p>"
      ],
      "text/plain": [
       "q1.5 results: All test cases passed!"
      ]
     },
     "execution_count": 292,
     "metadata": {},
     "output_type": "execute_result"
    }
   ],
   "source": [
    "grader.check(\"q1.5\")"
   ]
  },
  {
   "attachments": {
    "SeqCol.jpg": {
     "image/jpeg": "[encoded data removed]"
    }
   },
   "cell_type": "markdown",
   "id": "71a8183a",
   "metadata": {
    "cell_marker": "r\"\"\"",
    "deletable": false,
    "nbgrader": {
     "grade": false,
     "locked": true,
     "solution": false
    }
   },
   "source": [
    "### Part 2: Solving a linear system of equations applied to a series of distillation columns\n",
    "\n",
    "Consider the following schematic of a 3-stage distillation column. A mixture of four components enters the distillation column with known fraction. The fractions of the four components on the outflowing streams are also know, but not the total values of the mass flows $\\mathrm{M}_2$, $\\mathrm{M}_4$, $\\mathrm{M}_6$ and $\\mathrm{M}_7$.\n",
    "In order to solve for the unknown mass flows, a linear system can be written as\n",
    "\\begin{equation}\n",
    "\\tag{Eq. 1}\n",
    "\\mathbf{A}\\vec{x} = \\vec{b}\n",
    "\\end{equation}\n",
    "Where $\\vec{x}$ is the unknown vector containing $\\mathrm{M}_2$, $\\mathrm{M}_4$, $\\mathrm{M}_6$ and $\\mathrm{M}_7$.\n",
    "\n",
    "![attachment](attachment:SeqCol.jpg)"
   ]
  },
  {
   "cell_type": "markdown",
   "id": "8570df70",
   "metadata": {
    "cell_marker": "r\"\"\"",
    "deletable": false,
    "editable": false,
    "nbgrader": {
     "grade": false,
     "locked": true,
     "solution": false
    }
   },
   "source": [
    "#### Question 2.1\n",
    "\n",
    "Set up a system of linear equations in a matrix form $\\mathbf{A}\\vec{x} = \\vec{b}$ that can be solved to obtain the steady-state values of the flows $\\mathrm{M}_2$, $\\mathrm{M}_4$, $\\mathrm{M}_6$ and $\\mathrm{M}_7$.\n",
    "\n",
    "Define the matrix `A` and the vector `b`. Matrix `A` should be a 2D `numpy.ndarray` and `b` should be a 1D `numpy.ndarray`.\n",
    "\n",
    "**HINT** We will later use the Gauss-Seidel method to solve this system of linear equations. Check the lecture slides to help you define `A` and `b`. What property should `A` have to support convergence of the Gauss-Seidel method?"
   ]
  },
  {
   "cell_type": "code",
   "execution_count": 293,
   "id": "5a0017d9",
   "metadata": {
    "tags": [
     "otter_answer_cell"
    ]
   },
   "outputs": [
    {
     "name": "stdout",
     "output_type": "stream",
     "text": [
      "matrix of A: [[0.9  0.05 0.02 0.03]\n",
      " [0.15 0.7  0.05 0.1 ]\n",
      " [0.08 0.05 0.8  0.07]\n",
      " [0.05 0.03 0.02 0.9 ]]\n",
      "vector b : [3.  1.5 3.5 2. ]\n"
     ]
    }
   ],
   "source": [
    "# A = np.array(([0.08,0.05,0.8,0.07], [0.05,0.03,0.02,0.9], [0.15,0.7,0.05,0.1],[0.9,0.05,0.02,0.03]))\n",
    "A = np.array(([0.9,0.05,0.02,0.03],\n",
    "              [0.15,0.7,0.05,0.1],\n",
    "              [0.08,0.05,0.8,0.07],\n",
    "              [0.05,0.03,0.02,0.9]))\n",
    "\n",
    "b = 10*np.array([0.3,0.15,0.35,0.2])\n",
    "\n",
    "\n",
    "\n",
    "# b = 10*np.array([0.35,0.2,0.15,0.3])\n",
    "\n",
    "print(f\"matrix of A: {A}\")\n",
    "print(f'vector b : {b}')"
   ]
  },
  {
   "cell_type": "code",
   "execution_count": 294,
   "id": "8520be39",
   "metadata": {
    "deletable": false,
    "editable": false
   },
   "outputs": [
    {
     "data": {
      "text/html": [
       "<p><strong><pre style='display: inline;'>q2.1</pre></strong> passed! 🌟</p>"
      ],
      "text/plain": [
       "q2.1 results: All test cases passed!"
      ]
     },
     "execution_count": 294,
     "metadata": {},
     "output_type": "execute_result"
    }
   ],
   "source": [
    "grader.check(\"q2.1\")"
   ]
  },
  {
   "cell_type": "markdown",
   "id": "84e133c1",
   "metadata": {},
   "source": [
    "#### Question 2.2\n",
    "\n",
    "The **fixed point iteration** method can be exploited to solve linear systems in the following form:\n",
    "\\begin{equation}\n",
    "\\tag{Eq. 2}\n",
    "\\vec{x}_{i+1} = \\mathbf{C}\\vec{x}_{i} + \\vec{g}\n",
    "\\end{equation}\n",
    "Depending on the specific algorithm (Jacobi, Gauss-Seidel, etc.) the way matrix $\\mathbf{C}$ and vector $\\vec{g}$ are defined is different. However, the iterative solution will follow equation $2$ for all algorithms. For this reason, write a `fixed_point_iteration` function that takes as input the following arguments:\n",
    "- a matrix `C`\n",
    "- a vector `g`\n",
    "- a first-guess solution `x0`\n",
    "- a maximum number of iteration `max_iter`\n",
    "- a absolute error tolerance `eps`\n",
    "\n",
    "The function should be able to iteratively approach the solution using fixed point iterations (equation $2$) until one of these two conditions is met: \n",
    "1. The approximated absolute error is smaller than a given value $\\left(\\varepsilon = 1 \\cdot 10^{-9}\\right)$\n",
    "2. The code has run for a given maximum number of iterations $\\left(N = 100\\right)$\n",
    "\n",
    "The estimate absolute error $\\varepsilon$ at the `i-th` iteration is defined as\n",
    "\\begin{equation}\n",
    "\\tag{Eq. 3}\n",
    "\\varepsilon = \\| \\vec{x}_{i}-\\vec{x}_{i-1} \\|\n",
    "\\end{equation}\n",
    "The function should then return the solution vector `x` in case either condition for termination is met (error below tolerance or exceeding maximum number of iterations). You can print out the number of iterations used to converge (this feature will be useful to compare the efficiency of different algorithms). However, make sure to comment out the print statement when you apply the test for this task."
   ]
  },
  {
   "cell_type": "code",
   "execution_count": 295,
   "id": "b4d33db7",
   "metadata": {
    "tags": [
     "otter_answer_cell"
    ]
   },
   "outputs": [],
   "source": [
    "def fixed_point_iteration(\n",
    "    C: npt.NDArray,\n",
    "    g: npt.NDArray,\n",
    "    x0: npt.NDArray,\n",
    "    max_iter: int = 100,\n",
    "    eps: float = 1e-9,\n",
    ") -> npt.NDArray:\n",
    "    \"\"\"Method to solve linear systems via fixed point iteration method.\n",
    "\n",
    "    Args:\n",
    "        C (npt.NDArray): Matrix C\n",
    "        g (npt.NDArray): Vector g\n",
    "        x0 (npt.NDArray): Initial guess\n",
    "        max_iter (int): Maximum number of iterations. Defaults to 100.\n",
    "        eps (float): Absolute error tolerance. Defaults to 1e-9.\n",
    "\n",
    "    Returns:\n",
    "        x (npt.NDArray): Solution vector x\n",
    "    \"\"\"\n",
    "    \n",
    "    # x = x0.copy()\n",
    "    # for i in range(1,max_iter+1):\n",
    "    #     x_old = x \n",
    "    #     x = np.dot(C,x) + g\n",
    "    #     error = np.linalg.norm(x-x_old)\n",
    "    #     if error < eps:\n",
    "    #         return x\n",
    "        \n",
    "    # return x\n",
    "    \n",
    "    x = x0.copy()\n",
    "    for i in range(max_iter):\n",
    "        x_new = np.dot(C,x) +g\n",
    "        if np.linalg.norm(x_new-x) <eps:\n",
    "            return x_new\n",
    "        x = x_new\n",
    "\n",
    "            \n",
    "\n",
    "    return x"
   ]
  },
  {
   "cell_type": "code",
   "execution_count": 296,
   "id": "58e0c435",
   "metadata": {
    "deletable": false,
    "editable": false
   },
   "outputs": [
    {
     "data": {
      "text/html": [
       "<p><strong><pre style='display: inline;'>q2.2</pre></strong> passed! ✨</p>"
      ],
      "text/plain": [
       "q2.2 results: All test cases passed!"
      ]
     },
     "execution_count": 296,
     "metadata": {},
     "output_type": "execute_result"
    }
   ],
   "source": [
    "grader.check(\"q2.2\")"
   ]
  },
  {
   "cell_type": "markdown",
   "id": "f3f71240",
   "metadata": {
    "cell_marker": "r\"\"\"",
    "deletable": false,
    "editable": false,
    "nbgrader": {
     "grade": false,
     "locked": true,
     "solution": false
    }
   },
   "source": [
    "#### Question 2.3\n",
    "\n",
    "Write a function `gauss_seidel` that is able to solve the system of equations (Eq. $1$) derived in Question 2.1 using the Gauss-Seidel algorithm as introduced in the lecture:\n",
    "\n",
    "$x^{(k+1)}=(D+L)^{-1}b-(D+L)^{-1}Ux^{(k)}$\n",
    "\n",
    "$D, L$, and $U$ are the diagonal, lower triangular, and upper triangular matrices associated with the matrix `A`, respectively. \n",
    "\n",
    "\n",
    "The `gauss_seidel` function should take the following arguments as input:\n",
    "- a matrix `A`\n",
    "- a vector `b`\n",
    "- a first-guess solution `x0`\n",
    "- a maximum number of iteration `max_iter`\n",
    "- a absolute error tolerance `eps`\n",
    "\n",
    "Use the function `fixed_point_iteration` you defined above inside your `gauss_seidel` method to solve the fixed point system arising in the Gauss-Seidel method.\n",
    "\n",
    "HINT: Find suitable definitions for the inputs `C` and `g` to the `fixed_point_iteration` function, based on the system of equation $\\mathbf{A}\\vec{x} = \\vec{b}$, according to the Gauss-Seidel method.\n",
    "\n",
    "Check your results by comparing your solutions vector `x` with the vector `y` obtained when calling _[`numpy.linalg.solve()`](https://numpy.org/doc/stable/reference/generated/numpy.linalg.solve.html)_ to solve the linear system (equation $1$).\n",
    "\n",
    "Print the norm of the difference vector `x-y`. The quantity $\\| \\vec{x} - \\vec{y}\\|$ measures the distance of the approximate solution `x` from the analytical solution `y`. Note how the value of this norm compare to the absolute error imposed to your functions $\\left(\\varepsilon = 1 \\cdot 10^{-9}\\right)$\n",
    "\n",
    "HINT: The convergence of Gauss-Seidel method is influenced by the ordering of the equation (please, refer to slides Q1-Lecture 3)! Check if your matrix `A` is **diagonally dominant**."
   ]
  },
  {
   "cell_type": "code",
   "execution_count": 297,
   "id": "7f45c844",
   "metadata": {
    "tags": [
     "otter_answer_cell"
    ]
   },
   "outputs": [],
   "source": [
    "def gauss_seidel(A:np.array, b:np.array, x0:np.array, max_iter:int, eps:int)-> np.array:\n",
    "    \"\"\"\n",
    "    A: matrix a\n",
    "    b: vector b \n",
    "    x0: intial guesses in a np.array \n",
    "    max_iter: is the maximum number of iterations \n",
    "    eps: a absolute error tolerance \n",
    "    Using the gauss-seidel method, the initail guesses are conveiged to the correct vector answers x. This function utilizes the equation \n",
    "    x(k+1) = (D-L)ˆ1b -(D+L)ˆ-1Ux\n",
    "    and changes it into the following format \n",
    "    x(k+1) = Cx(k) + g\n",
    "    After which the fixed_point_iteration method is applied to calculate the following step. \n",
    "    \"\"\"\n",
    "\n",
    "    # C = np.dot(np.diag(1.0/np.diag(A)), -np.tril(A,-1) - np.triu(A, +1))\n",
    "    # g = np.dot(np.diag(1.0/np.diag(A)), b)\n",
    "    # return fixed_point_iteration(C,g,x0,max_iter, eps)\n",
    "    \n",
    "\n",
    "    D = np.diag(np.diag(A))\n",
    "    L = np.tril(A,k=-1)\n",
    "    U = np.triu(A,k=1)\n",
    "\n",
    "    D_inv = np.linalg.inv(D+L)\n",
    "\n",
    "    # g = np.dot(D_inv,b)\n",
    "    g = D_inv@b\n",
    "    C = -D_inv@U\n",
    "\n",
    "    x = fixed_point_iteration(C,g,x0=x0,max_iter=max_iter, eps=eps)\n",
    "    return x\n",
    "\n"
   ]
  },
  {
   "cell_type": "code",
   "execution_count": 298,
   "id": "bf9db4b4",
   "metadata": {
    "tags": [
     "otter_answer_cell"
    ]
   },
   "outputs": [
    {
     "name": "stdout",
     "output_type": "stream",
     "text": [
      "Gauss-Seidel method:\n",
      "[3.13249902 0.92163774 3.83507592 1.93224933]\n",
      "np.linalg.solve:\n",
      "[3.13249902 0.92163774 3.83507592 1.93224933]\n",
      "Absolute error: 2.52e-11\n"
     ]
    }
   ],
   "source": [
    "# compute numerical solution with your Gauss-Seidel algorithm\n",
    "# what is the first guess\n",
    "x0 = np.zeros(len(b))\n",
    "print(\"Gauss-Seidel method:\")\n",
    "# print(gauss_seidel(A,b,x0,100,10e-9))\n",
    "x_gauss_seidel = gauss_seidel(A,b,x0,max_iter =100,eps=1e-9)\n",
    "print(x_gauss_seidel)\n",
    "# linalg.solve to compute y\n",
    "y = np.linalg.solve(A,b)\n",
    "print(\"np.linalg.solve:\")\n",
    "print(y)\n",
    "# now check the absolute error between your solution and np.linalg.solve\n",
    "print(\"Absolute error: {:.2e}\".format(np.linalg.norm(x_gauss_seidel - y)))"
   ]
  },
  {
   "cell_type": "code",
   "execution_count": 299,
   "id": "fd33ddad",
   "metadata": {
    "deletable": false,
    "editable": false
   },
   "outputs": [
    {
     "data": {
      "text/html": [
       "<p><strong><pre style='display: inline;'>q2.3</pre></strong> passed! 🙌</p>"
      ],
      "text/plain": [
       "q2.3 results: All test cases passed!"
      ]
     },
     "execution_count": 299,
     "metadata": {},
     "output_type": "execute_result"
    }
   ],
   "source": [
    "grader.check(\"q2.3\")"
   ]
  },
  {
   "attachments": {
    "CSTR.svg": {
     "image/svg+xml": [
      "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"
     ]
    }
   },
   "cell_type": "markdown",
   "id": "b299115d",
   "metadata": {},
   "source": [
    "### Part 3: Solving a nonlinear system of equations applied to a continuously stirred-tank reactor\n",
    "\n",
    "Consider a continuously operated stirred tank reactor hosting two reactions running in parallel. The reactions are assumed to be first-order elementary reactions. The reaction volume is assumed to be constant. We assume an ideally-mixed system and thus conclude that the concentrations of the components $A,B,C,$ and $D$ in the outlet are equal to the respective concentrations inside the reactor.\n",
    "\n",
    "![attachments](attachment:CSTR.svg)\n",
    "\n",
    "We would like to find out what the outlet concentrations of the components $A,B,C,$ and $D$ are at steady state. We assume that the reaction constants $k_1, k_2$ are **not** dependent on the reaction temperature. Thus, we do not need to consider energy balances to compute the concentrations of the four components in the outlet. We assume constant component densities and neglect diffusive exchange with the environment. Furthermore, we model the reactor content as a homogeneous phase and neglect the mass and volume of the catalyst. To derive the model equations for the reactor volume, we derive four component mole balances for the reactor content:\n",
    "\\begin{split}\n",
    "\\frac{d}{dt} (Vc_A) &= F(c_{A, in}-c_A)+ V (-k_1c_Ac_B)\\\\\n",
    "\\frac{d}{dt} (Vc_B) &= F(c_{B, in}-c_B)+ V (-k_1c_Ac_B-k_2c_Cc_B)\\\\\n",
    "\\frac{d}{dt} (Vc_C) &= F(c_{C, in}-c_C)+ V (k_1c_Ac_B-k_2c_Cc_B)\\\\\n",
    "\\frac{d}{dt} (Vc_D) &= F(c_{D, in}-c_D)+ V (k_2c_Cc_B).\n",
    "\\end{split}\n",
    "\n",
    "Since we assume steady state conditions, i.e., $d(\\cdot)/dt = 0$, the left-hand side of our system of equations evaluates to zeros. We thus obtain the following system of algebraic equations assuming $x_1 = c_A, x_2 = c_B, x_3 = c_C, x_4 = c_D$:\n",
    "\\begin{align}\n",
    "0 &= F(c_{A, in}-x_1)+ V (-k_1x_1x_2)\\\\\n",
    "0 &= F(c_{B, in}-x_2)+ V (-k_1x_1x_2-k_2x_3x_2)\\\\\n",
    "0 &= F(c_{C, in}-x_3)+ V (k_1x_1x_2-k_2x_3x_2)\\\\\n",
    "0 &= F(c_{D, in}-x_4)+ V (k_2x_3x_2)\n",
    "\\end{align}\n",
    "\n",
    "The values for $F, V, k_1, k_2, c_{A,in}, c_{B,in}, c_{C,in}, c_{D,in}$ are assumed to be known and constant:\n",
    "$F = 1 l/h, V = 100 l, c_{A,in}=1 kmol/l, c_{B,in}=2 kmol/l, c_{C,in}=0 kmol/l, c_{A,in}=0 kmol/l, k_1 = 1 l/(h \\cdot kmol), k_2 = 1 l/(h \\cdot kmol)$.\n",
    "\n",
    "In the third part of this assignment, you will solve the nonlinear system of equations numerically using the Newton-Raphson method. The steps you need to take to accomplish this include\n",
    "- defining two function to compute the function values and the jacobian matrix of our nonlinear system of equations, respectively\n",
    "- implement the Newton-Raphson method **without** using the inverse of the jacobian matrix."
   ]
  },
  {
   "cell_type": "markdown",
   "id": "c2109c00",
   "metadata": {},
   "source": [
    "#### Question 3.1\n",
    "First, define a parameter vector `p` that contains the given values $F, V, k_1, k_2, c_{A,in}, c_{B,in}, c_{C,in}, c_{D,in}$ as a numpy array object according to _[`numpy.array()`](https://numpy.org/doc/stable/reference/generated/numpy.array.html)_."
   ]
  },
  {
   "cell_type": "code",
   "execution_count": 300,
   "id": "abc6833c",
   "metadata": {
    "tags": [
     "otter_answer_cell"
    ]
   },
   "outputs": [],
   "source": [
    "flow = 1\n",
    "vol = 100\n",
    "cAin = 1\n",
    "cBin = 2\n",
    "cCin = 0\n",
    "cDin = 0\n",
    "k1 = 1\n",
    "k2 = 1\n",
    "# define parameter vector\n",
    "p = np.array([flow, vol, k1, k2, cAin, cBin, cCin, cDin])"
   ]
  },
  {
   "cell_type": "code",
   "execution_count": 301,
   "id": "b9e0bb8f",
   "metadata": {
    "deletable": false,
    "editable": false
   },
   "outputs": [
    {
     "data": {
      "text/html": [
       "<p><strong><pre style='display: inline;'>q3.1</pre></strong> passed! 🎉</p>"
      ],
      "text/plain": [
       "q3.1 results: All test cases passed!"
      ]
     },
     "execution_count": 301,
     "metadata": {},
     "output_type": "execute_result"
    }
   ],
   "source": [
    "grader.check(\"q3.1\")"
   ]
  },
  {
   "cell_type": "markdown",
   "id": "d42dccb2",
   "metadata": {},
   "source": [
    "#### Question 3.2\n",
    "\n",
    "You should now define a function `func_CSTR` to compute $\\boldsymbol{F}(x^k)$. \n",
    "The function `func_CSTR` takes as input values\n",
    "- `x`: the solution vector at the current iterate, i.e., $c_A, c_B, c_C, c_D$ in this excat order.\n",
    "- `p`: parameter vector containing $F, V, k_1, k_2, c_{A,in}, c_{B,in}, c_{C,in}, c_{D,in}$ in this exact order.\n",
    "\n",
    "\n",
    "The output of the function `func_CSTR` is the result of the system of equations specified in equations (1), (2), (3), and (4) of Part 3 in this exact order. The output type should be `npt.NDArray`."
   ]
  },
  {
   "cell_type": "code",
   "execution_count": 302,
   "id": "f0cdeef7",
   "metadata": {
    "tags": [
     "otter_answer_cell"
    ]
   },
   "outputs": [],
   "source": [
    "def func_CSTR(x, p) -> np.ndarray:\n",
    "    \"\"\"\n",
    "    x: the solution vector at the current iterate [cA, cB, cC, cD]\n",
    "    p: parameter vector containing [F, V, k1, k2, cAin, cBin, cCin, cDin]\n",
    "\n",
    "    this function provides the system of equations. \n",
    "    \"\"\"\n",
    "    dxdt = np.zeros(len(x))\n",
    "    F, V, k1, k2, cAin, cBin, cCin, cDin = p\n",
    "\n",
    "    dxdt[0] = F*(cAin - x[0]) + V*(-k1*x[0]*x[1])\n",
    "    dxdt[1] = F*(cBin - x[1]) + V*(-k1*x[0]*x[1] - k2*x[1]*x[2])\n",
    "    dxdt[2] = F*(cCin - x[2]) + V*( k1*x[0]*x[1] - k2*x[1]*x[2])\n",
    "    dxdt[3] = F*(cDin - x[3]) + V*(k2*x[1]*x[2])\n",
    "\n",
    "    return dxdt\n"
   ]
  },
  {
   "cell_type": "code",
   "execution_count": 303,
   "id": "6ecfb0f6",
   "metadata": {
    "deletable": false,
    "editable": false
   },
   "outputs": [
    {
     "data": {
      "text/html": [
       "<p><strong><pre style='display: inline;'>q3.2</pre></strong> passed! 💯</p>"
      ],
      "text/plain": [
       "q3.2 results: All test cases passed!"
      ]
     },
     "execution_count": 303,
     "metadata": {},
     "output_type": "execute_result"
    }
   ],
   "source": [
    "grader.check(\"q3.2\")"
   ]
  },
  {
   "cell_type": "markdown",
   "id": "b67b5349",
   "metadata": {},
   "source": [
    "#### Question 3.3\n",
    "\n",
    "You should now define the function `jacobian_CSTR` to compute $\\boldsymbol{J}(x^k)$. Derive it manually on paper first, then implement it.\n",
    "\n",
    "The function `jacobian_CSTR` takes as input values\n",
    "- `x`: the solution vector at the current iterate, i.e., $cA, cB, cC, cD$ in this excat order.\n",
    "- `p`: parameter vector containing $F, V, k_1, k_2, c_{A,in}, c_{B,in}, c_{C,in}, c_{D,in}$ in this exact order.\n",
    "\n",
    "\n",
    "The output of the function `jacobian_CSTR` is the jacobian of the system of equations specified in equations (1), (2), (3), and (4) of Part 3 in this exact order. The output type should be `npt.NDArray`."
   ]
  },
  {
   "cell_type": "code",
   "execution_count": 304,
   "id": "98df58bc",
   "metadata": {
    "tags": [
     "otter_answer_cell"
    ]
   },
   "outputs": [],
   "source": [
    "\n",
    "def jacobian_CSTR(x, p) -> npt.NDArray:\n",
    "    \"\"\"\n",
    "    x: the solution vector at the current iterate [cA, cB, cC, cD]\n",
    "    p: parameter vector containing [F, V, k1, k2, cAin, cBin, cCin, cDin]\n",
    "\n",
    "    This function creates a npt.NDArray of the jacobian (first order derivative) of the system of equation. \n",
    "    It is done so manualy\n",
    "\n",
    "    \"\"\"\n",
    "    F, V, k1, k2, cAin, cBin, cCin, cDin = p\n",
    "\n",
    "    jacobian = [\n",
    "        [-F + V*(-k1*x[1]), V*(-k1*x[0]), 0, 0],\n",
    "        [V*(-k1*x[1]), -F + V*(-k1*x[0]-k2*x[2]), V*(-k2*x[1]), 0],\n",
    "        [V*(k1*x[1]), V*(k1*x[0]-k2*x[2]), -F + V*(-k2*x[1]), 0],\n",
    "        [0, V*(k2*x[2]), V*(k2*x[1]), -F]\n",
    "    ]\n",
    "\n",
    "    return np.array(jacobian)\n"
   ]
  },
  {
   "cell_type": "code",
   "execution_count": 305,
   "id": "a3edfdcc",
   "metadata": {
    "deletable": false,
    "editable": false
   },
   "outputs": [
    {
     "data": {
      "text/html": [
       "<p><strong><pre style='display: inline;'>q3.3</pre></strong> passed! 🎉</p>"
      ],
      "text/plain": [
       "q3.3 results: All test cases passed!"
      ]
     },
     "execution_count": 305,
     "metadata": {},
     "output_type": "execute_result"
    }
   ],
   "source": [
    "grader.check(\"q3.3\")"
   ]
  },
  {
   "cell_type": "markdown",
   "id": "79ad95d6",
   "metadata": {},
   "source": [
    "#### Question 3.4\n",
    "In lecture Q1-L3, we presented the Newton-Raphson method for solving a system of nonlinear equations. To derive the next iterate $x^{k+1}$ based on the current iterate $x^k$, we would need to first compute the inverse of the Jacobian $\\boldsymbol{J}^{-1}(x^k)$ if we choose the following updating rule:\n",
    "\\begin{equation}\n",
    "\\boldsymbol{x}^{k+1} = \\boldsymbol{x}^k-\\boldsymbol{J}^{-1}(x^k)\\boldsymbol{F}(x^k).\n",
    "\\tag{1}\n",
    "\\end{equation}\n",
    "We are going to try a different approach in this assignment. Instead of inverting the Jacobian, we would like to use an iterative method for solving linear systems, e.g., the Gauss-Seidel approach.\n",
    "\n",
    "First, we reformulate the problem statement to\n",
    "\\begin{equation}\n",
    "\\boldsymbol{F}(x^k)+\\boldsymbol{J}(x^k)(\\boldsymbol{x}^{k+1}-\\boldsymbol{x}^k) = \\boldsymbol{0}.\n",
    "\\tag{2}\n",
    "\\end{equation}\n",
    "This looks like a linear system if the variable $\\boldsymbol{x^{*}}=\\boldsymbol{x}^{k+1}-\\boldsymbol{x}^k$ is introduced.\n",
    "\n",
    "Recall the `gauss_seidel` function you defined earlier. Think of a way to use the Gauss-Seidel method to solve the system of nonlinear equations iteratively! **NOTE**: you don't have to implement the Gauss-Seidel method again, rather you have to use the function `gauss_seidel` implemented earlier.\n",
    "\n",
    "You are required to estimate the error in order to using it as stopping criteria. For this method, we want to evaluate the *estimated relative error* defined as follows:\n",
    "\\begin{equation}\n",
    "\\epsilon = \\frac{|x^k-x^{k-1}|}{x^k}\n",
    "\\tag{3}\n",
    "\\end{equation}\n",
    "\n",
    "The stopping criteria is given by the comparison of the estimated relative error and an arbitrary relative tolerance `rtol` (i.e., $\\epsilon <$ `rtol` -> stop).\n",
    "\n",
    "You are ready to implement the Newton-Raphson method by executing the `gauss_seidel` function defined in question 2.3 at each iteration. Fill in the function `newton_raphson` taking the input arguments\n",
    "- `x_start`: the initial guess for the solution vector\n",
    "- `p`: the parameter vector\n",
    "- `max_iter`: the maximum number of iterations\n",
    "- `rtol`: the relative tolerance as stopping criterion.\n",
    "\n",
    "The output of the function `newton_raphson` is the root of the problem."
   ]
  },
  {
   "cell_type": "code",
   "execution_count": 330,
   "id": "bafb8c32",
   "metadata": {},
   "outputs": [],
   "source": [
    "def newton_raphson(x_start, p, max_iter=100, rtol=1e-05)-> npt.NDArray:\n",
    "    \"\"\"\n",
    "    Variables : \n",
    "    x_start   : \n",
    "    p         : \n",
    "    max_iter  : \n",
    "    rtol      :\n",
    "\n",
    "    Description of the function: \n",
    "\n",
    "    \"\"\"\n",
    "\n",
    "    x= x_start.copy()\n",
    "\n",
    "    for i in range(max_iter):\n",
    "        x_old=x\n",
    "        jacobian = jacobian_CSTR(x_old, p)\n",
    "        function = func_CSTR(x_old,p)\n",
    "\n",
    "        x_s= gauss_seidel(jacobian, -function, x_old, max_iter, rtol)\n",
    "\n",
    "        x = x_old +x_s\n",
    "        error = np.linalg.norm(x - x_old)/np.linalg.norm(x) \n",
    "        if error < rtol: \n",
    "            return x\n",
    "        \n",
    "        \n",
    "\n",
    "    return x"
   ]
  },
  {
   "cell_type": "code",
   "execution_count": 331,
   "id": "844a8e4a",
   "metadata": {
    "deletable": false,
    "editable": false
   },
   "outputs": [
    {
     "data": {
      "text/html": [
       "<p><strong><pre style='display: inline;'>q3.4</pre></strong> passed! 🙌</p>"
      ],
      "text/plain": [
       "q3.4 results: All test cases passed!"
      ]
     },
     "execution_count": 331,
     "metadata": {},
     "output_type": "execute_result"
    }
   ],
   "source": [
    "grader.check(\"q3.4\")"
   ]
  },
  {
   "cell_type": "markdown",
   "id": "dd85228f",
   "metadata": {},
   "source": [
    "#### Question 3.5\n",
    "\n",
    "Finally, apply your implementation of the Newton-Raphson method to solve for the steady-state solution of the described CSTR. Compare your solution to the output of the scipy built-in function _[`scipy.optimize.fsolve()`](https://docs.scipy.org/doc/scipy/reference/generated/scipy.optimize.fsolve.html)_\n",
    "\n",
    "**HINT** Check the documentation of _[`scipy.optimize.fsolve()`](https://docs.scipy.org/doc/scipy/reference/generated/scipy.optimize.fsolve.html)_ for instructions: The `args` argument of fsolve allows you to pass extra arguments (e.g., the parameter array `p`) to the function you intend to find the root of."
   ]
  },
  {
   "cell_type": "code",
   "execution_count": 334,
   "id": "79a91ae6",
   "metadata": {
    "tags": [
     "otter_answer_cell"
    ]
   },
   "outputs": [
    {
     "name": "stdout",
     "output_type": "stream",
     "text": [
      "[0.05658799 0.16670721 0.05338563 0.88997695]\n",
      "[0.05661365 0.16663585 0.05340854 0.8899778 ]\n",
      "Absolute error between scipy.optimize.root and Newton-Raphson: 7.92e-05\n",
      "\n",
      "\n"
     ]
    }
   ],
   "source": [
    "x_start = np.array([1,2,0,0])\n",
    "# your solution with your implementation of the Newton Raphson method\n",
    "x_sol = newton_raphson(x_start, p)\n",
    "print(x_sol)\n",
    "# the solution using fsolve\n",
    "x_fsolve = scipy.optimize.fsolve(func_CSTR,x_start, p)\n",
    "print(x_fsolve)\n",
    "print(\n",
    "    \"Absolute error between scipy.optimize.root and Newton-Raphson: {:.2e}\\n\\n\".format(\n",
    "        np.linalg.norm(x_sol - x_fsolve)\n",
    "    )\n",
    ")"
   ]
  },
  {
   "cell_type": "code",
   "execution_count": 335,
   "id": "82da127c",
   "metadata": {
    "deletable": false,
    "editable": false
   },
   "outputs": [
    {
     "data": {
      "text/html": [
       "<p><strong><pre style='display: inline;'>q3.5</pre></strong> passed! 🍀</p>"
      ],
      "text/plain": [
       "q3.5 results: All test cases passed!"
      ]
     },
     "execution_count": 335,
     "metadata": {},
     "output_type": "execute_result"
    }
   ],
   "source": [
    "grader.check(\"q3.5\")"
   ]
  },
  {
   "cell_type": "markdown",
   "id": "ad43176b",
   "metadata": {},
   "source": [
    "## Part 4: Gauss-Seidel vs Jacobi Method Differences\n",
    "\n",
    "Let's create a concrete example that shows how Gauss-Seidel and Jacobi methods can behave differently in terms of convergence speed and stability. Closely inspect the provided example and reflect on the convergence behaviour of each method. **HINT** pay attention to the spectral radius of the example problem."
   ]
  },
  {
   "cell_type": "code",
   "execution_count": 336,
   "id": "a66f8e64",
   "metadata": {},
   "outputs": [
    {
     "name": "stdout",
     "output_type": "stream",
     "text": [
      "=== EXAMPLE: CONVERGENCE SPEED COMPARISON ===\n",
      "System: 4x + y = 1, x + 3y = 2\n",
      "\n",
      "System matrix A:\n",
      "[[4. 1.]\n",
      " [1. 3.]]\n",
      "Right-hand side b:\n",
      "[1. 2.]\n",
      "Exact solution: [0.09090909 0.63636364]\n",
      "\n",
      "Gauss-Seidel:\n",
      "  Solution: [0.09090909 0.63636364]\n",
      "  Converged in 11 iterations\n",
      "  Final error: 2.98e-11\n",
      "Jacobi:\n",
      "  Solution: [0.09090909 0.63636364]\n",
      "  Converged in 20 iterations\n",
      "  Final error: 3.61e-11\n",
      "\n",
      "Gauss-Seidel was faster by 9 iterations\n"
     ]
    }
   ],
   "source": [
    "# Example 1: Convergence Speed Comparison\n",
    "print(\"=== EXAMPLE: CONVERGENCE SPEED COMPARISON ===\")\n",
    "print(\"System: 4x + y = 1, x + 3y = 2\")\n",
    "print()\n",
    "\n",
    "# Create a well-conditioned system where both methods converge but at different rates\n",
    "A_example = np.array([[4.0, 1.0], [1.0, 3.0]])\n",
    "b_example = np.array([1.0, 2.0])\n",
    "x0_example = np.array([0.0, 0.0])\n",
    "\n",
    "print(\"System matrix A:\")\n",
    "print(A_example)\n",
    "print(\"Right-hand side b:\")\n",
    "print(b_example)\n",
    "print(\"Exact solution:\", np.linalg.solve(A_example, b_example))\n",
    "print()\n",
    "\n",
    "# Test both methods with detailed convergence tracking\n",
    "\n",
    "\n",
    "def fixed_point_iteration_detailed(\n",
    "    C: npt.NDArray,\n",
    "    g: npt.NDArray,\n",
    "    x0: npt.NDArray,\n",
    "    max_iter: int = 20,\n",
    "    eps: float = 1e-10,\n",
    ") -> tuple[npt.NDArray, list[float], int]:\n",
    "    \"\"\"\n",
    "    Fixed point iteration algorithm that returns both solution and\n",
    "    convergence history.\n",
    "    Args:\n",
    "        C (npt.NDArray): Matrix C\n",
    "        g (npt.NDArray): Vector b\n",
    "        x0 (npt.NDArray): Initial guess\n",
    "        max_iter (int): Maximum number of iterations. Defaults to 100.\n",
    "        eps (float): Absolute error tolerance. Defaults to 1e-9.\n",
    "    Returns:\n",
    "        x (npt.NDArray): Solution vector x\n",
    "        history (list[float]): List of errors at each iteration\n",
    "        iters (int): Number of iterations performed\n",
    "    \"\"\"\n",
    "    x = x0.copy()\n",
    "    history = [np.linalg.norm(x)]\n",
    "\n",
    "    for i in range(max_iter):\n",
    "        x_old = x.copy()\n",
    "        x = np.dot(C, x) + g\n",
    "        error = np.linalg.norm(x - x_old)\n",
    "        history.append(error)\n",
    "\n",
    "        if error < eps:\n",
    "            return x, history, i + 1\n",
    "\n",
    "    return x, history, max_iter\n",
    "\n",
    "\n",
    "# Gauss-Seidel matrices\n",
    "D_inv = np.diag(1.0 / np.diag(A_example))\n",
    "L = np.tril(A_example, -1)\n",
    "U = np.triu(A_example, 1)\n",
    "\n",
    "C_gs = -np.dot(np.linalg.inv(np.diag(np.diag(A_example)) + L), U)\n",
    "g_gs = np.dot(np.linalg.inv(np.diag(np.diag(A_example)) + L), b_example)\n",
    "\n",
    "# Jacobi matrices\n",
    "C_j = -np.dot(D_inv, L + U)\n",
    "g_j = np.dot(D_inv, b_example)\n",
    "\n",
    "# Run both methods\n",
    "sol_gs, hist_gs, iter_gs = fixed_point_iteration_detailed(C_gs, g_gs, x0_example)\n",
    "sol_j, hist_j, iter_j = fixed_point_iteration_detailed(C_j, g_j, x0_example)\n",
    "\n",
    "print(\"Gauss-Seidel:\")\n",
    "print(f\"  Solution: {sol_gs}\")\n",
    "print(f\"  Converged in {iter_gs} iterations\")\n",
    "print(f\"  Final error: {hist_gs[-1]:.2e}\")\n",
    "\n",
    "print(\"Jacobi:\")\n",
    "print(f\"  Solution: {sol_j}\")\n",
    "print(f\"  Converged in {iter_j} iterations\")\n",
    "print(f\"  Final error: {hist_j[-1]:.2e}\")\n",
    "\n",
    "# Convergence comparison\n",
    "print(\n",
    "    f\"\\nGauss-Seidel was {'faster' if iter_gs < iter_j else 'slower'} by {abs(iter_gs - iter_j)} iterations\"\n",
    ")"
   ]
  },
  {
   "cell_type": "code",
   "execution_count": 337,
   "id": "69f7ff12",
   "metadata": {},
   "outputs": [
    {
     "data": {
      "image/png": "[encoded data removed]",
      "text/plain": [
       "<Figure size 1200x500 with 2 Axes>"
      ]
     },
     "metadata": {},
     "output_type": "display_data"
    },
    {
     "name": "stdout",
     "output_type": "stream",
     "text": [
      "\n",
      "Spectral Radius Analysis:\n",
      "Gauss-Seidel: spectral radius = 0.0833\n",
      "Jacobi: spectral radius = 0.2887\n"
     ]
    }
   ],
   "source": [
    "# Plot convergence comparison\n",
    "plt.figure(figsize=(12, 5))\n",
    "\n",
    "plt.subplot(1, 2, 1)\n",
    "iterations_gs = range(len(hist_gs))\n",
    "iterations_j = range(len(hist_j))\n",
    "\n",
    "plt.semilogy(iterations_gs, hist_gs, \"b-o\", label=\"Gauss-Seidel\", markersize=4)\n",
    "plt.semilogy(iterations_j, hist_j, \"r-s\", label=\"Jacobi\", markersize=4)\n",
    "plt.xlabel(\"Iteration\")\n",
    "plt.ylabel(\"Error (log scale)\")\n",
    "plt.title(\"Convergence Comparison: Example\")\n",
    "plt.legend()\n",
    "plt.grid(True, alpha=0.3)\n",
    "\n",
    "plt.subplot(1, 2, 2)\n",
    "# Show spectral radius (theoretical convergence rate)\n",
    "eig_gs = np.linalg.eigvals(C_gs)\n",
    "eig_j = np.linalg.eigvals(C_j)\n",
    "spectral_radius_gs = np.max(np.abs(eig_gs))\n",
    "spectral_radius_j = np.max(np.abs(eig_j))\n",
    "\n",
    "methods = [\"Gauss-Seidel\", \"Jacobi\"]\n",
    "spectral_radii = [spectral_radius_gs, spectral_radius_j]\n",
    "colors = [\"blue\", \"red\"]\n",
    "\n",
    "bars = plt.bar(methods, spectral_radii, color=colors, alpha=0.7)\n",
    "plt.ylabel(\"Spectral Radius\")\n",
    "plt.title(\"Spectral Radius (Convergence Rate)\")\n",
    "plt.axhline(\n",
    "    y=1, color=\"black\", linestyle=\"--\", alpha=0.5, label=\"Convergence threshold\"\n",
    ")\n",
    "plt.legend()\n",
    "\n",
    "# Add value labels on bars\n",
    "for bar, value in zip(bars, spectral_radii):\n",
    "    plt.text(\n",
    "        bar.get_x() + bar.get_width() / 2,\n",
    "        bar.get_height() + 0.01,\n",
    "        f\"{value:.3f}\",\n",
    "        ha=\"center\",\n",
    "        va=\"bottom\",\n",
    "    )\n",
    "\n",
    "plt.tight_layout()\n",
    "plt.show()\n",
    "\n",
    "print(\"\\nSpectral Radius Analysis:\")\n",
    "print(f\"Gauss-Seidel: spectral radius = {spectral_radius_gs:.4f}\")\n",
    "print(f\"Jacobi: spectral radius = {spectral_radius_j:.4f}\")"
   ]
  }
 ],
 "metadata": {
  "jupytext": {
   "cell_markers": "\"\"\"",
   "formats": "ipynb,py:percent"
  },
  "kernelspec": {
   "display_name": ".venv",
   "language": "python",
   "name": "python3"
  },
  "language_info": {
   "codemirror_mode": {
    "name": "ipython",
    "version": 3
   },
   "file_extension": ".py",
   "mimetype": "text/x-python",
   "name": "python",
   "nbconvert_exporter": "python",
   "pygments_lexer": "ipython3",
   "version": "3.12.10"
  },
  "otter": {
   "OK_FORMAT": true,
   "assignment_name": "CP_Assignment_Q1_L3",
   "tests": {
    "q1.1": {
     "name": "q1.1",
     "points": 0,
     "suites": [
      {
       "cases": [
        {
         "code": ">>> assert array_1d.ndim == 1, 'Test failed: array_1d is not 1D'\n",
         "hidden": false,
         "locked": false,
         "points": 0
        },
        {
         "code": ">>> assert array_1d.shape == (4,), 'Test failed: array_1d does not have 4 elements'\n",
         "hidden": false,
         "locked": false,
         "points": 0
        },
        {
         "code": ">>> assert np.allclose(array_1d, np.array([3, 5, 6, 7])), 'Test failed: array_1d values are incorrect'\n",
         "hidden": false,
         "locked": false,
         "points": 0
        },
        {
         "code": ">>> assert array_2d.ndim == 2, 'Test failed: array_2d is not 2D'\n",
         "hidden": false,
         "locked": false,
         "points": 0
        },
        {
         "code": ">>> assert array_2d.shape == (4, 1), 'Test failed: array_2d shape is incorrect'\n",
         "hidden": false,
         "locked": false,
         "points": 0
        },
        {
         "code": ">>> assert np.allclose(array_2d, np.array([[3], [5], [6], [7]])), 'Test failed: array_2d values are incorrect'\n",
         "hidden": false,
         "locked": false,
         "points": 0
        },
        {
         "code": ">>> assert matrix_2d.ndim == 2, 'Test failed: matrix_2d is not 2D'\n",
         "hidden": false,
         "locked": false,
         "points": 0
        },
        {
         "code": ">>> assert matrix_2d.shape == (2, 2), 'Test failed: matrix_2d shape is incorrect'\n",
         "hidden": false,
         "locked": false,
         "points": 0
        },
        {
         "code": ">>> assert np.allclose(matrix_2d, np.array([[3, 4], [9, 8]])), 'Test failed: matrix_2d values are incorrect'\n",
         "hidden": false,
         "locked": false,
         "points": 0
        },
        {
         "code": ">>> assert custom_vector.ndim == 1, 'Test failed: custom_vector is not 1D'\n",
         "hidden": false,
         "locked": false,
         "points": 0
        },
        {
         "code": ">>> assert np.allclose(custom_vector, np.array([2, 4, 6, 8, 10])), 'Test failed: custom_vector values are incorrect'\n",
         "hidden": false,
         "locked": false,
         "points": 0
        },
        {
         "code": ">>> assert random_int_matrix.ndim == 2, 'Test failed: random_int_matrix is not 2D'\n",
         "hidden": false,
         "locked": false,
         "points": 0
        },
        {
         "code": ">>> assert random_int_matrix.shape == (5, 5), 'Test failed: random_int_matrix shape is incorrect'\n",
         "hidden": false,
         "locked": false,
         "points": 0
        },
        {
         "code": ">>> assert np.all((random_int_matrix >= 1) & (random_int_matrix < 10)), 'Test failed: random_int_matrix values are outside the specified range'\n",
         "hidden": false,
         "locked": false,
         "points": 0
        },
        {
         "code": ">>> assert normal_matrix.ndim == 2, 'Test failed: normal_matrix is not 2D'\n",
         "hidden": false,
         "locked": false,
         "points": 0
        },
        {
         "code": ">>> assert normal_matrix.shape == (2, 2), 'Test failed: normal_matrix shape is incorrect'\n",
         "hidden": false,
         "locked": false,
         "points": 0
        }
       ],
       "scored": true,
       "setup": "",
       "teardown": "",
       "type": "doctest"
      }
     ]
    },
    "q1.2": {
     "name": "q1.2",
     "points": 0,
     "suites": [
      {
       "cases": [
        {
         "code": ">>> assert full_matrix.ndim == 2, 'Test failed: full_matrix is not 2D'\n",
         "hidden": false,
         "locked": false,
         "points": 0
        },
        {
         "code": ">>> assert full_matrix.shape == (4, 4), 'Test failed: full_matrix shape is incorrect'\n",
         "hidden": false,
         "locked": false,
         "points": 0
        },
        {
         "code": ">>> assert np.allclose(full_matrix, np.full((4, 4), 7)), 'Test failed: full_matrix does not contain all 7s'\n",
         "hidden": false,
         "locked": false,
         "points": 0
        },
        {
         "code": ">>> assert zero_vector.ndim == 1, 'Test failed: zero_vector is not 1D'\n",
         "hidden": false,
         "locked": false,
         "points": 0
        },
        {
         "code": ">>> assert zero_vector.shape == (5,), 'Test failed: zero_vector shape is incorrect'\n",
         "hidden": false,
         "locked": false,
         "points": 0
        },
        {
         "code": ">>> assert np.allclose(zero_vector, np.zeros(5)), 'Test failed: zero_vector does not contain all 0s'\n",
         "hidden": false,
         "locked": false,
         "points": 0
        },
        {
         "code": ">>> assert ones_vector.ndim == 1, 'Test failed: ones_vector is not 1D'\n",
         "hidden": false,
         "locked": false,
         "points": 0
        },
        {
         "code": ">>> assert ones_vector.shape == (10,), 'Test failed: ones_vector shape is incorrect'\n",
         "hidden": false,
         "locked": false,
         "points": 0
        },
        {
         "code": ">>> assert np.allclose(ones_vector, np.ones(10)), 'Test failed: ones_vector does not contain all 1s'\n",
         "hidden": false,
         "locked": false,
         "points": 0
        },
        {
         "code": ">>> assert identity_matrix.ndim == 2, 'Test failed: identity_matrix is not 2D'\n",
         "hidden": false,
         "locked": false,
         "points": 0
        },
        {
         "code": ">>> assert identity_matrix.shape == (4, 4), 'Test failed: identity_matrix shape is incorrect'\n",
         "hidden": false,
         "locked": false,
         "points": 0
        },
        {
         "code": ">>> assert np.allclose(identity_matrix, np.eye(4)), 'Test failed: identity_matrix values are incorrect'\n",
         "hidden": false,
         "locked": false,
         "points": 0
        },
        {
         "code": ">>> assert diagonal_matrix.ndim == 2, 'Test failed: diagonal_matrix is not 2D'\n",
         "hidden": false,
         "locked": false,
         "points": 0
        },
        {
         "code": ">>> assert diagonal_matrix.shape == (4, 4), 'Test failed: diagonal_matrix shape is incorrect'\n",
         "hidden": false,
         "locked": false,
         "points": 0
        },
        {
         "code": ">>> assert np.allclose(np.diag(diagonal_matrix), [1, 2, 3, 4]), 'Test failed: diagonal_matrix diagonal values are incorrect'\n",
         "hidden": false,
         "locked": false,
         "points": 0
        },
        {
         "code": ">>> assert random_matrix_5x5.ndim == 2, 'Test failed: random_matrix_5x5 is not 2D'\n",
         "hidden": false,
         "locked": false,
         "points": 0
        },
        {
         "code": ">>> assert random_matrix_5x5.shape == (5, 5), 'Test failed: random_matrix_5x5 shape is incorrect'\n",
         "hidden": false,
         "locked": false,
         "points": 0
        },
        {
         "code": ">>> assert np.all((random_matrix_5x5 >= 1) & (random_matrix_5x5 < 10)), 'Test failed: random_matrix_5x5 values are outside the specified range'\n",
         "hidden": false,
         "locked": false,
         "points": 0
        },
        {
         "code": ">>> assert upper_tri.shape == random_matrix_5x5.shape, 'Test failed: upper_tri shape mismatch'\n",
         "hidden": false,
         "locked": false,
         "points": 0
        },
        {
         "code": ">>> assert np.allclose(np.tril(upper_tri), 0, rtol=0.0001), 'Test failed: upper_tri has non-zero values below diagonal'\n",
         "hidden": false,
         "locked": false,
         "points": 0
        },
        {
         "code": ">>> assert lower_tri.shape == random_matrix_5x5.shape, 'Test failed: lower_tri shape mismatch'\n",
         "hidden": false,
         "locked": false,
         "points": 0
        },
        {
         "code": ">>> assert np.allclose(np.triu(lower_tri), 0, rtol=0.0001), 'Test failed: lower_tri has non-zero values above diagonal'\n",
         "hidden": false,
         "locked": false,
         "points": 0
        }
       ],
       "scored": true,
       "setup": "",
       "teardown": "",
       "type": "doctest"
      }
     ]
    },
    "q1.3": {
     "name": "q1.3",
     "points": 0,
     "suites": [
      {
       "cases": [
        {
         "code": ">>> assert np.isclose(l2_norm, np.sqrt(vec[0] ** 2 + vec[1] ** 2 + vec[2] ** 2)), 'Test failed: L2 norm is incorrect'\n",
         "hidden": false,
         "locked": false,
         "points": 0
        },
        {
         "code": ">>> assert np.isclose(l1_norm, np.abs(vec[0]) + np.abs(vec[1]) + np.abs(vec[2])), 'Test failed: L2 norm is incorrect'\n",
         "hidden": false,
         "locked": false,
         "points": 0
        },
        {
         "code": ">>> assert np.isclose(inf_norm, max(np.abs(vec))), 'Test failed: Inf norm is incorrect'\n",
         "hidden": false,
         "locked": false,
         "points": 0
        },
        {
         "code": ">>> assert np.isclose(frobenius_norm, np.sqrt(np.sum(mat_C ** 2))), 'Test failed: Frobenius norm is incorrect'\n",
         "hidden": false,
         "locked": false,
         "points": 0
        },
        {
         "code": ">>> assert np.isclose(l1_matrix_norm, np.max(np.sum(np.abs(mat_C), axis=0))), 'Test failed: L1 norm is incorrect'\n",
         "hidden": false,
         "locked": false,
         "points": 0
        },
        {
         "code": ">>> assert np.isclose(inf_matrix_norm, np.max(np.sum(np.abs(mat_C), axis=1))), 'Test failed: Infinity norm is incorrect'\n",
         "hidden": false,
         "locked": false,
         "points": 0
        },
        {
         "code": ">>> u, s, vh = np.linalg.svd(mat_C)\n>>> assert np.isclose(spectral_norm_np, np.max(s)), 'Test failed: Spectral norm is incorrect'\n",
         "hidden": false,
         "locked": false,
         "points": 0
        }
       ],
       "scored": true,
       "setup": "",
       "teardown": "",
       "type": "doctest"
      }
     ]
    },
    "q1.4": {
     "name": "q1.4",
     "points": 0,
     "suites": [
      {
       "cases": [
        {
         "code": ">>> expected_matrix_1_T = np.array([[1, 4, 7], [2, 5, 8], [3, 6, 9]])\n>>> assert np.allclose(matrix_1_T, expected_matrix_1_T, rtol=0.01), 'Test failed: matrix_1_T is incorrect'\n",
         "hidden": false,
         "locked": false,
         "points": 0
        },
        {
         "code": ">>> expected_matrix_2_T = np.array([[9, 6, 3], [8, 5, 2], [7, 4, 1]])\n>>> assert np.allclose(matrix_2_T, expected_matrix_2_T, rtol=0.01), 'Test failed: matrix_2_T is incorrect'\n",
         "hidden": false,
         "locked": false,
         "points": 0
        },
        {
         "code": ">>> matrix_1_T = np.array([[1, 4, 7], [2, 5, 8], [3, 6, 9]])\n>>> matrix_2_T = np.array([[9, 6, 3], [8, 5, 2], [7, 4, 1]])\n>>> expected_matrix_mul_T = np.array([[90, 54, 18], [114, 69, 24], [138, 84, 30]])\n>>> assert np.allclose(matrix_mul_T, expected_matrix_mul_T, rtol=0.01), 'Test failed: matrix_mul_T is incorrect'\n",
         "hidden": false,
         "locked": false,
         "points": 0
        },
        {
         "code": ">>> expected_inv = np.array([[-35184372100000.0, 70368744200000.0, -35184372100000.0], [70368744200000.0, -140737488000000.0, 70368744200000.0], [-35184372100000.0, 70368744200000.0, -35184372100000.0]])\n>>> assert np.allclose(matrix_inv, expected_inv, rtol=1), 'Test failed: matrix_inv is incorrect'\n",
         "hidden": false,
         "locked": false,
         "points": 0
        },
        {
         "code": ">>> expected_dot_vec = np.array([14, 32, 50])\n>>> assert np.allclose(dot_with_vector, expected_dot_vec, rtol=0.01), 'Test failed: dot_with_vector is incorrect'\n",
         "hidden": false,
         "locked": false,
         "points": 0
        }
       ],
       "scored": true,
       "setup": "",
       "teardown": "",
       "type": "doctest"
      }
     ]
    },
    "q1.5": {
     "name": "q1.5",
     "points": 0,
     "suites": [
      {
       "cases": [
        {
         "code": ">>> expected_eigenvalues = np.array([-3, -2, -1])\n>>> assert np.allclose(np.sort(eigenvalues), np.sort(expected_eigenvalues), rtol=0.01), 'Test failed: Eigenvalues are incorrect.'\n",
         "hidden": false,
         "locked": false,
         "points": 0
        },
        {
         "code": ">>> expected_rank = 1\n>>> assert rank_B == expected_rank, 'Test failed: rank of B is incorrect'\n",
         "hidden": false,
         "locked": false,
         "points": 0
        },
        {
         "code": ">>> expected_det = 0\n>>> assert det_B == expected_det, 'Test failed: determinand of B is incorrect'\n",
         "hidden": false,
         "locked": false,
         "points": 0
        },
        {
         "code": ">>> assert linearly_independent, 'Test failed: The linear independence has not been assessed correctly'\n",
         "hidden": false,
         "locked": false,
         "points": 0
        }
       ],
       "scored": true,
       "setup": "",
       "teardown": "",
       "type": "doctest"
      }
     ]
    },
    "q2.1": {
     "name": "q2.1",
     "points": 0,
     "suites": [
      {
       "cases": [
        {
         "code": ">>> assert isinstance(A, np.ndarray), 'your A matrix is not of the right type, should be a np.ndarray.'\n",
         "hidden": false,
         "locked": false,
         "points": 0
        },
        {
         "code": ">>> assert isinstance(b, np.ndarray), 'your b vector is not of the right type, should be a np.ndarray.'\n",
         "hidden": false,
         "locked": false,
         "points": 0
        },
        {
         "code": ">>> assert np.linalg.matrix_rank(A) == 4, 'your A matrix rank is not 4, most likely your system is not linearly independent.'\n",
         "hidden": false,
         "locked": false,
         "points": 0
        },
        {
         "code": ">>> A_flatCheck = np.array([0.02, 0.02, 0.03, 0.03, 0.05, 0.05, 0.05, 0.05, 0.07, 0.08, 0.1, 0.15, 0.7, 0.8, 0.9, 0.9])\n>>> A_flat = np.ndarray.flatten(A)\n>>> A_flat = np.sort(A_flat)\n>>> assert np.allclose(A_flat, A_flatCheck, rtol=0.01), 'Your matrix A contains incorrect values.'\n",
         "hidden": false,
         "locked": false,
         "points": 0
        },
        {
         "code": ">>> b_flatCheck = np.array([1.5, 2.0, 3.0, 3.5])\n>>> b_flat = np.sort(b)\n>>> assert np.allclose(b_flat, b_flatCheck, rtol=0.01), 'Your vector b contains incorrect values.'\n",
         "hidden": false,
         "locked": false,
         "points": 0
        }
       ],
       "scored": true,
       "setup": "",
       "teardown": "",
       "type": "doctest"
      }
     ]
    },
    "q2.2": {
     "name": "q2.2",
     "points": 0,
     "suites": [
      {
       "cases": [
        {
         "code": ">>> C_check = np.array(([0, 1.95652], [-0.22581, 0]))\n>>> g_check = np.array([1.82609, -0.58065])\n>>> assert isinstance(fixed_point_iteration(C_check, g_check, np.array([0, 0]), 100, 0.01), np.ndarray), 'Your function is not returning a variable of the right type, should be a numpy array.'\n",
         "hidden": false,
         "locked": false,
         "points": 0
        },
        {
         "code": ">>> C = np.array([[0.5]])\n>>> g = np.array([1.0])\n>>> x0 = np.array([0.0])\n>>> x_fp = fixed_point_iteration(C, g, x0, max_iter=100, eps=1e-08)\n>>> assert np.allclose(x_fp, [2.0], 0.0001), f'Expected [2.0], got {x_fp}'\n",
         "hidden": false,
         "locked": false,
         "points": 0
        },
        {
         "code": ">>> C = np.array([[0.2, 0.1], [0.1, 0.2]])\n>>> g = np.array([1.0, 2.0])\n>>> x0 = np.array([0.0, 0.0])\n>>> x_fp = fixed_point_iteration(C, g, x0, max_iter=10, eps=1e-08)\n>>> assert np.allclose(x_fp, np.array([1.58728893, 2.69840005]), rtol=0.01), 'Your implementation of the fixed point iteration method does not return the correct approximation in this 2D test case.'\n",
         "hidden": false,
         "locked": false,
         "points": 0
        },
        {
         "code": ">>> C = np.array([[0.99]])\n>>> g = np.array([0.0])\n>>> x0 = np.array([100])\n>>> x_fp = fixed_point_iteration(C, g, x0, max_iter=2, eps=1e-20)\n>>> assert isinstance(x_fp, np.ndarray), 'Output is not a numpy array in case maximum number of iterations is reached.'\n",
         "hidden": false,
         "locked": false,
         "points": 0
        }
       ],
       "scored": true,
       "setup": "",
       "teardown": "",
       "type": "doctest"
      }
     ]
    },
    "q2.3": {
     "name": "q2.3",
     "points": 0,
     "suites": [
      {
       "cases": [
        {
         "code": ">>> assert np.linalg.norm(A @ gauss_seidel(A, b, x0, 100, 1e-09) - b) < 0.01, \"Absolute error doesn't meet requirements for your gauss_seidel function, should be less than 1e-9.\"\n",
         "hidden": false,
         "locked": false,
         "points": 0
        },
        {
         "code": ">>> A_test = np.array([[10, -2, 1, -1, 1, 1, 1], [-2, 9, -2, 1, -1, 1, 1], [1, -2, 8, -2, 1, -1, 1], [-1, 1, -2, 7, -2, 1, -1], [1, -1, 1, -2, 6, -2, 1], [1, 1, -1, 1, -2, 5, -2], [1, 1, 1, -1, 1, -2, 4]])\n>>> b_test = np.array([15, 12, 9, 6, 5, 4, 3])\n>>> x_test = np.linalg.solve(A_test, b_test)\n>>> x1 = gauss_seidel(A_test, b_test, np.zeros(len(x_test)), 100, 1e-09)\n>>> assert np.allclose(x_test, x1, rtol=1e-05), 'Your gauss_seidel function failed to solve a randomly generated 7x7 linear system.'\n",
         "hidden": false,
         "locked": false,
         "points": 0
        },
        {
         "code": ">>> assert isinstance(x0, np.ndarray), 'Your initial guess x0 is of the wrong type, it should be of type np.ndarray'\n",
         "hidden": false,
         "locked": false,
         "points": 0
        },
        {
         "code": ">>> assert x0.shape == (4,), 'Your initial guess x0 does not have the correct shape.'\n",
         "hidden": false,
         "locked": false,
         "points": 0
        },
        {
         "code": ">>> assert isinstance(x_gauss_seidel, np.ndarray), 'The solution of your Gauss-Seidel algorithm is of the wrong type'\n",
         "hidden": false,
         "locked": false,
         "points": 0
        },
        {
         "code": ">>> assert isinstance(y, np.ndarray), 'The solution of your implementation of np.linalg.solve is of the wrong type. It should be np.ndarray.'\n",
         "hidden": false,
         "locked": false,
         "points": 0
        }
       ],
       "scored": true,
       "setup": "",
       "teardown": "",
       "type": "doctest"
      }
     ]
    },
    "q3.1": {
     "name": "q3.1",
     "points": 0,
     "suites": [
      {
       "cases": [
        {
         "code": ">>> assert flow == 1, 'Flow variable has wrong value'\n",
         "hidden": false,
         "locked": false,
         "points": 0
        },
        {
         "code": ">>> assert vol == 100, 'Volume variable has wrong value'\n",
         "hidden": false,
         "locked": false,
         "points": 0
        },
        {
         "code": ">>> assert cAin == 1, 'cAin variable has wrong value'\n",
         "hidden": false,
         "locked": false,
         "points": 0
        },
        {
         "code": ">>> assert cBin == 2, 'cBin variable has wrong value'\n",
         "hidden": false,
         "locked": false,
         "points": 0
        },
        {
         "code": ">>> assert cCin == 0, 'cCin variable has wrong value'\n",
         "hidden": false,
         "locked": false,
         "points": 0
        },
        {
         "code": ">>> assert cDin == 0, 'cDin variable has wrong value'\n",
         "hidden": false,
         "locked": false,
         "points": 0
        },
        {
         "code": ">>> assert k1 == 1, 'k1 variable has wrong value'\n",
         "hidden": false,
         "locked": false,
         "points": 0
        },
        {
         "code": ">>> assert k2 == 1, 'k2 variable has wrong value'\n",
         "hidden": false,
         "locked": false,
         "points": 0
        }
       ],
       "scored": true,
       "setup": "",
       "teardown": "",
       "type": "doctest"
      }
     ]
    },
    "q3.2": {
     "name": "q3.2",
     "points": 0,
     "suites": [
      {
       "cases": [
        {
         "code": ">>> x = np.array([1.0, 2.0, 3.0, 4.0])\n>>> p = np.array([1.0, 2.0, 3.0, 4.0, 5.0, 6.0, 7.0, 8.0])\n>>> result = func_CSTR(x, p)\n>>> assert isinstance(result, np.ndarray), 'Your result is of the wrong type.'\n",
         "hidden": false,
         "locked": false,
         "points": 0
        },
        {
         "code": ">>> x = np.array([1.0, 2.0, 3.0, 4.0])\n>>> p = np.array([1.0, 2.0, 3.0, 4.0, 5.0, 6.0, 7.0, 8.0])\n>>> result = func_CSTR(x, p)\n>>> assert result.shape == (4,), 'Your result is of the wrong shape.'\n",
         "hidden": false,
         "locked": false,
         "points": 0
        },
        {
         "code": ">>> x = np.array([1.0, 2.0, 3.0, 4.0])\n>>> p = np.array([1.0, 2.0, 3.0, 4.0, 5.0, 6.0, 7.0, 8.0])\n>>> expected = np.array([-8, -56, -32, 52])\n>>> result = func_CSTR(x, p)\n>>> assert np.allclose(result, expected, rtol=1e-05), 'Your result is not close to the intended result for a random selection of x and p.'\n",
         "hidden": false,
         "locked": false,
         "points": 0
        }
       ],
       "scored": true,
       "setup": "",
       "teardown": "",
       "type": "doctest"
      }
     ]
    },
    "q3.3": {
     "name": "q3.3",
     "points": 0,
     "suites": [
      {
       "cases": [
        {
         "code": ">>> x = np.array([1.0, 2.0, 3.0, 4.0])\n>>> p = np.array([1.0, 2.0, 3.0, 4.0, 5.0, 6.0, 7.0, 8.0])\n>>> result = jacobian_CSTR(x, p)\n>>> assert result.shape == (4, 4), 'Your result is of the wrong shape.'\n",
         "hidden": false,
         "locked": false,
         "points": 0
        },
        {
         "code": ">>> x = np.array([1.0, 2.0, 3.0, 4.0])\n>>> p = np.array([1.0, 2.0, 3.0, 4.0, 5.0, 6.0, 7.0, 8.0])\n>>> result = jacobian_CSTR(x, p)\n>>> assert isinstance(result, np.ndarray), 'Your result is of the wrong data type.'\n",
         "hidden": false,
         "locked": false,
         "points": 0
        },
        {
         "code": ">>> x = np.array([1.0, 2.0, 3.0, 4.0])\n>>> p = np.array([1.0, 2.0, 3.0, 4.0, 5.0, 6.0, 7.0, 8.0])\n>>> expected = np.array([[-13, -6, 0, 0], [-12, -31, -16, 0], [12, -18, -17, 0], [0, 24, 16, -1]])\n>>> result = jacobian_CSTR(x, p)\n>>> assert np.allclose(result, expected, rtol=1e-05), 'Your result is not close to the intended result for a random selection of x and p.'\n",
         "hidden": false,
         "locked": false,
         "points": 0
        },
        {
         "code": ">>> x = np.array([1.0, 2.0, 3.0, 4.0])\n>>> p = np.array([1.0, 2.0, 3.0, 4.0, 5.0, 6.0, 7.0, 8.0])\n>>> expected = np.array([[-13, -6, 0, 0], [-12, -31, -16, 0], [12, -18, -17, 0], [0, 24, 16, -1]])\n>>> result = jacobian_CSTR(x, p)\n>>> assert np.allclose(result, expected, rtol=1e-05), 'Your result is not close to the intended result for a random selection of x and p.'\n",
         "hidden": false,
         "locked": false,
         "points": 0
        }
       ],
       "scored": true,
       "setup": "",
       "teardown": "",
       "type": "doctest"
      }
     ]
    },
    "q3.4": {
     "name": "q3.4",
     "points": 0,
     "suites": [
      {
       "cases": [
        {
         "code": ">>> x = np.array([4.0, 5.0, 2.0, 1.0])\n>>> p = np.array([10.0, 9.0, 12.0, 1.0, 1.0, 5.0, 3.0, 8.0])\n>>> result = newton_raphson(x, p)\n>>> assert isinstance(result, np.ndarray), 'Your result is not of type np.ndarray'\n",
         "hidden": false,
         "locked": false,
         "points": 0
        },
        {
         "code": ">>> x = np.array([4.0, 5.0, 2.0, 1.0])\n>>> p = np.array([10.0, 9.0, 12.0, 1.0, 1.0, 5.0, 3.0, 8.0])\n>>> expected = np.array([0.05230835, 1.67753765, 1.57292095, 10.3747707])\n>>> result = newton_raphson(x, p)\n>>> assert np.allclose(result, expected, rtol=1e-05), 'Your result is not close to the intended result for a random selection of x and p.'\n",
         "hidden": false,
         "locked": false,
         "points": 0
        }
       ],
       "scored": true,
       "setup": "",
       "teardown": "",
       "type": "doctest"
      }
     ]
    },
    "q3.5": {
     "name": "q3.5",
     "points": 0,
     "suites": [
      {
       "cases": [
        {
         "code": ">>> x = np.array([4.0, 5.0, 2.0, 1.0])\n>>> p = np.array([10.0, 9.0, 12.0, 1.0, 1.0, 5.0, 3.0, 8.0])\n>>> expected = np.array([0.05230835, 1.67753765, 1.57292095, 10.3747707])\n>>> result = newton_raphson(x, p)\n>>> assert np.allclose(result, expected, rtol=1e-05), 'Your result is not close to the intended result for a random selection of x and p.'\n",
         "hidden": false,
         "locked": false,
         "points": 0
        }
       ],
       "scored": true,
       "setup": "",
       "teardown": "",
       "type": "doctest"
      }
     ]
    }
   }
  }
 },
 "nbformat": 4,
 "nbformat_minor": 5
}
