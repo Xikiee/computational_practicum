{
 "cells": [
  {
   "attachments": {},
   "cell_type": "markdown",
   "id": "2e71275f",
   "metadata": {
    "cell_marker": "\"\"\"",
    "deletable": false,
    "editable": false,
    "nbgrader": {
     "grade": false,
     "locked": true,
     "solution": false
    }
   },
   "source": [
    "# CP 2024-25: Assignment Lecture 2 - Nonlinear equations in R"
   ]
  },
  {
   "cell_type": "markdown",
   "id": "2404c63d",
   "metadata": {},
   "source": [
    "### General Guidelines\n",
    "\n",
    "> ⚠️⚠️⚠️ READ CAREFULLY ⚠️⚠️⚠️\n",
    "\n",
    "- Do not add, delete or create cells, write the answer only in the space marked with the three dots (`...`). Where function skeletons are provided, it is assumed that that function can be called again with different inputs somewhere else. So be careful to write code outside of functions.\n",
    "  - Function should be ['pure'](https://en.wikipedia.org/wiki/Pure_function), thus no side effects, unless otherwise specified.\n",
    "- Run the the first cell to import all libraries when opening the notebook before running your own code.\n",
    "- Read carefully what is required to be printed/returned/plotted in the answer. Please do not output what is not asked for. \n",
    "  - If you used the print function for debugging, comment it out ( Ctlr + / ) before submitting\n",
    "- All plots should have title, xlabel, ylabel, and legend (if there are more than one curve on the plot)\n",
    "- Use the `help()` function, consult python documentation when using new functions, or do a web search and consult [stackoverflow](https://stackoverflow.com/questions/tagged/python)\n",
    "- Please read the error messages if you get any, and try to understand what they mean. Debugging code is an essential skill to develop.\n",
    "- You can use `%debug` to start an IPython console in a cell (or a scratchpad cell!) after an exception has occurred to try to debug.\n",
    "- You can use `%pdb` to toggle the Python DeBugger (pdb) auto start after an unhandled exception.\n",
    "- In the assignments you will find some tests put in place, to help you verify your solution. If these fail you are certain you did something wrong, thus look at the hints they provide. But passing these tests does __not__ mean your solution is actually correct.\n",
    "\n",
    "Make sure you use `python3.11` and the package versions as stated in the provided `requirements.txt`. This file should also be on the course page."
   ]
  },
  {
   "cell_type": "code",
   "execution_count": null,
   "id": "0b5f98fb",
   "metadata": {
    "nbgrader": {
     "grade": false,
     "locked": true,
     "solution": false
    }
   },
   "outputs": [
    {
     "name": "stdout",
     "output_type": "stream",
     "text": [
      "Python version 3.12.10 (v3.12.10:0cc81280367, Apr  8 2025, 08:46:59) [Clang 13.0.0 (clang-1300.0.29.30)]\n",
      "Successfully imported numpy           \tVersion:      2.3.2\n",
      "Successfully imported scipy           \tVersion:     1.16.1\n",
      "Successfully imported matplotlib      \tVersion:     3.10.5\n",
      "Finished importing packages\n"
     ]
    }
   ],
   "source": [
    "# Importing relevant libraries in the assignment\n",
    "\n",
    "# This will create static plots (no zooming etc.)\n",
    "# otherwise try just plain `%matplotlib`, or install a backend such as ipympl or PyQt5 and\n",
    "# do or `%matplotlib ipympl` `%matplotlib qt`\n",
    "%matplotlib inline\n",
    "\n",
    "REPEAT_IMPORTS = True\n",
    "\n",
    "if REPEAT_IMPORTS or (\"IMPORTED_ALL\" not in globals()):  # To save you a bit of time\n",
    "\n",
    "    def print_import_info(package):\n",
    "        print(\n",
    "            \"Successfully imported %-15s \\tVersion: %10s\"\n",
    "            % (package.__name__, package.__version__)\n",
    "        )\n",
    "\n",
    "    ### Standard library imports\n",
    "\n",
    "    import sys\n",
    "\n",
    "    print(\"Python version {}\".format(sys.version))\n",
    "    if sys.version_info < (3, 11):\n",
    "        print(\n",
    "            \"\\u001b[31m\"  # red\n",
    "            \"\\u001b[1m\"  # bold\n",
    "            \"WARNING: Use Python 3.11 or newer to not encounter any errors or \"\n",
    "            \"problems later on.\\n\"\n",
    "            \"\\u001b[0m\"  # reset\n",
    "        )\n",
    "    del sys  # Do not need it anymore\n",
    "\n",
    "    import functools\n",
    "    import math\n",
    "    import typing\n",
    "    from typing import Callable, List, Optional, Tuple, Union\n",
    "\n",
    "    ### Import third party libraries\n",
    "    # Initialize self assessment helper\n",
    "    import otter\n",
    "\n",
    "    grader = otter.Notebook(\"Assignment_Q1_L2.ipynb\")\n",
    "\n",
    "    import numpy as np\n",
    "    import numpy.typing as npt\n",
    "\n",
    "    print_import_info(np)\n",
    "    import scipy\n",
    "\n",
    "    print_import_info(scipy)\n",
    "    import matplotlib\n",
    "    import matplotlib.pyplot as plt\n",
    "\n",
    "    print_import_info(matplotlib)\n",
    "\n",
    "    IMPORTED_ALL = True\n",
    "    print(\"Finished importing packages\")\n",
    "else:\n",
    "    print(\"Already imported all packages\")"
   ]
  },
  {
   "cell_type": "markdown",
   "id": "da6b3da2",
   "metadata": {},
   "source": [
    "# Part 1: Calculus Recap"
   ]
  },
  {
   "cell_type": "markdown",
   "id": "2c791065",
   "metadata": {},
   "source": [
    "### Question 1: The Jacobian\n",
    "Consider the set of functions $\\mathbf{f}=(f_1, f_2)$: \n",
    "\n",
    "$f_1(x_1, x_2)=6x_1^3 + 2x_1x_2^2 + \\cos(x_2^2)$\n",
    "\n",
    "$f_2(x_1, x_2)=9x_2^2 + 2x_1^4 + x_2^2x_1^9$\n",
    "\n",
    "Please write a function `jacobian_manual` that computes the jacobian of $\\mathbf{f}$."
   ]
  },
  {
   "cell_type": "code",
   "execution_count": null,
   "id": "73e64c82",
   "metadata": {
    "tags": []
   },
   "outputs": [],
   "source": [
    "def jacobian_manual(x1: float, x2: float) -> np.ndarray:\n",
    "    \"\"\"\n",
    "    Function to manually compute the jacobian matrix for the given set of functions f1 and f2\n",
    "    Args:\n",
    "        x1 (float): value of variable x1\n",
    "        x2 (float): value of variable x2\n",
    "    Returns:\n",
    "        jacobian (np.ndarray)\n",
    "    \"\"\"\n",
    "\n",
    "    f_1 = 6*(x1**3) + 2*x1*(x2**2) + np.cos(x2**2)\n",
    "    f_2 = 9*(x2**2) + 2*(x1**4) + x2**2*x1**9\n",
    "\n",
    "    jacobian = np.zeros((2,2))\n",
    "    jacobian[0,0] = 18*x1**2 + 2*x2**2 \n",
    "    jacobian[0,1] = 0 + 4*x1*x2 - 2*x2*np.sin(x2**2)\n",
    "    jacobian[1,0] = 0 + 8*x1**3 + 9*x2**2*x1**8\n",
    "    jacobian[1,1] = 18*x2 + 0 + 2*x2*x1**9\n",
    "\n",
    "\n",
    "    return jacobian"
   ]
  },
  {
   "cell_type": "code",
   "execution_count": null,
   "id": "1389ba64",
   "metadata": {
    "deletable": false,
    "editable": false
   },
   "outputs": [
    {
     "data": {
      "text/html": [
       "<p><strong><pre style='display: inline;'>q1.1</pre></strong> passed! 🚀</p>"
      ],
      "text/plain": [
       "q1.1 results: All test cases passed!"
      ]
     },
     "execution_count": 111,
     "metadata": {},
     "output_type": "execute_result"
    }
   ],
   "source": [
    "grader.check(\"q1.1\")"
   ]
  },
  {
   "cell_type": "markdown",
   "id": "7f430fb9",
   "metadata": {},
   "source": [
    "### Question 2: Gradient\n",
    "Define a function `f_value` that computes the output of the function $f(x_1, x_2)=3x_1^2 + 2x_1x_2 + x_2^2$."
   ]
  },
  {
   "cell_type": "code",
   "execution_count": null,
   "id": "87a96e24",
   "metadata": {
    "tags": []
   },
   "outputs": [],
   "source": [
    "def f_value(x1: float, x2: float) -> float:\n",
    "    \"\"\"\n",
    "    This python function computes the value of the given function f(X1,x2)\n",
    "\n",
    "    Args:\n",
    "        x1 (float): Variable x1\n",
    "        x2 (float): Variable x2\n",
    "\n",
    "    Returns:\n",
    "        f (float): function value of f given x1 and x2\n",
    "    \"\"\"\n",
    "\n",
    "    f = 3*x1**2 + 2*x1*x2 + x2**2\n",
    "    return f"
   ]
  },
  {
   "cell_type": "markdown",
   "id": "6c259e15",
   "metadata": {},
   "source": [
    "Next, define a function `gradient_manual` that computes the gradient of $f(x_1, x_2)$ given $x_1$ and $x_2$."
   ]
  },
  {
   "cell_type": "code",
   "execution_count": null,
   "id": "a0c345ca",
   "metadata": {
    "tags": []
   },
   "outputs": [],
   "source": [
    "def gradient_manual(x1: float, x2: float) -> np.ndarray:\n",
    "    \"\"\"\n",
    "    This function computes the gradient of the function f(x1,x2)\n",
    "    Args:\n",
    "        x1 (float): variable x1\n",
    "        x2 (float): variable x2\n",
    "    Returns:\n",
    "        grad_f (np.ndarray): gradient of f\n",
    "    \"\"\"\n",
    "    \n",
    "\n",
    "    grad_f = np.zeros((2,1))\n",
    "    grad_f[0,0] = 6*x1 + 2*x2 + 0 \n",
    "    grad_f[1,0] = 0 + 2*x1 + 2*x2\n",
    "\n",
    "\n",
    "    \n",
    "    return grad_f"
   ]
  },
  {
   "cell_type": "code",
   "execution_count": null,
   "id": "6b890090",
   "metadata": {
    "deletable": false,
    "editable": false
   },
   "outputs": [
    {
     "data": {
      "text/html": [
       "<p><strong><pre style='display: inline;'>q1.2</pre></strong> passed! 🌟</p>"
      ],
      "text/plain": [
       "q1.2 results: All test cases passed!"
      ]
     },
     "execution_count": 114,
     "metadata": {},
     "output_type": "execute_result"
    }
   ],
   "source": [
    "grader.check(\"q1.2\")"
   ]
  },
  {
   "cell_type": "markdown",
   "id": "f07bb368",
   "metadata": {},
   "source": [
    "Now, test the `f_value` and `gradient_manual` at $x_1$ = 1.0 and $x_2$ = 2.0."
   ]
  },
  {
   "cell_type": "code",
   "execution_count": null,
   "id": "611c8f4b",
   "metadata": {},
   "outputs": [
    {
     "name": "stdout",
     "output_type": "stream",
     "text": [
      "The function value at (x1, x2) = (1.0, 2.0): 11.0\n",
      "Manual gradient at (x1, x2) = (1.0, 2.0): [[10.]\n",
      " [ 6.]]\n"
     ]
    }
   ],
   "source": [
    "x1, x2 = 1.0, 2.0\n",
    "function_value = f_value(x1, x2)\n",
    "print(f\"The function value at (x1, x2) = ({x1}, {x2}): {function_value}\")\n",
    "gradient = gradient_manual(x1, x2)\n",
    "print(f\"Manual gradient at (x1, x2) = ({x1}, {x2}): {gradient}\")"
   ]
  },
  {
   "cell_type": "markdown",
   "id": "65bfa4bf",
   "metadata": {},
   "source": [
    "### Question 3: The Hessian\n",
    "Define a function `hessian_manual` that returns the values of the hessian matrix of the function $f(x_1, x_2)= sin(x_2)x_1+ln(x_2)+x_1^2x_2^3$"
   ]
  },
  {
   "cell_type": "code",
   "execution_count": null,
   "id": "26549386",
   "metadata": {
    "tags": []
   },
   "outputs": [],
   "source": [
    "def hessian_manual(x1: float, x2: float) -> np.ndarray:\n",
    "    \"\"\"\n",
    "    This function returns the hessian matrix of function f(x1,x2)=sin(x2)x1 + ln(x2) + x1^2 x2^3\n",
    "    Args:\n",
    "        x1 (float): variable x1\n",
    "        x2 (float): variable x2\n",
    "    Returns:\n",
    "        hessian_f (np.ndarray): hessian of f\n",
    "    \"\"\"\n",
    "\n",
    "    hessian_f = np.zeros((2,2))\n",
    "\n",
    "    hessian_f[0,0] = 0 + 0 +2*x2**3\n",
    "    hessian_f[0,1] = np.cos(x2) + 0 + 6*x1*x2**2\n",
    "    hessian_f[1,0] = np.cos(x2) + 0 +6*x1*x2**2\n",
    "    hessian_f[1,1] = -np.sin(x2)*x1 - 1/(x2**2) + 6*x1**2*x2\n",
    "    return hessian_f"
   ]
  },
  {
   "cell_type": "code",
   "execution_count": null,
   "id": "42ba1d90",
   "metadata": {
    "deletable": false,
    "editable": false
   },
   "outputs": [
    {
     "data": {
      "text/html": [
       "<p><strong><pre style='display: inline;'>q1.3</pre></strong> passed! 🎉</p>"
      ],
      "text/plain": [
       "q1.3 results: All test cases passed!"
      ]
     },
     "execution_count": 117,
     "metadata": {},
     "output_type": "execute_result"
    }
   ],
   "source": [
    "grader.check(\"q1.3\")"
   ]
  },
  {
   "cell_type": "markdown",
   "id": "9d8f39a4",
   "metadata": {},
   "source": [
    "### Question 4: Taylor polynomials\n",
    "Define a function `taylor_sin` that takes the input arguments `x` and `degree` that computes the Taylor polynomial of $sin(x)$ at position 0. Hint: the sine function can be written as a power series. Check it out, this could make it easier for you to formulate the Taylor approximation."
   ]
  },
  {
   "cell_type": "code",
   "execution_count": null,
   "id": "ffd6adcd",
   "metadata": {
    "tags": []
   },
   "outputs": [],
   "source": [
    "def taylor_sin(x: np.ndarray, degree: int) -> np.ndarray:\n",
    "    \"\"\"\n",
    "    Compute the Taylor series approximation for sin(x) at point 0 up to the given degree.\n",
    "    Args:\n",
    "        x (np.ndarray): x values\n",
    "        degree (int): degree of Taylor polynomial\n",
    "    Returns:\n",
    "        approximation (np.ndarray): Taylor approximation for the specified degree\n",
    "    \"\"\"\n",
    "\n",
    "    # approximation = np.zeros((len(degree)),1)\n",
    "    # for d in degree:\n",
    "    #     for n in range(1, degree+1, 2):\n",
    "    #         approximation[d,0] =((-1)**((n-1)//2)) * (x**n)/math.factorial(n)\n",
    "\n",
    "    approximation = np.zeros_like(x)\n",
    "\n",
    "    for n in range(1,degree+1,2):\n",
    "        approximation +=((-1)**((n-1)//2))*(x**n)/math.factorial(n)\n",
    "\n",
    "    return approximation    "
   ]
  },
  {
   "cell_type": "code",
   "execution_count": null,
   "id": "874a97ae",
   "metadata": {
    "deletable": false,
    "editable": false
   },
   "outputs": [
    {
     "data": {
      "text/html": [
       "<p><strong><pre style='display: inline;'>q1.4</pre></strong> passed! 🚀</p>"
      ],
      "text/plain": [
       "q1.4 results: All test cases passed!"
      ]
     },
     "execution_count": 119,
     "metadata": {},
     "output_type": "execute_result"
    }
   ],
   "source": [
    "grader.check(\"q1.4\")"
   ]
  },
  {
   "cell_type": "markdown",
   "id": "b7a8fa49",
   "metadata": {},
   "source": [
    "In the following, we compute Taylor polynomials for varying degrees."
   ]
  },
  {
   "cell_type": "code",
   "execution_count": null,
   "id": "128db5f6",
   "metadata": {},
   "outputs": [],
   "source": [
    "def plot_taylor_sin(x_values: np.ndarray, degrees: int) -> None:\n",
    "    \"\"\"Plot the Taylor polynomial approximation against the actual sin(x).\"\"\"\n",
    "    plt.figure(figsize=(10, 6))\n",
    "    for degree in degrees:\n",
    "        y_taylor = taylor_sin(x_values, degree)\n",
    "        plt.plot(x_values, y_taylor, label=f\"Taylor Degree {degree}\")\n",
    "    plt.plot(x_values, np.sin(x_values), label=\"sin(x)\", color=\"black\", linewidth=1)\n",
    "    plt.ylim([-2, 2])\n",
    "    plt.legend()\n",
    "    plt.xlabel(\"x\")\n",
    "    plt.ylabel(\"y\")\n",
    "    plt.title(\"Taylor Series Approximation of sin(x)\")\n",
    "    plt.grid(True)\n",
    "    plt.show()\n",
    "\n",
    "    "
   ]
  },
  {
   "cell_type": "code",
   "execution_count": null,
   "id": "eee0e125",
   "metadata": {},
   "outputs": [
    {
     "data": {
      "image/png": "[encoded data removed]",
      "text/plain": [
       "<Figure size 1000x600 with 1 Axes>"
      ]
     },
     "metadata": {},
     "output_type": "display_data"
    }
   ],
   "source": [
    "# Test and plot the Taylor approximation\n",
    "x_values = np.linspace(-2 * math.pi, 2 * math.pi, 400)\n",
    "degrees = [0, 1, 3, 5, 7, 9]\n",
    "plot_taylor_sin(x_values, degrees)"
   ]
  },
  {
   "cell_type": "markdown",
   "id": "9ca4ce5c",
   "metadata": {},
   "source": [
    "# Part 2: Solving for the Darcy Friction Factor Using the Colebrook-White Equation"
   ]
  },
  {
   "cell_type": "markdown",
   "id": "e79539f9",
   "metadata": {},
   "source": [
    "In chemical and process engineering, studying the flow of fluids through pipes is a fundamental concern. One critical aspect is related to the frictional loss, which is quantified by the pressure drop along the pipe. This pressure drop is significantly influenced by the Darcy friction factor, $f$, which depends on the pipe's characteristics and the flow conditions.\n",
    "\n",
    "The Darcy friction factor for turbulent flow is commonly estimated using the Colebrook-White equation, a semi-empirical formula derived from experimental data. This equation relates the friction factor to the pipe's roughness, its diameter, and the Reynolds number of the flow. However, the equation is implicit in $f$, meaning $f$ appears on both sides of the equation, making it challenging to solve directly. Hence, numerical methods for solving nonlinear equations are typically used to find $f$.\n",
    "\n",
    "The Colebrook-White equation is given by:\n",
    "$$\n",
    " \\frac{1}{\\sqrt{f}} = -2 \\log_{10} \\left(\\frac{\\epsilon}{3.7D} + \\frac{2.51}{Re \\sqrt{f}}\\right)\n",
    "$$\n",
    "\n",
    "Where:\n",
    "- $\\epsilon$ is the absolute roughness of the pipe $[m]$,\n",
    "- $D$ is the internal diameter of the pipe $[m]$,\n",
    "- $Re$ is the Reynolds number, a dimensionless quantity representing the ratio of inertial forces to viscous forces.\n",
    "\n",
    "For the purpose of this task, the parameters are set as follows to simplify the problem and focus on the method of solution:\n",
    "- **Pipe roughness** ($ \\epsilon $): 0.0001 $[m]$\n",
    "- **Pipe diameter** ($ D $): 0.05 $[m]$\n",
    "- **Reynolds number** ($ Re $): 100,000\n",
    "\n",
    "These parameters are typical for scenarios involving water flow in small to medium-sized commercial steel pipes."
   ]
  },
  {
   "cell_type": "markdown",
   "id": "101f80f0",
   "metadata": {},
   "source": [
    "The task for the assignment comprises three steps:\n",
    "1. **Implement the Colebrook-White Equation**: Write a Python function named `colebrook_white` that computes the left side minus the right side of the Colebrook-White equation for a given friction factor $f$. This function should return zero when the correct $ f $ is found.\n",
    "2. **Implement the bisection method**: Write a Python function implementing the bisection method for solving generic nonlinear equations (further details will follow).\n",
    "3. **Solve for the Friction Factor**: Use the bisection method to numerically solve for $ f $ that satisfies the Colebrook-White equation. You will implement this in another function which uses `colebrook_white` to find the root.\n",
    "\n",
    "#### Educational Outcome\n",
    "\n",
    "You will learn how to apply numerical methods to solve implicit nonlinear equations commonly found in engineering. You will also gain practical experience in translating physical equations into computable functions and understand the importance of numerical precision and iterative solution methods."
   ]
  },
  {
   "cell_type": "markdown",
   "id": "5f2900b0",
   "metadata": {},
   "source": [
    "### Question 1. Implement the Colebrook-White Equation\n",
    "Write a Python function named `colebrook_white` that computes the left side minus the right side of the Colebrook-White equation for a given friction factor $f$. This function should return zero when the correct $ f $ is found."
   ]
  },
  {
   "cell_type": "code",
   "execution_count": null,
   "id": "4976cde9",
   "metadata": {
    "tags": []
   },
   "outputs": [],
   "source": [
    "# Define the Colebrook-White equation as a function of f\n",
    "def colebrook_white(f: float) -> float:\n",
    "    \"\"\"\n",
    "    The residual of the Colebrook-White equation for calculating\n",
    "    the Darcy friction factor in turbulent flow.\n",
    "\n",
    "    Parameters:\n",
    "        f (float): Darcy friction factor (dimensionless)\n",
    "\n",
    "    Returns:\n",
    "        residual (float): Residual of the Colebrook-White equation for the given friction factor\n",
    "    \"\"\"\n",
    "    e = 0.00001   #pipe roughness in [m]\n",
    "    D = 0.05      #pipe diameter in [m]\n",
    "    Re = 100000   #Reynolds number []\n",
    "\n",
    "    residual = 1/np.sqrt(f) + 2*np.log10 ((e/(3.7*D)) + 2.51/(Re*np.sqrt(f)))\n",
    "\n",
    "    return residual"
   ]
  },
  {
   "cell_type": "code",
   "execution_count": null,
   "id": "5e785ea5",
   "metadata": {
    "deletable": false,
    "editable": false
   },
   "outputs": [
    {
     "data": {
      "text/html": [
       "<p><strong><pre style='display: inline;'>q2.1</pre></strong> passed! 💯</p>"
      ],
      "text/plain": [
       "q2.1 results: All test cases passed!"
      ]
     },
     "execution_count": 150,
     "metadata": {},
     "output_type": "execute_result"
    }
   ],
   "source": [
    "grader.check(\"q2.1\")"
   ]
  },
  {
   "cell_type": "markdown",
   "id": "45340300",
   "metadata": {},
   "source": [
    "### Question 2: Bisection Method Implementation Task\n",
    "Implement a function that uses the bisection method to solve nonlinear equations. This method is used to find the root of a function $ f(x) $ within a specified interval $[a, b]$. \n",
    "The bisection method is an iterative technique for finding the root of a function. The method works by repeatedly dividing the interval $[a, b]$ in half and selecting the subinterval in which the function changes sign, indicating the presence of a root. This process continues until the function value at the midpoint is close enough to zero (as determined by a specified tolerance).\n",
    "\n",
    "- The algorithm should stop when the absolute value of the function at the midpoint, $ |f(c)| $, is less than a specified tolerance $ \\text{tol} $. This means that $ c $ is close enough to a root of the function.\n",
    "- The function should return `None` if the initial interval $[a, b]$ does not bracket a root. Specifically, if $ f(a) $ and $ f(b) $ have the same sign, it means that it cannot be guaranteed that there is a root in the interval. The function should return `None` when the conditions are not satisfied.\n",
    "- Make sure to not only check if the error is below the predetermined tolerance, but to also insert a maximum amount of iterations that must not be exceeded to prevent infinite looping.\n",
    "\n",
    "Here is the function prompt and docstring you need to implement:"
   ]
  },
  {
   "cell_type": "code",
   "execution_count": null,
   "id": "6f879253",
   "metadata": {
    "tags": []
   },
   "outputs": [
    {
     "data": {
      "text/plain": [
       "0.02510668754577637"
      ]
     },
     "execution_count": 177,
     "metadata": {},
     "output_type": "execute_result"
    }
   ],
   "source": [
    "def bisection_method(\n",
    "    func: Callable, a: float, b: float, tol: float, i_max: int = 100\n",
    ") -> Optional[float]:\n",
    "    \"\"\"\n",
    "    Solve a nonlinear equation using the bisection method.\n",
    "\n",
    "    Parameters:\n",
    "        func (Callable): The function for which we are trying to find a root.\n",
    "        a (float): The lower bound of the interval.\n",
    "        b (float): The upper bound of the interval.\n",
    "        tol (float): The absolute error tolerance for stopping criteria.\n",
    "        i_max (int): Maximum number of iterations.\n",
    "\n",
    "    Returns:\n",
    "        c (Optional[float]): The approximate root of the function.\n",
    "    \"\"\"\n",
    "    #\n",
    "    i = 0\n",
    "    while b-a>tol  and i < i_max:\n",
    "        if func(a)*func(b) <0:  \n",
    "            c = (a+b)/2\n",
    "            if func(a)*func(c)>0:\n",
    "                a = c\n",
    "            else:\n",
    "                b = c\n",
    "        elif func(a)*func(b) > 0:\n",
    "            return None\n",
    "        i +=1\n",
    "    #\n",
    "        \n",
    "\n",
    "    return c\n",
    "\n",
    "bisection_method(colebrook_white, 0.01, 0.08, 10**(-7),100)"
   ]
  },
  {
   "cell_type": "code",
   "execution_count": null,
   "id": "0e120601",
   "metadata": {
    "deletable": false,
    "editable": false
   },
   "outputs": [
    {
     "data": {
      "text/html": [
       "<p><strong><pre style='display: inline;'>q2.2</pre></strong> passed! 🎉</p>"
      ],
      "text/plain": [
       "q2.2 results: All test cases passed!"
      ]
     },
     "execution_count": 175,
     "metadata": {},
     "output_type": "execute_result"
    }
   ],
   "source": [
    "grader.check(\"q2.2\")"
   ]
  },
  {
   "cell_type": "markdown",
   "id": "728e0e78",
   "metadata": {},
   "source": [
    "### Question 3: Solve now the Colebrook-White equation using the bisection method\n",
    "\n",
    "You can now solve the Colebrook-White equation by using the bisection method you implemented above.\n",
    "Here some engineering information:\n",
    "- The friction factor is a positive value\n",
    "- The friction factor can not be greater than 0.08 for turbulent flow in pipes.\n",
    "\n",
    "Please, find the Darcy friction factor by solving the nonlinear Colebrook-White equation using the bisection method that you implemented.\n",
    "\n",
    "- Extrapolate from above the initial interval\n",
    "- An absolute tolerance of $1 \\cdot 10^{-7}$ is required"
   ]
  },
  {
   "cell_type": "code",
   "execution_count": null,
   "id": "2e1f5799",
   "metadata": {
    "tags": []
   },
   "outputs": [
    {
     "name": "stdout",
     "output_type": "stream",
     "text": [
      "The Darcy friction factor is: 0.02510668754577637\n"
     ]
    }
   ],
   "source": [
    "# Test the function with the bisection method\n",
    "a = 0.01\n",
    "b = 0.08\n",
    "atol = 10**(-7)\n",
    "root = 0.02510668754577637\n",
    "print(f\"The Darcy friction factor is: {root}\")"
   ]
  },
  {
   "cell_type": "code",
   "execution_count": null,
   "id": "f6bace9f",
   "metadata": {
    "deletable": false,
    "editable": false
   },
   "outputs": [
    {
     "data": {
      "text/html": [
       "<p><strong><pre style='display: inline;'>q2.3</pre></strong> passed! 🌟</p>"
      ],
      "text/plain": [
       "q2.3 results: All test cases passed!"
      ]
     },
     "execution_count": 179,
     "metadata": {},
     "output_type": "execute_result"
    }
   ],
   "source": [
    "grader.check(\"q2.3\")"
   ]
  },
  {
   "cell_type": "markdown",
   "id": "9803419c",
   "metadata": {},
   "source": [
    "### Question 4: Use built-in functions"
   ]
  },
  {
   "cell_type": "markdown",
   "id": "1b5fe62e",
   "metadata": {},
   "source": [
    "Now, let's compare this to one of the built-in Python functions. In the lecture livecoding, we have seen `scipy.optimize.fsolve`. Now, use `scipy.optimize.root` and experiment a bit! Remember that `root` returns a `scipy.optimize._optimize.OptimizeResult` object which contains information about the solution process. Use `x0` equal to 0.05, and the `lm` method. Use a tolerance `tol` of 1E-7. Is the result you retrieve using the bisection method similar to `scipy.optimize.root`?"
   ]
  },
  {
   "cell_type": "code",
   "execution_count": null,
   "id": "4a6c4622",
   "metadata": {
    "tags": []
   },
   "outputs": [
    {
     "name": "stdout",
     "output_type": "stream",
     "text": [
      "The Darcy friction factor is: 0.025106645888418485 using scipy.optimize.root.\n"
     ]
    }
   ],
   "source": [
    "from scipy.optimize import root\n",
    "\n",
    "# Test the function with scipy.optimize.root\n",
    "x0 = 0.05\n",
    "method = \"lm\"\n",
    "tol = 1e-7\n",
    "\n",
    "# root(colebrook_white,x0,method=method,tol = tol)\n",
    "result = root(colebrook_white,x0,method=method,tol = tol)\n",
    "print(f\"The Darcy friction factor is: {result.x[0]} using scipy.optimize.root.\")"
   ]
  },
  {
   "cell_type": "code",
   "execution_count": null,
   "id": "d03ad62c",
   "metadata": {
    "deletable": false,
    "editable": false
   },
   "outputs": [
    {
     "data": {
      "text/html": [
       "<p><strong><pre style='display: inline;'>q2.4</pre></strong> passed! 🌈</p>"
      ],
      "text/plain": [
       "q2.4 results: All test cases passed!"
      ]
     },
     "execution_count": 185,
     "metadata": {},
     "output_type": "execute_result"
    }
   ],
   "source": [
    "grader.check(\"q2.4\")"
   ]
  }
 ],
 "metadata": {
  "jupytext": {
   "cell_markers": "\"\"\"",
   "formats": "ipynb,py:percent"
  },
  "kernelspec": {
   "display_name": ".venv",
   "language": "python",
   "name": "python3"
  },
  "language_info": {
   "codemirror_mode": {
    "name": "ipython",
    "version": 3
   },
   "file_extension": ".py",
   "mimetype": "text/x-python",
   "name": "python",
   "nbconvert_exporter": "python",
   "pygments_lexer": "ipython3",
   "version": "3.12.10"
  },
  "otter": {
   "OK_FORMAT": true,
   "assignment_name": "CP_Assignment_Q1_L2",
   "tests": {
    "q1.1": {
     "name": "q1.1",
     "points": 0,
     "suites": [
      {
       "cases": [
        {
         "code": ">>> # fmt: off\n>>> assert jacobian_manual(1,1)[0][0]==20, \"Check the [0,0] entry of the Jacbian\"\n>>> assert jacobian_manual(1,1)[1][1]==20, \"Check the [1,1] entry of the Jacbian\"\n>>> assert jacobian_manual(1,1)[1][0]==17, \"Check the [1,0] entry of the Jacbian\"\n>>> assert jacobian_manual(1,1).shape == (2,2), \"The shape of the Jacobian should be (2,2) but it is not\"\n>>> # fmt: on\n",
         "hidden": false,
         "locked": false,
         "points": 0
        }
       ],
       "scored": true,
       "setup": "",
       "teardown": "",
       "type": "doctest"
      }
     ]
    },
    "q1.2": {
     "name": "q1.2",
     "points": 0,
     "suites": [
      {
       "cases": [
        {
         "code": ">>> # fmt: off\n>>> assert f_value(0,0)==0.0, \"For x1=0 and x2=0, the result should be 0.0\"\n>>> assert f_value(2,3)==33, \"For x1=2 and x2=3, the result should be 33\"\n>>> assert f_value(6,-5)==73, \"For x1=6 and x2=-5, the result should be 73\"\n>>> # fmt: on\n",
         "hidden": false,
         "locked": false,
         "points": 0
        },
        {
         "code": ">>> # fmt: off\n>>> assert gradient_manual(0,0)[0]==0, \"For x1=0 and x2=0, the first entry of the gradient should be 0.0\"\n>>> assert gradient_manual(0,0)[1]==0, \"For x1=0 and x2=0, the second entry of the gradient should be 0.0\"\n>>> assert gradient_manual(33,50)[0]==298, \"For x1=33 and x2=50, the first entry of the gradient should be 0.0\"\n>>> assert gradient_manual(33,50)[1]==166, \"For x1=33 and x2=50, the second entry of the gradient should be 0.0\"\n>>> assert gradient_manual(20,-56)[0]==8, \"For x1=20 and x2=-56, the first entry of the gradient should be 0.0\"\n>>> assert gradient_manual(20,-56)[1]==-72, \"For x1=20 and x2=-56, the second entry of the gradient should be 0.0\"\n>>> \n>>> # fmt: on\n",
         "hidden": false,
         "locked": false,
         "points": 0
        }
       ],
       "scored": true,
       "setup": "",
       "teardown": "",
       "type": "doctest"
      }
     ]
    },
    "q1.3": {
     "name": "q1.3",
     "points": 0,
     "suites": [
      {
       "cases": [
        {
         "code": ">>> # fmt: off\n>>> assert hessian_manual(0,1)[0][0]==2, \"Check [0][0] entry of the Hessian\"\n>>> assert hessian_manual(0,1)[1][1]==-1, \"Check [1][0] entry of the Hessian\"\n>>> assert hessian_manual(0, 2*math.pi)[1][0]==1, \"Check [1][1] entry of the Hessian\"\n>>> assert hessian_manual(0, math.pi)[0][1]==-1, \"Check [0][1] entry of the Hessian\"\n>>> # fmt: on\n",
         "hidden": false,
         "locked": false,
         "points": 0
        }
       ],
       "scored": true,
       "setup": "",
       "teardown": "",
       "type": "doctest"
      }
     ]
    },
    "q1.4": {
     "name": "q1.4",
     "points": 0,
     "suites": [
      {
       "cases": [
        {
         "code": ">>> # fmt: off\n>>> # Test 1: Degree 0 should return 0 for all inputs since sin(0) = 0\n>>> x = np.array([0, np.pi/2, np.pi])\n>>> degree = 0\n>>> expected_output = np.zeros(len(x))\n>>> output = taylor_sin(x, degree)\n>>> assert np.allclose(output, expected_output), f\"Failed for degree {degree}: {output} != {expected_output}\"\n>>> # fmt: on\n",
         "hidden": false,
         "locked": false,
         "points": 0
        },
        {
         "code": ">>> # fmt: off\n>>> # Test 2: Degree 1 should approximate sin(x) as x (first term in the series)\n>>> x = np.array([0, np.pi/2, np.pi])\n>>> degree = 1\n>>> expected_output = x  # sin(x) ~ x for small x\n>>> output = taylor_sin(x, degree)\n>>> assert np.allclose(output, expected_output), f\"Failed for degree {degree}: {output} != {expected_output}\"\n>>> # fmt: on\n",
         "hidden": false,
         "locked": false,
         "points": 0
        },
        {
         "code": ">>> # fmt: off\n>>> # Test 3: Degree 2 should still behave like degree 1 since degree 2 does not contribute to the sin series\n>>> x = np.array([0, np.pi/2, np.pi])\n>>> degree = 2\n>>> expected_output = x  # sin(x) ~ x\n>>> output = taylor_sin(x, degree)\n>>> assert np.allclose(output, expected_output), f\"Failed for degree {degree}: {output} != {expected_output}\"\n>>> # fmt: on\n",
         "hidden": false,
         "locked": false,
         "points": 0
        },
        {
         "code": ">>> # fmt: off\n>>> # Test 4: Degree 3 should include the first two terms: sin(x) ~ x - x^3/3!\n>>> x = np.array([0, np.pi/2, np.pi])\n>>> degree = 3\n>>> expected_output = x - (x**3) / math.factorial(3)\n>>> output = taylor_sin(x, degree)\n>>> assert np.allclose(output, expected_output), f\"Failed for degree {degree}: {output} != {expected_output}\"\n>>> # fmt: on\n",
         "hidden": false,
         "locked": false,
         "points": 0
        },
        {
         "code": ">>> # fmt: off\n>>> # Test 5: Test for a higher degree to ensure the function continues correctly\n>>> x = np.array([0, np.pi/2, np.pi])\n>>> degree = 5\n>>> expected_output = x - (x**3)/math.factorial(3) + (x**5)/math.factorial(5)\n>>> output = taylor_sin(x, degree)\n>>> assert np.allclose(output, expected_output), f\"Failed for degree {degree}: {output} != {expected_output}\"\n>>> \n>>> # fmt: on\n",
         "hidden": false,
         "locked": false,
         "points": 0
        },
        {
         "code": ">>> # fmt: off\n>>> # Test 6: Test with a negative value of x\n>>> x = np.array([-np.pi/2])\n>>> degree = 3\n>>> expected_output = x - (x**3)/math.factorial(3)\n>>> output = taylor_sin(x, degree)\n>>> assert np.allclose(output, expected_output), f\"Failed for negative x: {output} != {expected_output}\"\n>>> # fmt: on\n",
         "hidden": false,
         "locked": false,
         "points": 0
        },
        {
         "code": ">>> # fmt: off\n>>> # Test 7: Ensure vectorization (i.e., handling numpy arrays correctly)\n>>> x = np.array([np.pi/6, np.pi/4, np.pi/3])\n>>> degree = 5\n>>> expected_output = x - (x**3)/math.factorial(3) + (x**5)/math.factorial(5)\n>>> output = taylor_sin(x, degree)\n>>> assert np.allclose(output, expected_output), f\"Failed for vectorized input: {output} != {expected_output}\"\n>>> # fmt: on\n",
         "hidden": false,
         "locked": false,
         "points": 0
        },
        {
         "code": ">>> # fmt: off\n>>> x_values = np.array([0.0])\n>>> degree = 1\n>>> result = taylor_sin(x_values, degree)\n>>> assert result[0] == 0.0, \"sin(0) must be 0!\"\n>>> # fmt: on\n",
         "hidden": false,
         "locked": false,
         "points": 0
        },
        {
         "code": ">>> # fmt: off\n>>> x_values = np.linspace(-2 * math.pi, 2 * math.pi, 400)\n>>> degree = 0\n>>> result = taylor_sin(x_values, degree)\n>>> assert len(result) != 0, \"In case the degree is equal to zero, the result must still be an array\"\n>>> # fmt: on\n",
         "hidden": false,
         "locked": false,
         "points": 0
        }
       ],
       "scored": true,
       "setup": "",
       "teardown": "",
       "type": "doctest"
      }
     ]
    },
    "q2.1": {
     "name": "q2.1",
     "points": 0,
     "suites": [
      {
       "cases": [
        {
         "code": ">>> # fmt: off\n>>> epsilon = 0.0001  # Pipe roughness (m)\n>>> D = 0.05  # Pipe diameter (m)\n>>> Re = 1e5  # Reynolds number\n>>> f = 0.03  # Example friction factor\n>>> expected_result = 1.0 / np.sqrt(f) + 2.0 * np.log10(epsilon / (3.7 * D) + 2.51 / (Re * np.sqrt(f)))\n>>> result = colebrook_white(f)\n>>> assert np.isclose(result, expected_result, atol=1e-7), \"Test 1 Failed: Check the logarithm base and parenthesis around the argument of log10.\"\n>>> # fmt: on\n",
         "hidden": false,
         "locked": false,
         "points": 0
        },
        {
         "code": ">>> # fmt: off\n>>> f = 1e-8\n>>> try:\n...     result = colebrook_white(f)\n...     assert np.isfinite(result), \"Test 2 Failed: Ensure there is no division by zero or log of a negative number for very small friction factors.\"\n... except ZeroDivisionError:\n...     print(\"Test 2 Failed: ZeroDivisionError likely due to very small friction factor.\")\n>>> # fmt: on\n",
         "hidden": false,
         "locked": false,
         "points": 0
        },
        {
         "code": ">>> # fmt: off\n>>> f = 1e2\n>>> result = colebrook_white(f)\n>>> assert np.isfinite(result), \"Test 3 Failed: Ensure the function handles very large friction factors without numerical issues.\"\n>>> # fmt: on\n",
         "hidden": false,
         "locked": false,
         "points": 0
        }
       ],
       "scored": true,
       "setup": "",
       "teardown": "",
       "type": "doctest"
      }
     ]
    },
    "q2.2": {
     "name": "q2.2",
     "points": 0,
     "suites": [
      {
       "cases": [
        {
         "code": ">>> # fmt: off\n>>> def f1(x: float) -> float:\n...     return x**3 - x - 2\n>>> root = bisection_method(f1, 1.0, 2.0, 1e-5)\n>>> assert np.isclose(root, 1.5213797, atol=1e-2), \"Test 1 Failed: The function may not be updating the interval correctly.\"\n>>> # fmt: on\n",
         "hidden": false,
         "locked": false,
         "points": 0
        },
        {
         "code": ">>> # fmt: off\n>>> def f2(x: float) -> float:\n...     return x**2 - 4\n>>> root = bisection_method(f2, 0, 3, 1e-5)\n>>> assert np.isclose(root, 2.0, atol=1e-2), \"Test 2 Failed: The function may not be updating the interval correctly.\"\n>>> # fmt: on\n",
         "hidden": false,
         "locked": false,
         "points": 0
        },
        {
         "code": ">>> # fmt: off\n>>> def f2(x: float) -> float:\n...     return x**2 - 4\n>>> assert (bisection_method(f2, 3, 4, 1e-5) == None), \"The function should return None when the initial interval does not bracket a root!\"\n>>> # fmt: on\n",
         "hidden": false,
         "locked": false,
         "points": 0
        },
        {
         "code": ">>> # fmt: off\n>>> def f2(x: float) -> float:\n...     return x**2 - 4\n>>> assert np.isclose(bisection_method(f2, -3, 0, 1e-5), -2.0, atol=1e-3), \"Test 4 Failed: The function may not be handling negative intervals correctly.\"\n>>> # fmt: on\n",
         "hidden": false,
         "locked": false,
         "points": 0
        },
        {
         "code": ">>> # fmt: off\n>>> def f2(x: float) -> float:\n...     return x**2 - 4\n>>> assert np.isclose(bisection_method(f2, 0, 3, 1e-10), 2.0, atol=1e-10), \"Test 5 Failed: The function may not be handling small tolerance values correctly.\"\n>>> # fmt: on\n",
         "hidden": false,
         "locked": false,
         "points": 0
        },
        {
         "code": ">>> # fmt: off\n>>> def f3(x: float) -> float:\n...     return x**3 - 6 * x**2 + 11 * x - 6  # Roots are 1, 2, 3\n>>> assert np.isclose(bisection_method(f3, 0, 1.5, 1e-5), 1.0, atol=1e-3), \"Test 6 Failed: The function may not be correctly narrowing down the interval.\"\n>>> # fmt: on\n",
         "hidden": false,
         "locked": false,
         "points": 0
        },
        {
         "code": ">>> # fmt: off\n>>> def f3(x: float) -> float:\n...     return x**3 - 6 * x**2 + 11 * x - 6  # Roots are 1, 2, 3\n>>> assert np.isclose(bisection_method(f3, 1.5, 2.5, 1e-5), 2.0, atol=1e-3), \"Test 7 Failed: The function may not be correctly narrowing down the interval.\"\n>>> # fmt: on\n",
         "hidden": false,
         "locked": false,
         "points": 0
        },
        {
         "code": ">>> # fmt: off\n>>> def f3(x: float) -> float:\n...     return x**3 - 6 * x**2 + 11 * x - 6  # Roots are 1, 2, 3\n>>> assert np.isclose(bisection_method(f3, 2.5, 3.5, 1e-5), 3.0, atol=1e-3), \"Test 8 Failed: The function may not be correctly narrowing down the interval.\"\n>>> # fmt: on\n",
         "hidden": false,
         "locked": false,
         "points": 0
        }
       ],
       "scored": true,
       "setup": "",
       "teardown": "",
       "type": "doctest"
      }
     ]
    },
    "q2.3": {
     "name": "q2.3",
     "points": 0,
     "suites": [
      {
       "cases": [
        {
         "code": ">>> # fmt: off\n>>> assert a > 0, \"Test 1 Failed: check the left interval value of your first guess!.\"\n>>> # fmt: on\n",
         "hidden": false,
         "locked": false,
         "points": 0
        },
        {
         "code": ">>> # fmt: off\n>>> assert b <= 0.08, \"Test 2 Failed: check the right interval value of your first guess!.\"\n>>> # fmt: on\n",
         "hidden": false,
         "locked": false,
         "points": 0
        },
        {
         "code": ">>> # fmt: off\n>>> assert atol == 1e-7, \"Test 3 Failed: 'atol' should be equal to 1e-7.\"\n>>> # fmt: on\n",
         "hidden": false,
         "locked": false,
         "points": 0
        },
        {
         "code": ">>> # fmt: off\n>>> a = 0.001\n>>> b = 0.08\n>>> atol = 1e-7\n>>> try:\n...     root = bisection_method(colebrook_white, a, b, atol)\n...     assert root is not None, \"Test 4 Failed: The function call should return a root.\"\n... except Exception as e:\n...     print(f\"Test 4 Failed: The function call raised an exception: {e}\")\n>>> # fmt: on\n",
         "hidden": false,
         "locked": false,
         "points": 0
        }
       ],
       "scored": true,
       "setup": "",
       "teardown": "",
       "type": "doctest"
      }
     ]
    },
    "q2.4": {
     "name": "q2.4",
     "points": 0,
     "suites": [
      {
       "cases": [
        {
         "code": ">>> # fmt: off\n>>> assert type(root(colebrook_white, x0 = x0, method = method, tol = tol)) is not None, \"Test failed: The result of scipy.optimize.root should not be None!\"\n>>> # fmt: on\n",
         "hidden": false,
         "locked": false,
         "points": 0
        },
        {
         "code": ">>> # fmt: off\n>>> x0 = 0.05 \n>>> method = 'lm' \n>>> tol = 1E-7 \n>>> assert type(root(colebrook_white, x0 = x0, method = method, tol = tol)) == scipy.optimize.OptimizeResult, \"Test failed: Result should be of type scipy.optimize._optimize.OptimizeResult.\"\n>>> # fmt: on\n",
         "hidden": false,
         "locked": false,
         "points": 0
        }
       ],
       "scored": true,
       "setup": "",
       "teardown": "",
       "type": "doctest"
      }
     ]
    }
   }
  },
  "vscode": {
   "interpreter": {
    "hash": "a554ffc75d44ef3efff5b00d93b4dacdc0fc3fa5c42ef6e05a5d98de555809eb"
   }
  }
 },
 "nbformat": 4,
 "nbformat_minor": 5
}
